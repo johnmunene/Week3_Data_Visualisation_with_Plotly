{
  "nbformat": 4,
  "nbformat_minor": 0,
  "metadata": {
    "colab": {
      "provenance": [],
      "collapsed_sections": []
    },
    "kernelspec": {
      "name": "python3",
      "display_name": "Python 3"
    },
    "language_info": {
      "name": "python"
    }
  },
  "cells": [
    {
      "cell_type": "markdown",
      "metadata": {
        "id": "Xo2MTJJ5DkUn"
      },
      "source": [
        "<font color=\"blue\">To use this notebook on Colaboratory, you will need to make a copy of it. Go to File > Save a Copy in Drive. You can then use the new copy that will appear in the new tab.</font>\n"
      ]
    },
    {
      "cell_type": "markdown",
      "metadata": {
        "id": "_wkOYDvBDNmo"
      },
      "source": [
        "# Mobile Penetration In Africa"
      ]
    },
    {
      "cell_type": "markdown",
      "source": [
        "you will require to answer the below questions for analysis in regard to Kenya:\n",
        "\n",
        "1. what has been the trend of mobile penetration in Africa?\n",
        "2. is there relationship between mobile penetration , internet connectivity and fixed telephony?\n",
        "3. Which countries has the lowest mobile penetration? (business opportunity)\n",
        "4. Which countries has the lowest internet connectivity penetration? (does it relate with mobile penetration)\n"
      ],
      "metadata": {
        "id": "jkVSYKsv3Xfl"
      }
    },
    {
      "cell_type": "markdown",
      "metadata": {
        "id": "8a_YHaZbDTfO"
      },
      "source": [
        "### Prerequisites"
      ]
    },
    {
      "cell_type": "markdown",
      "source": [],
      "metadata": {
        "id": "nBGmFVfD3Vhw"
      }
    },
    {
      "cell_type": "code",
      "metadata": {
        "id": "m7R0YMQ-DVt9",
        "colab": {
          "base_uri": "https://localhost:8080/"
        },
        "outputId": "11e46bbd-5ab5-4e5f-9c30-9d23ee05b9d7"
      },
      "source": [
        "# Import pandas for data manipulation\n",
        "import pandas as pd\n",
        "\n",
        "# Import numpy for scientific computations\n",
        "import numpy as np\n",
        "\n",
        "# Import plotly library for data visualisation\n",
        "# ---\n",
        "# `plotly.express` contains plotly.py's core functionality\n",
        "# ----\n",
        "#\n",
        "import plotly.express as px\n",
        "# install chart studio\n",
        "!pip install chart_studio\n",
        "\n",
        "# import chart studio\n",
        "import chart_studio"
      ],
      "execution_count": 2,
      "outputs": [
        {
          "output_type": "stream",
          "name": "stdout",
          "text": [
            "Looking in indexes: https://pypi.org/simple, https://us-python.pkg.dev/colab-wheels/public/simple/\n",
            "Collecting chart_studio\n",
            "  Downloading chart_studio-1.1.0-py3-none-any.whl (64 kB)\n",
            "\u001b[?25l\r\u001b[K     |█████                           | 10 kB 34.2 MB/s eta 0:00:01\r\u001b[K     |██████████▏                     | 20 kB 43.2 MB/s eta 0:00:01\r\u001b[K     |███████████████▎                | 30 kB 49.7 MB/s eta 0:00:01\r\u001b[K     |████████████████████▍           | 40 kB 25.5 MB/s eta 0:00:01\r\u001b[K     |█████████████████████████▍      | 51 kB 26.9 MB/s eta 0:00:01\r\u001b[K     |██████████████████████████████▌ | 61 kB 30.2 MB/s eta 0:00:01\r\u001b[K     |████████████████████████████████| 64 kB 3.5 MB/s \n",
            "\u001b[?25hRequirement already satisfied: plotly in /usr/local/lib/python3.7/dist-packages (from chart_studio) (5.5.0)\n",
            "Collecting retrying>=1.3.3\n",
            "  Downloading retrying-1.3.3.tar.gz (10 kB)\n",
            "Requirement already satisfied: six in /usr/local/lib/python3.7/dist-packages (from chart_studio) (1.15.0)\n",
            "Requirement already satisfied: requests in /usr/local/lib/python3.7/dist-packages (from chart_studio) (2.23.0)\n",
            "Requirement already satisfied: tenacity>=6.2.0 in /usr/local/lib/python3.7/dist-packages (from plotly->chart_studio) (8.1.0)\n",
            "Requirement already satisfied: chardet<4,>=3.0.2 in /usr/local/lib/python3.7/dist-packages (from requests->chart_studio) (3.0.4)\n",
            "Requirement already satisfied: urllib3!=1.25.0,!=1.25.1,<1.26,>=1.21.1 in /usr/local/lib/python3.7/dist-packages (from requests->chart_studio) (1.24.3)\n",
            "Requirement already satisfied: idna<3,>=2.5 in /usr/local/lib/python3.7/dist-packages (from requests->chart_studio) (2.10)\n",
            "Requirement already satisfied: certifi>=2017.4.17 in /usr/local/lib/python3.7/dist-packages (from requests->chart_studio) (2022.9.24)\n",
            "Building wheels for collected packages: retrying\n",
            "  Building wheel for retrying (setup.py) ... \u001b[?25l\u001b[?25hdone\n",
            "  Created wheel for retrying: filename=retrying-1.3.3-py3-none-any.whl size=11447 sha256=e5412ec816a0c5a282d42076f78b7b7b86f392e1905197ef6555207699f2adb6\n",
            "  Stored in directory: /root/.cache/pip/wheels/f9/8d/8d/f6af3f7f9eea3553bc2fe6d53e4b287dad18b06a861ac56ddf\n",
            "Successfully built retrying\n",
            "Installing collected packages: retrying, chart-studio\n",
            "Successfully installed chart-studio-1.1.0 retrying-1.3.3\n"
          ]
        }
      ]
    },
    {
      "cell_type": "markdown",
      "metadata": {
        "id": "5CSVq-BVDVMm"
      },
      "source": [
        "### 1. Obtain a Data\n",
        "The following data is from World Bank Data\n",
        "Bank"
      ]
    },
    {
      "cell_type": "markdown",
      "metadata": {
        "id": "-Q9Tx4B4HT_E"
      },
      "source": [
        "#### 1.1 Reading data"
      ]
    },
    {
      "cell_type": "code",
      "metadata": {
        "id": "pYiXpqwOGpLv",
        "outputId": "f9521095-be91-492e-aced-ec2daba425eb",
        "colab": {
          "base_uri": "https://localhost:8080/",
          "height": 577
        }
      },
      "source": [
        "# Data Url : https://bit.ly/MobileDataset\n",
        "# use pandas to read and dispay the first 5 values\n",
        "\n",
        "kenya_indicators_df = pd.read_csv(\"/content/API_KEN_DS2_en_csv_v2_4628862.csv\")\n",
        "\n",
        "kenya_indicators_df.head()"
      ],
      "execution_count": 4,
      "outputs": [
        {
          "output_type": "execute_result",
          "data": {
            "text/plain": [
              "  Country Name Country Code  \\\n",
              "0        Kenya          KEN   \n",
              "1        Kenya          KEN   \n",
              "2        Kenya          KEN   \n",
              "3        Kenya          KEN   \n",
              "4        Kenya          KEN   \n",
              "\n",
              "                                      Indicator Name     Indicator Code  \\\n",
              "0     Intentional homicides, male (per 100,000 male)  VC.IHR.PSRC.MA.P5   \n",
              "1  Internally displaced persons, new displacement...        VC.IDP.NWCV   \n",
              "2  High-technology exports (% of manufactured exp...  TX.VAL.TECH.MF.ZS   \n",
              "3                    Export value index (2000 = 100)  TX.VAL.MRCH.XD.WD   \n",
              "4  Merchandise exports to low- and middle-income ...  TX.VAL.MRCH.R6.ZS   \n",
              "\n",
              "       1960      1961      1962       1963      1964      1965  ...  \\\n",
              "0       NaN       NaN       NaN        NaN       NaN       NaN  ...   \n",
              "1       NaN       NaN       NaN        NaN       NaN       NaN  ...   \n",
              "2       NaN       NaN       NaN        NaN       NaN       NaN  ...   \n",
              "3       NaN       NaN       NaN        NaN       NaN       NaN  ...   \n",
              "4  8.113036  9.694323  9.531635  10.085837  8.265027  8.917197  ...   \n",
              "\n",
              "            2012          2013           2014        2015        2016  \\\n",
              "0            NaN           NaN       7.684955    6.937016    7.076016   \n",
              "1  118000.000000  55000.000000  220000.000000         NaN         NaN   \n",
              "2            NaN      4.068781            NaN    4.365946    7.586035   \n",
              "3     353.369283    337.707711     352.670301  340.635295  328.446358   \n",
              "4      41.359574     40.266722      37.867032   37.381528   36.457438   \n",
              "\n",
              "           2017          2018         2019         2020    2021  \n",
              "0      8.147889      4.433326     4.517199     5.277237     NaN  \n",
              "1  24000.000000  10000.000000  1800.000000  3900.000000  4600.0  \n",
              "2      3.348549      3.612961     4.592516     5.111708     NaN  \n",
              "3    331.471695    349.012595   336.740344   347.984056     NaN  \n",
              "4     34.011810     31.525865    33.772358    34.334752     NaN  \n",
              "\n",
              "[5 rows x 66 columns]"
            ],
            "text/html": [
              "\n",
              "  <div id=\"df-5309f9a3-27e3-4e40-8bac-ad43c39833a1\">\n",
              "    <div class=\"colab-df-container\">\n",
              "      <div>\n",
              "<style scoped>\n",
              "    .dataframe tbody tr th:only-of-type {\n",
              "        vertical-align: middle;\n",
              "    }\n",
              "\n",
              "    .dataframe tbody tr th {\n",
              "        vertical-align: top;\n",
              "    }\n",
              "\n",
              "    .dataframe thead th {\n",
              "        text-align: right;\n",
              "    }\n",
              "</style>\n",
              "<table border=\"1\" class=\"dataframe\">\n",
              "  <thead>\n",
              "    <tr style=\"text-align: right;\">\n",
              "      <th></th>\n",
              "      <th>Country Name</th>\n",
              "      <th>Country Code</th>\n",
              "      <th>Indicator Name</th>\n",
              "      <th>Indicator Code</th>\n",
              "      <th>1960</th>\n",
              "      <th>1961</th>\n",
              "      <th>1962</th>\n",
              "      <th>1963</th>\n",
              "      <th>1964</th>\n",
              "      <th>1965</th>\n",
              "      <th>...</th>\n",
              "      <th>2012</th>\n",
              "      <th>2013</th>\n",
              "      <th>2014</th>\n",
              "      <th>2015</th>\n",
              "      <th>2016</th>\n",
              "      <th>2017</th>\n",
              "      <th>2018</th>\n",
              "      <th>2019</th>\n",
              "      <th>2020</th>\n",
              "      <th>2021</th>\n",
              "    </tr>\n",
              "  </thead>\n",
              "  <tbody>\n",
              "    <tr>\n",
              "      <th>0</th>\n",
              "      <td>Kenya</td>\n",
              "      <td>KEN</td>\n",
              "      <td>Intentional homicides, male (per 100,000 male)</td>\n",
              "      <td>VC.IHR.PSRC.MA.P5</td>\n",
              "      <td>NaN</td>\n",
              "      <td>NaN</td>\n",
              "      <td>NaN</td>\n",
              "      <td>NaN</td>\n",
              "      <td>NaN</td>\n",
              "      <td>NaN</td>\n",
              "      <td>...</td>\n",
              "      <td>NaN</td>\n",
              "      <td>NaN</td>\n",
              "      <td>7.684955</td>\n",
              "      <td>6.937016</td>\n",
              "      <td>7.076016</td>\n",
              "      <td>8.147889</td>\n",
              "      <td>4.433326</td>\n",
              "      <td>4.517199</td>\n",
              "      <td>5.277237</td>\n",
              "      <td>NaN</td>\n",
              "    </tr>\n",
              "    <tr>\n",
              "      <th>1</th>\n",
              "      <td>Kenya</td>\n",
              "      <td>KEN</td>\n",
              "      <td>Internally displaced persons, new displacement...</td>\n",
              "      <td>VC.IDP.NWCV</td>\n",
              "      <td>NaN</td>\n",
              "      <td>NaN</td>\n",
              "      <td>NaN</td>\n",
              "      <td>NaN</td>\n",
              "      <td>NaN</td>\n",
              "      <td>NaN</td>\n",
              "      <td>...</td>\n",
              "      <td>118000.000000</td>\n",
              "      <td>55000.000000</td>\n",
              "      <td>220000.000000</td>\n",
              "      <td>NaN</td>\n",
              "      <td>NaN</td>\n",
              "      <td>24000.000000</td>\n",
              "      <td>10000.000000</td>\n",
              "      <td>1800.000000</td>\n",
              "      <td>3900.000000</td>\n",
              "      <td>4600.0</td>\n",
              "    </tr>\n",
              "    <tr>\n",
              "      <th>2</th>\n",
              "      <td>Kenya</td>\n",
              "      <td>KEN</td>\n",
              "      <td>High-technology exports (% of manufactured exp...</td>\n",
              "      <td>TX.VAL.TECH.MF.ZS</td>\n",
              "      <td>NaN</td>\n",
              "      <td>NaN</td>\n",
              "      <td>NaN</td>\n",
              "      <td>NaN</td>\n",
              "      <td>NaN</td>\n",
              "      <td>NaN</td>\n",
              "      <td>...</td>\n",
              "      <td>NaN</td>\n",
              "      <td>4.068781</td>\n",
              "      <td>NaN</td>\n",
              "      <td>4.365946</td>\n",
              "      <td>7.586035</td>\n",
              "      <td>3.348549</td>\n",
              "      <td>3.612961</td>\n",
              "      <td>4.592516</td>\n",
              "      <td>5.111708</td>\n",
              "      <td>NaN</td>\n",
              "    </tr>\n",
              "    <tr>\n",
              "      <th>3</th>\n",
              "      <td>Kenya</td>\n",
              "      <td>KEN</td>\n",
              "      <td>Export value index (2000 = 100)</td>\n",
              "      <td>TX.VAL.MRCH.XD.WD</td>\n",
              "      <td>NaN</td>\n",
              "      <td>NaN</td>\n",
              "      <td>NaN</td>\n",
              "      <td>NaN</td>\n",
              "      <td>NaN</td>\n",
              "      <td>NaN</td>\n",
              "      <td>...</td>\n",
              "      <td>353.369283</td>\n",
              "      <td>337.707711</td>\n",
              "      <td>352.670301</td>\n",
              "      <td>340.635295</td>\n",
              "      <td>328.446358</td>\n",
              "      <td>331.471695</td>\n",
              "      <td>349.012595</td>\n",
              "      <td>336.740344</td>\n",
              "      <td>347.984056</td>\n",
              "      <td>NaN</td>\n",
              "    </tr>\n",
              "    <tr>\n",
              "      <th>4</th>\n",
              "      <td>Kenya</td>\n",
              "      <td>KEN</td>\n",
              "      <td>Merchandise exports to low- and middle-income ...</td>\n",
              "      <td>TX.VAL.MRCH.R6.ZS</td>\n",
              "      <td>8.113036</td>\n",
              "      <td>9.694323</td>\n",
              "      <td>9.531635</td>\n",
              "      <td>10.085837</td>\n",
              "      <td>8.265027</td>\n",
              "      <td>8.917197</td>\n",
              "      <td>...</td>\n",
              "      <td>41.359574</td>\n",
              "      <td>40.266722</td>\n",
              "      <td>37.867032</td>\n",
              "      <td>37.381528</td>\n",
              "      <td>36.457438</td>\n",
              "      <td>34.011810</td>\n",
              "      <td>31.525865</td>\n",
              "      <td>33.772358</td>\n",
              "      <td>34.334752</td>\n",
              "      <td>NaN</td>\n",
              "    </tr>\n",
              "  </tbody>\n",
              "</table>\n",
              "<p>5 rows × 66 columns</p>\n",
              "</div>\n",
              "      <button class=\"colab-df-convert\" onclick=\"convertToInteractive('df-5309f9a3-27e3-4e40-8bac-ad43c39833a1')\"\n",
              "              title=\"Convert this dataframe to an interactive table.\"\n",
              "              style=\"display:none;\">\n",
              "        \n",
              "  <svg xmlns=\"http://www.w3.org/2000/svg\" height=\"24px\"viewBox=\"0 0 24 24\"\n",
              "       width=\"24px\">\n",
              "    <path d=\"M0 0h24v24H0V0z\" fill=\"none\"/>\n",
              "    <path d=\"M18.56 5.44l.94 2.06.94-2.06 2.06-.94-2.06-.94-.94-2.06-.94 2.06-2.06.94zm-11 1L8.5 8.5l.94-2.06 2.06-.94-2.06-.94L8.5 2.5l-.94 2.06-2.06.94zm10 10l.94 2.06.94-2.06 2.06-.94-2.06-.94-.94-2.06-.94 2.06-2.06.94z\"/><path d=\"M17.41 7.96l-1.37-1.37c-.4-.4-.92-.59-1.43-.59-.52 0-1.04.2-1.43.59L10.3 9.45l-7.72 7.72c-.78.78-.78 2.05 0 2.83L4 21.41c.39.39.9.59 1.41.59.51 0 1.02-.2 1.41-.59l7.78-7.78 2.81-2.81c.8-.78.8-2.07 0-2.86zM5.41 20L4 18.59l7.72-7.72 1.47 1.35L5.41 20z\"/>\n",
              "  </svg>\n",
              "      </button>\n",
              "      \n",
              "  <style>\n",
              "    .colab-df-container {\n",
              "      display:flex;\n",
              "      flex-wrap:wrap;\n",
              "      gap: 12px;\n",
              "    }\n",
              "\n",
              "    .colab-df-convert {\n",
              "      background-color: #E8F0FE;\n",
              "      border: none;\n",
              "      border-radius: 50%;\n",
              "      cursor: pointer;\n",
              "      display: none;\n",
              "      fill: #1967D2;\n",
              "      height: 32px;\n",
              "      padding: 0 0 0 0;\n",
              "      width: 32px;\n",
              "    }\n",
              "\n",
              "    .colab-df-convert:hover {\n",
              "      background-color: #E2EBFA;\n",
              "      box-shadow: 0px 1px 2px rgba(60, 64, 67, 0.3), 0px 1px 3px 1px rgba(60, 64, 67, 0.15);\n",
              "      fill: #174EA6;\n",
              "    }\n",
              "\n",
              "    [theme=dark] .colab-df-convert {\n",
              "      background-color: #3B4455;\n",
              "      fill: #D2E3FC;\n",
              "    }\n",
              "\n",
              "    [theme=dark] .colab-df-convert:hover {\n",
              "      background-color: #434B5C;\n",
              "      box-shadow: 0px 1px 3px 1px rgba(0, 0, 0, 0.15);\n",
              "      filter: drop-shadow(0px 1px 2px rgba(0, 0, 0, 0.3));\n",
              "      fill: #FFFFFF;\n",
              "    }\n",
              "  </style>\n",
              "\n",
              "      <script>\n",
              "        const buttonEl =\n",
              "          document.querySelector('#df-5309f9a3-27e3-4e40-8bac-ad43c39833a1 button.colab-df-convert');\n",
              "        buttonEl.style.display =\n",
              "          google.colab.kernel.accessAllowed ? 'block' : 'none';\n",
              "\n",
              "        async function convertToInteractive(key) {\n",
              "          const element = document.querySelector('#df-5309f9a3-27e3-4e40-8bac-ad43c39833a1');\n",
              "          const dataTable =\n",
              "            await google.colab.kernel.invokeFunction('convertToInteractive',\n",
              "                                                     [key], {});\n",
              "          if (!dataTable) return;\n",
              "\n",
              "          const docLinkHtml = 'Like what you see? Visit the ' +\n",
              "            '<a target=\"_blank\" href=https://colab.research.google.com/notebooks/data_table.ipynb>data table notebook</a>'\n",
              "            + ' to learn more about interactive tables.';\n",
              "          element.innerHTML = '';\n",
              "          dataTable['output_type'] = 'display_data';\n",
              "          await google.colab.output.renderOutput(dataTable, element);\n",
              "          const docLink = document.createElement('div');\n",
              "          docLink.innerHTML = docLinkHtml;\n",
              "          element.appendChild(docLink);\n",
              "        }\n",
              "      </script>\n",
              "    </div>\n",
              "  </div>\n",
              "  "
            ]
          },
          "metadata": {},
          "execution_count": 4
        }
      ]
    },
    {
      "cell_type": "code",
      "source": [
        "#display the columns\n",
        "kenya_indicators_df.columns"
      ],
      "metadata": {
        "colab": {
          "base_uri": "https://localhost:8080/"
        },
        "id": "U-DExxNqhDMV",
        "outputId": "0c0366a7-4617-49c4-f4cb-791179e07585"
      },
      "execution_count": 5,
      "outputs": [
        {
          "output_type": "execute_result",
          "data": {
            "text/plain": [
              "Index(['Country Name', 'Country Code', 'Indicator Name', 'Indicator Code',\n",
              "       '1960', '1961', '1962', '1963', '1964', '1965', '1966', '1967', '1968',\n",
              "       '1969', '1970', '1971', '1972', '1973', '1974', '1975', '1976', '1977',\n",
              "       '1978', '1979', '1980', '1981', '1982', '1983', '1984', '1985', '1986',\n",
              "       '1987', '1988', '1989', '1990', '1991', '1992', '1993', '1994', '1995',\n",
              "       '1996', '1997', '1998', '1999', '2000', '2001', '2002', '2003', '2004',\n",
              "       '2005', '2006', '2007', '2008', '2009', '2010', '2011', '2012', '2013',\n",
              "       '2014', '2015', '2016', '2017', '2018', '2019', '2020', '2021'],\n",
              "      dtype='object')"
            ]
          },
          "metadata": {},
          "execution_count": 5
        }
      ]
    },
    {
      "cell_type": "code",
      "source": [
        "#check the size\n",
        "kenya_indicators_df.shape"
      ],
      "metadata": {
        "colab": {
          "base_uri": "https://localhost:8080/"
        },
        "id": "KeMSyLER97ma",
        "outputId": "f587901a-6245-4a7f-c154-bd519e6a8226"
      },
      "execution_count": 24,
      "outputs": [
        {
          "output_type": "execute_result",
          "data": {
            "text/plain": [
              "(1442, 66)"
            ]
          },
          "metadata": {},
          "execution_count": 24
        }
      ]
    },
    {
      "cell_type": "markdown",
      "source": [
        "# 2. Data cleaning"
      ],
      "metadata": {
        "id": "nI33auJrIB3T"
      }
    },
    {
      "cell_type": "code",
      "source": [
        "#Drop unneccessary columns( country,country code and indicator code)\n",
        "kenya_indicators_df.drop(columns =['Country Name','Country Code','Indicator Code'] , inplace=True)"
      ],
      "metadata": {
        "id": "TjbGvyg1-Zbq"
      },
      "execution_count": 6,
      "outputs": []
    },
    {
      "cell_type": "code",
      "source": [
        "#checking duplicates\n",
        "kenya_indicators_df.duplicated().any()"
      ],
      "metadata": {
        "colab": {
          "base_uri": "https://localhost:8080/"
        },
        "id": "2JbbNlNU_2zd",
        "outputId": "c5077f0b-49d5-4639-8d64-9bee4f2e0e81"
      },
      "execution_count": 7,
      "outputs": [
        {
          "output_type": "execute_result",
          "data": {
            "text/plain": [
              "False"
            ]
          },
          "metadata": {},
          "execution_count": 7
        }
      ]
    },
    {
      "cell_type": "code",
      "source": [
        "#set all headers into lower case, replace spaces and join with -\n",
        "kenya_indicators_df.columns =kenya_indicators_df.columns.str.lower().str.strip().str.replace(' ', '_')\n",
        "kenya_indicators_df.columns"
      ],
      "metadata": {
        "colab": {
          "base_uri": "https://localhost:8080/"
        },
        "id": "1GPnIqlWJji-",
        "outputId": "8a73f212-3a79-4c79-b655-f83ea0f4aa96"
      },
      "execution_count": 8,
      "outputs": [
        {
          "output_type": "execute_result",
          "data": {
            "text/plain": [
              "Index(['indicator_name', '1960', '1961', '1962', '1963', '1964', '1965',\n",
              "       '1966', '1967', '1968', '1969', '1970', '1971', '1972', '1973', '1974',\n",
              "       '1975', '1976', '1977', '1978', '1979', '1980', '1981', '1982', '1983',\n",
              "       '1984', '1985', '1986', '1987', '1988', '1989', '1990', '1991', '1992',\n",
              "       '1993', '1994', '1995', '1996', '1997', '1998', '1999', '2000', '2001',\n",
              "       '2002', '2003', '2004', '2005', '2006', '2007', '2008', '2009', '2010',\n",
              "       '2011', '2012', '2013', '2014', '2015', '2016', '2017', '2018', '2019',\n",
              "       '2020', '2021'],\n",
              "      dtype='object')"
            ]
          },
          "metadata": {},
          "execution_count": 8
        }
      ]
    },
    {
      "cell_type": "code",
      "source": [
        "#convert the dat to usable data frame for visualization\n",
        "kenya_clean_indicators_df = pd.melt(kenya_indicators_df, id_vars='indicator_name', var_name ='Year', value_name='indicator')\n",
        "kenya_clean_indicators_df.head()\n"
      ],
      "metadata": {
        "colab": {
          "base_uri": "https://localhost:8080/",
          "height": 206
        },
        "id": "_aOQ3oaZTsWv",
        "outputId": "f4d50d20-81d2-4cd7-baa0-2f0269b8e82a"
      },
      "execution_count": 9,
      "outputs": [
        {
          "output_type": "execute_result",
          "data": {
            "text/plain": [
              "                                      indicator_name  Year  indicator\n",
              "0     Intentional homicides, male (per 100,000 male)  1960        NaN\n",
              "1  Internally displaced persons, new displacement...  1960        NaN\n",
              "2  High-technology exports (% of manufactured exp...  1960        NaN\n",
              "3                    Export value index (2000 = 100)  1960        NaN\n",
              "4  Merchandise exports to low- and middle-income ...  1960   8.113036"
            ],
            "text/html": [
              "\n",
              "  <div id=\"df-96f685fb-0095-4044-95f0-41ab15f5cd92\">\n",
              "    <div class=\"colab-df-container\">\n",
              "      <div>\n",
              "<style scoped>\n",
              "    .dataframe tbody tr th:only-of-type {\n",
              "        vertical-align: middle;\n",
              "    }\n",
              "\n",
              "    .dataframe tbody tr th {\n",
              "        vertical-align: top;\n",
              "    }\n",
              "\n",
              "    .dataframe thead th {\n",
              "        text-align: right;\n",
              "    }\n",
              "</style>\n",
              "<table border=\"1\" class=\"dataframe\">\n",
              "  <thead>\n",
              "    <tr style=\"text-align: right;\">\n",
              "      <th></th>\n",
              "      <th>indicator_name</th>\n",
              "      <th>Year</th>\n",
              "      <th>indicator</th>\n",
              "    </tr>\n",
              "  </thead>\n",
              "  <tbody>\n",
              "    <tr>\n",
              "      <th>0</th>\n",
              "      <td>Intentional homicides, male (per 100,000 male)</td>\n",
              "      <td>1960</td>\n",
              "      <td>NaN</td>\n",
              "    </tr>\n",
              "    <tr>\n",
              "      <th>1</th>\n",
              "      <td>Internally displaced persons, new displacement...</td>\n",
              "      <td>1960</td>\n",
              "      <td>NaN</td>\n",
              "    </tr>\n",
              "    <tr>\n",
              "      <th>2</th>\n",
              "      <td>High-technology exports (% of manufactured exp...</td>\n",
              "      <td>1960</td>\n",
              "      <td>NaN</td>\n",
              "    </tr>\n",
              "    <tr>\n",
              "      <th>3</th>\n",
              "      <td>Export value index (2000 = 100)</td>\n",
              "      <td>1960</td>\n",
              "      <td>NaN</td>\n",
              "    </tr>\n",
              "    <tr>\n",
              "      <th>4</th>\n",
              "      <td>Merchandise exports to low- and middle-income ...</td>\n",
              "      <td>1960</td>\n",
              "      <td>8.113036</td>\n",
              "    </tr>\n",
              "  </tbody>\n",
              "</table>\n",
              "</div>\n",
              "      <button class=\"colab-df-convert\" onclick=\"convertToInteractive('df-96f685fb-0095-4044-95f0-41ab15f5cd92')\"\n",
              "              title=\"Convert this dataframe to an interactive table.\"\n",
              "              style=\"display:none;\">\n",
              "        \n",
              "  <svg xmlns=\"http://www.w3.org/2000/svg\" height=\"24px\"viewBox=\"0 0 24 24\"\n",
              "       width=\"24px\">\n",
              "    <path d=\"M0 0h24v24H0V0z\" fill=\"none\"/>\n",
              "    <path d=\"M18.56 5.44l.94 2.06.94-2.06 2.06-.94-2.06-.94-.94-2.06-.94 2.06-2.06.94zm-11 1L8.5 8.5l.94-2.06 2.06-.94-2.06-.94L8.5 2.5l-.94 2.06-2.06.94zm10 10l.94 2.06.94-2.06 2.06-.94-2.06-.94-.94-2.06-.94 2.06-2.06.94z\"/><path d=\"M17.41 7.96l-1.37-1.37c-.4-.4-.92-.59-1.43-.59-.52 0-1.04.2-1.43.59L10.3 9.45l-7.72 7.72c-.78.78-.78 2.05 0 2.83L4 21.41c.39.39.9.59 1.41.59.51 0 1.02-.2 1.41-.59l7.78-7.78 2.81-2.81c.8-.78.8-2.07 0-2.86zM5.41 20L4 18.59l7.72-7.72 1.47 1.35L5.41 20z\"/>\n",
              "  </svg>\n",
              "      </button>\n",
              "      \n",
              "  <style>\n",
              "    .colab-df-container {\n",
              "      display:flex;\n",
              "      flex-wrap:wrap;\n",
              "      gap: 12px;\n",
              "    }\n",
              "\n",
              "    .colab-df-convert {\n",
              "      background-color: #E8F0FE;\n",
              "      border: none;\n",
              "      border-radius: 50%;\n",
              "      cursor: pointer;\n",
              "      display: none;\n",
              "      fill: #1967D2;\n",
              "      height: 32px;\n",
              "      padding: 0 0 0 0;\n",
              "      width: 32px;\n",
              "    }\n",
              "\n",
              "    .colab-df-convert:hover {\n",
              "      background-color: #E2EBFA;\n",
              "      box-shadow: 0px 1px 2px rgba(60, 64, 67, 0.3), 0px 1px 3px 1px rgba(60, 64, 67, 0.15);\n",
              "      fill: #174EA6;\n",
              "    }\n",
              "\n",
              "    [theme=dark] .colab-df-convert {\n",
              "      background-color: #3B4455;\n",
              "      fill: #D2E3FC;\n",
              "    }\n",
              "\n",
              "    [theme=dark] .colab-df-convert:hover {\n",
              "      background-color: #434B5C;\n",
              "      box-shadow: 0px 1px 3px 1px rgba(0, 0, 0, 0.15);\n",
              "      filter: drop-shadow(0px 1px 2px rgba(0, 0, 0, 0.3));\n",
              "      fill: #FFFFFF;\n",
              "    }\n",
              "  </style>\n",
              "\n",
              "      <script>\n",
              "        const buttonEl =\n",
              "          document.querySelector('#df-96f685fb-0095-4044-95f0-41ab15f5cd92 button.colab-df-convert');\n",
              "        buttonEl.style.display =\n",
              "          google.colab.kernel.accessAllowed ? 'block' : 'none';\n",
              "\n",
              "        async function convertToInteractive(key) {\n",
              "          const element = document.querySelector('#df-96f685fb-0095-4044-95f0-41ab15f5cd92');\n",
              "          const dataTable =\n",
              "            await google.colab.kernel.invokeFunction('convertToInteractive',\n",
              "                                                     [key], {});\n",
              "          if (!dataTable) return;\n",
              "\n",
              "          const docLinkHtml = 'Like what you see? Visit the ' +\n",
              "            '<a target=\"_blank\" href=https://colab.research.google.com/notebooks/data_table.ipynb>data table notebook</a>'\n",
              "            + ' to learn more about interactive tables.';\n",
              "          element.innerHTML = '';\n",
              "          dataTable['output_type'] = 'display_data';\n",
              "          await google.colab.output.renderOutput(dataTable, element);\n",
              "          const docLink = document.createElement('div');\n",
              "          docLink.innerHTML = docLinkHtml;\n",
              "          element.appendChild(docLink);\n",
              "        }\n",
              "      </script>\n",
              "    </div>\n",
              "  </div>\n",
              "  "
            ]
          },
          "metadata": {},
          "execution_count": 9
        }
      ]
    },
    {
      "cell_type": "code",
      "source": [
        "kenya_clean_indicators_df.dtypes"
      ],
      "metadata": {
        "colab": {
          "base_uri": "https://localhost:8080/"
        },
        "id": "Hao__gCN7e3O",
        "outputId": "00765bb7-7a26-4c65-de9e-a79ff5dfbb39"
      },
      "execution_count": 10,
      "outputs": [
        {
          "output_type": "execute_result",
          "data": {
            "text/plain": [
              "indicator_name     object\n",
              "Year               object\n",
              "indicator         float64\n",
              "dtype: object"
            ]
          },
          "metadata": {},
          "execution_count": 10
        }
      ]
    },
    {
      "cell_type": "code",
      "source": [
        "#checking missing data\n",
        "kenya_clean_indicators_df.isna().sum()"
      ],
      "metadata": {
        "colab": {
          "base_uri": "https://localhost:8080/"
        },
        "id": "amHrudQ9VW0Q",
        "outputId": "ca12d0f9-0b12-49e4-8ce5-28b353497df5"
      },
      "execution_count": 35,
      "outputs": [
        {
          "output_type": "execute_result",
          "data": {
            "text/plain": [
              "indicator_name        0\n",
              "Year                  0\n",
              "indicator         49639\n",
              "dtype: int64"
            ]
          },
          "metadata": {},
          "execution_count": 35
        }
      ]
    },
    {
      "cell_type": "markdown",
      "source": [
        "We have alot of data missing on indicator values, since we can not source for it, we drop the missing data"
      ],
      "metadata": {
        "id": "3JIgytuTCBYn"
      }
    },
    {
      "cell_type": "code",
      "source": [
        "# drop the missing data\n",
        "kenya_clean_indicators_df.dropna(inplace=True)\n",
        "kenya_clean_indicators_df.isna().sum()"
      ],
      "metadata": {
        "colab": {
          "base_uri": "https://localhost:8080/"
        },
        "id": "wUmBOrYdB_ML",
        "outputId": "842d24ad-e409-4e55-ef59-0e8378b77fef"
      },
      "execution_count": 11,
      "outputs": [
        {
          "output_type": "execute_result",
          "data": {
            "text/plain": [
              "indicator_name    0\n",
              "Year              0\n",
              "indicator         0\n",
              "dtype: int64"
            ]
          },
          "metadata": {},
          "execution_count": 11
        }
      ]
    },
    {
      "cell_type": "markdown",
      "source": [
        "#Answering questions"
      ],
      "metadata": {
        "id": "olFpbN03Ipko"
      }
    },
    {
      "cell_type": "code",
      "source": [
        "# How is the mobile penetration in Kenya per 100 people over the years\n",
        "#filter data for mobile \n",
        "mobile_penetration_df = kenya_clean_indicators_df[kenya_clean_indicators_df.indicator_name.isin(['Mobile cellular subscriptions (per 100 people)'])]\n",
        "mobile_penetration_df.head()"
      ],
      "metadata": {
        "colab": {
          "base_uri": "https://localhost:8080/",
          "height": 206
        },
        "id": "CRWV22pEIv6H",
        "outputId": "5756680a-d387-4a91-f8f0-8da2ca880571"
      },
      "execution_count": 12,
      "outputs": [
        {
          "output_type": "execute_result",
          "data": {
            "text/plain": [
              "                                       indicator_name  Year  indicator\n",
              "398    Mobile cellular subscriptions (per 100 people)  1960        0.0\n",
              "7608   Mobile cellular subscriptions (per 100 people)  1965        0.0\n",
              "14818  Mobile cellular subscriptions (per 100 people)  1970        0.0\n",
              "22028  Mobile cellular subscriptions (per 100 people)  1975        0.0\n",
              "23470  Mobile cellular subscriptions (per 100 people)  1976        0.0"
            ],
            "text/html": [
              "\n",
              "  <div id=\"df-10e161b8-273f-47eb-87d0-9e863a901170\">\n",
              "    <div class=\"colab-df-container\">\n",
              "      <div>\n",
              "<style scoped>\n",
              "    .dataframe tbody tr th:only-of-type {\n",
              "        vertical-align: middle;\n",
              "    }\n",
              "\n",
              "    .dataframe tbody tr th {\n",
              "        vertical-align: top;\n",
              "    }\n",
              "\n",
              "    .dataframe thead th {\n",
              "        text-align: right;\n",
              "    }\n",
              "</style>\n",
              "<table border=\"1\" class=\"dataframe\">\n",
              "  <thead>\n",
              "    <tr style=\"text-align: right;\">\n",
              "      <th></th>\n",
              "      <th>indicator_name</th>\n",
              "      <th>Year</th>\n",
              "      <th>indicator</th>\n",
              "    </tr>\n",
              "  </thead>\n",
              "  <tbody>\n",
              "    <tr>\n",
              "      <th>398</th>\n",
              "      <td>Mobile cellular subscriptions (per 100 people)</td>\n",
              "      <td>1960</td>\n",
              "      <td>0.0</td>\n",
              "    </tr>\n",
              "    <tr>\n",
              "      <th>7608</th>\n",
              "      <td>Mobile cellular subscriptions (per 100 people)</td>\n",
              "      <td>1965</td>\n",
              "      <td>0.0</td>\n",
              "    </tr>\n",
              "    <tr>\n",
              "      <th>14818</th>\n",
              "      <td>Mobile cellular subscriptions (per 100 people)</td>\n",
              "      <td>1970</td>\n",
              "      <td>0.0</td>\n",
              "    </tr>\n",
              "    <tr>\n",
              "      <th>22028</th>\n",
              "      <td>Mobile cellular subscriptions (per 100 people)</td>\n",
              "      <td>1975</td>\n",
              "      <td>0.0</td>\n",
              "    </tr>\n",
              "    <tr>\n",
              "      <th>23470</th>\n",
              "      <td>Mobile cellular subscriptions (per 100 people)</td>\n",
              "      <td>1976</td>\n",
              "      <td>0.0</td>\n",
              "    </tr>\n",
              "  </tbody>\n",
              "</table>\n",
              "</div>\n",
              "      <button class=\"colab-df-convert\" onclick=\"convertToInteractive('df-10e161b8-273f-47eb-87d0-9e863a901170')\"\n",
              "              title=\"Convert this dataframe to an interactive table.\"\n",
              "              style=\"display:none;\">\n",
              "        \n",
              "  <svg xmlns=\"http://www.w3.org/2000/svg\" height=\"24px\"viewBox=\"0 0 24 24\"\n",
              "       width=\"24px\">\n",
              "    <path d=\"M0 0h24v24H0V0z\" fill=\"none\"/>\n",
              "    <path d=\"M18.56 5.44l.94 2.06.94-2.06 2.06-.94-2.06-.94-.94-2.06-.94 2.06-2.06.94zm-11 1L8.5 8.5l.94-2.06 2.06-.94-2.06-.94L8.5 2.5l-.94 2.06-2.06.94zm10 10l.94 2.06.94-2.06 2.06-.94-2.06-.94-.94-2.06-.94 2.06-2.06.94z\"/><path d=\"M17.41 7.96l-1.37-1.37c-.4-.4-.92-.59-1.43-.59-.52 0-1.04.2-1.43.59L10.3 9.45l-7.72 7.72c-.78.78-.78 2.05 0 2.83L4 21.41c.39.39.9.59 1.41.59.51 0 1.02-.2 1.41-.59l7.78-7.78 2.81-2.81c.8-.78.8-2.07 0-2.86zM5.41 20L4 18.59l7.72-7.72 1.47 1.35L5.41 20z\"/>\n",
              "  </svg>\n",
              "      </button>\n",
              "      \n",
              "  <style>\n",
              "    .colab-df-container {\n",
              "      display:flex;\n",
              "      flex-wrap:wrap;\n",
              "      gap: 12px;\n",
              "    }\n",
              "\n",
              "    .colab-df-convert {\n",
              "      background-color: #E8F0FE;\n",
              "      border: none;\n",
              "      border-radius: 50%;\n",
              "      cursor: pointer;\n",
              "      display: none;\n",
              "      fill: #1967D2;\n",
              "      height: 32px;\n",
              "      padding: 0 0 0 0;\n",
              "      width: 32px;\n",
              "    }\n",
              "\n",
              "    .colab-df-convert:hover {\n",
              "      background-color: #E2EBFA;\n",
              "      box-shadow: 0px 1px 2px rgba(60, 64, 67, 0.3), 0px 1px 3px 1px rgba(60, 64, 67, 0.15);\n",
              "      fill: #174EA6;\n",
              "    }\n",
              "\n",
              "    [theme=dark] .colab-df-convert {\n",
              "      background-color: #3B4455;\n",
              "      fill: #D2E3FC;\n",
              "    }\n",
              "\n",
              "    [theme=dark] .colab-df-convert:hover {\n",
              "      background-color: #434B5C;\n",
              "      box-shadow: 0px 1px 3px 1px rgba(0, 0, 0, 0.15);\n",
              "      filter: drop-shadow(0px 1px 2px rgba(0, 0, 0, 0.3));\n",
              "      fill: #FFFFFF;\n",
              "    }\n",
              "  </style>\n",
              "\n",
              "      <script>\n",
              "        const buttonEl =\n",
              "          document.querySelector('#df-10e161b8-273f-47eb-87d0-9e863a901170 button.colab-df-convert');\n",
              "        buttonEl.style.display =\n",
              "          google.colab.kernel.accessAllowed ? 'block' : 'none';\n",
              "\n",
              "        async function convertToInteractive(key) {\n",
              "          const element = document.querySelector('#df-10e161b8-273f-47eb-87d0-9e863a901170');\n",
              "          const dataTable =\n",
              "            await google.colab.kernel.invokeFunction('convertToInteractive',\n",
              "                                                     [key], {});\n",
              "          if (!dataTable) return;\n",
              "\n",
              "          const docLinkHtml = 'Like what you see? Visit the ' +\n",
              "            '<a target=\"_blank\" href=https://colab.research.google.com/notebooks/data_table.ipynb>data table notebook</a>'\n",
              "            + ' to learn more about interactive tables.';\n",
              "          element.innerHTML = '';\n",
              "          dataTable['output_type'] = 'display_data';\n",
              "          await google.colab.output.renderOutput(dataTable, element);\n",
              "          const docLink = document.createElement('div');\n",
              "          docLink.innerHTML = docLinkHtml;\n",
              "          element.appendChild(docLink);\n",
              "        }\n",
              "      </script>\n",
              "    </div>\n",
              "  </div>\n",
              "  "
            ]
          },
          "metadata": {},
          "execution_count": 12
        }
      ]
    },
    {
      "cell_type": "code",
      "source": [
        "#use ploty express line bar to represent this\n",
        "fig = px.line(\n",
        "    mobile_penetration_df, \n",
        "    x = \"Year\",\n",
        "    y = \"indicator\",\n",
        "    height = 500, \n",
        "    width = 800,\n",
        "    color_discrete_sequence = px.colors.qualitative.Pastel\n",
        "  )\n",
        "\n",
        "# Tweak and Label\n",
        "fig.update_layout(\n",
        "    title = {\n",
        "        'text': 'Mobile cellular subscriptions (per 100 people)', \n",
        "        'x': 0.5,\n",
        "        'font_size' : 15,\n",
        "        'xanchor': 'center',\n",
        "        'yanchor': 'top'},\n",
        "    xaxis_title_text = 'Years',\n",
        "    yaxis_title_text = 'percentage'\n",
        "  ) \n",
        "\n",
        "# Display\n",
        "fig.show()"
      ],
      "metadata": {
        "colab": {
          "base_uri": "https://localhost:8080/",
          "height": 517
        },
        "id": "zxb5EAuacV6J",
        "outputId": "14bfdc62-7117-4444-89ab-988d70d00b8a"
      },
      "execution_count": 45,
      "outputs": [
        {
          "output_type": "display_data",
          "data": {
            "text/html": [
              "<html>\n",
              "<head><meta charset=\"utf-8\" /></head>\n",
              "<body>\n",
              "    <div>            <script src=\"https://cdnjs.cloudflare.com/ajax/libs/mathjax/2.7.5/MathJax.js?config=TeX-AMS-MML_SVG\"></script><script type=\"text/javascript\">if (window.MathJax) {MathJax.Hub.Config({SVG: {font: \"STIX-Web\"}});}</script>                <script type=\"text/javascript\">window.PlotlyConfig = {MathJaxConfig: 'local'};</script>\n",
              "        <script src=\"https://cdn.plot.ly/plotly-2.8.3.min.js\"></script>                <div id=\"ba0d08b1-ebdd-4c84-bb5b-df228570ab06\" class=\"plotly-graph-div\" style=\"height:500px; width:800px;\"></div>            <script type=\"text/javascript\">                                    window.PLOTLYENV=window.PLOTLYENV || {};                                    if (document.getElementById(\"ba0d08b1-ebdd-4c84-bb5b-df228570ab06\")) {                    Plotly.newPlot(                        \"ba0d08b1-ebdd-4c84-bb5b-df228570ab06\",                        [{\"hovertemplate\":\"Year=%{x}<br>indicator=%{y}<extra></extra>\",\"legendgroup\":\"\",\"line\":{\"color\":\"rgb(102, 197, 204)\",\"dash\":\"solid\"},\"marker\":{\"symbol\":\"circle\"},\"mode\":\"lines\",\"name\":\"\",\"orientation\":\"v\",\"showlegend\":false,\"x\":[\"1960\",\"1965\",\"1970\",\"1975\",\"1976\",\"1977\",\"1978\",\"1979\",\"1980\",\"1981\",\"1982\",\"1983\",\"1984\",\"1985\",\"1986\",\"1987\",\"1988\",\"1989\",\"1990\",\"1991\",\"1992\",\"1993\",\"1994\",\"1995\",\"1996\",\"1997\",\"1998\",\"1999\",\"2000\",\"2001\",\"2002\",\"2003\",\"2004\",\"2005\",\"2006\",\"2007\",\"2008\",\"2009\",\"2010\",\"2011\",\"2012\",\"2013\",\"2014\",\"2015\",\"2016\",\"2017\",\"2018\",\"2019\",\"2020\"],\"xaxis\":\"x\",\"y\":[0.0,0.0,0.0,0.0,0.0,0.0,0.0,0.0,0.0,0.0,0.0,0.0,0.0,0.0,0.0,0.0,0.0,0.0,0.0,0.0,0.004343349,0.004445938,0.007383904,0.008207201,0.009884765,0.023004754,0.035556451,0.076392121,0.398578964,1.826563864,3.517217291,4.587200143,7.145047389,12.59244566,19.49669464,29.32215145,40.97200639,47.34403568,59.40635121,65.03449165,69.30390445,69.92534333,72.01839698,78.77455056,79.47190398,85.25315693,96.32021675,103.7690208,114.2038756],\"yaxis\":\"y\",\"type\":\"scatter\"}],                        {\"template\":{\"data\":{\"bar\":[{\"error_x\":{\"color\":\"#2a3f5f\"},\"error_y\":{\"color\":\"#2a3f5f\"},\"marker\":{\"line\":{\"color\":\"#E5ECF6\",\"width\":0.5},\"pattern\":{\"fillmode\":\"overlay\",\"size\":10,\"solidity\":0.2}},\"type\":\"bar\"}],\"barpolar\":[{\"marker\":{\"line\":{\"color\":\"#E5ECF6\",\"width\":0.5},\"pattern\":{\"fillmode\":\"overlay\",\"size\":10,\"solidity\":0.2}},\"type\":\"barpolar\"}],\"carpet\":[{\"aaxis\":{\"endlinecolor\":\"#2a3f5f\",\"gridcolor\":\"white\",\"linecolor\":\"white\",\"minorgridcolor\":\"white\",\"startlinecolor\":\"#2a3f5f\"},\"baxis\":{\"endlinecolor\":\"#2a3f5f\",\"gridcolor\":\"white\",\"linecolor\":\"white\",\"minorgridcolor\":\"white\",\"startlinecolor\":\"#2a3f5f\"},\"type\":\"carpet\"}],\"choropleth\":[{\"colorbar\":{\"outlinewidth\":0,\"ticks\":\"\"},\"type\":\"choropleth\"}],\"contour\":[{\"colorbar\":{\"outlinewidth\":0,\"ticks\":\"\"},\"colorscale\":[[0.0,\"#0d0887\"],[0.1111111111111111,\"#46039f\"],[0.2222222222222222,\"#7201a8\"],[0.3333333333333333,\"#9c179e\"],[0.4444444444444444,\"#bd3786\"],[0.5555555555555556,\"#d8576b\"],[0.6666666666666666,\"#ed7953\"],[0.7777777777777778,\"#fb9f3a\"],[0.8888888888888888,\"#fdca26\"],[1.0,\"#f0f921\"]],\"type\":\"contour\"}],\"contourcarpet\":[{\"colorbar\":{\"outlinewidth\":0,\"ticks\":\"\"},\"type\":\"contourcarpet\"}],\"heatmap\":[{\"colorbar\":{\"outlinewidth\":0,\"ticks\":\"\"},\"colorscale\":[[0.0,\"#0d0887\"],[0.1111111111111111,\"#46039f\"],[0.2222222222222222,\"#7201a8\"],[0.3333333333333333,\"#9c179e\"],[0.4444444444444444,\"#bd3786\"],[0.5555555555555556,\"#d8576b\"],[0.6666666666666666,\"#ed7953\"],[0.7777777777777778,\"#fb9f3a\"],[0.8888888888888888,\"#fdca26\"],[1.0,\"#f0f921\"]],\"type\":\"heatmap\"}],\"heatmapgl\":[{\"colorbar\":{\"outlinewidth\":0,\"ticks\":\"\"},\"colorscale\":[[0.0,\"#0d0887\"],[0.1111111111111111,\"#46039f\"],[0.2222222222222222,\"#7201a8\"],[0.3333333333333333,\"#9c179e\"],[0.4444444444444444,\"#bd3786\"],[0.5555555555555556,\"#d8576b\"],[0.6666666666666666,\"#ed7953\"],[0.7777777777777778,\"#fb9f3a\"],[0.8888888888888888,\"#fdca26\"],[1.0,\"#f0f921\"]],\"type\":\"heatmapgl\"}],\"histogram\":[{\"marker\":{\"pattern\":{\"fillmode\":\"overlay\",\"size\":10,\"solidity\":0.2}},\"type\":\"histogram\"}],\"histogram2d\":[{\"colorbar\":{\"outlinewidth\":0,\"ticks\":\"\"},\"colorscale\":[[0.0,\"#0d0887\"],[0.1111111111111111,\"#46039f\"],[0.2222222222222222,\"#7201a8\"],[0.3333333333333333,\"#9c179e\"],[0.4444444444444444,\"#bd3786\"],[0.5555555555555556,\"#d8576b\"],[0.6666666666666666,\"#ed7953\"],[0.7777777777777778,\"#fb9f3a\"],[0.8888888888888888,\"#fdca26\"],[1.0,\"#f0f921\"]],\"type\":\"histogram2d\"}],\"histogram2dcontour\":[{\"colorbar\":{\"outlinewidth\":0,\"ticks\":\"\"},\"colorscale\":[[0.0,\"#0d0887\"],[0.1111111111111111,\"#46039f\"],[0.2222222222222222,\"#7201a8\"],[0.3333333333333333,\"#9c179e\"],[0.4444444444444444,\"#bd3786\"],[0.5555555555555556,\"#d8576b\"],[0.6666666666666666,\"#ed7953\"],[0.7777777777777778,\"#fb9f3a\"],[0.8888888888888888,\"#fdca26\"],[1.0,\"#f0f921\"]],\"type\":\"histogram2dcontour\"}],\"mesh3d\":[{\"colorbar\":{\"outlinewidth\":0,\"ticks\":\"\"},\"type\":\"mesh3d\"}],\"parcoords\":[{\"line\":{\"colorbar\":{\"outlinewidth\":0,\"ticks\":\"\"}},\"type\":\"parcoords\"}],\"pie\":[{\"automargin\":true,\"type\":\"pie\"}],\"scatter\":[{\"marker\":{\"colorbar\":{\"outlinewidth\":0,\"ticks\":\"\"}},\"type\":\"scatter\"}],\"scatter3d\":[{\"line\":{\"colorbar\":{\"outlinewidth\":0,\"ticks\":\"\"}},\"marker\":{\"colorbar\":{\"outlinewidth\":0,\"ticks\":\"\"}},\"type\":\"scatter3d\"}],\"scattercarpet\":[{\"marker\":{\"colorbar\":{\"outlinewidth\":0,\"ticks\":\"\"}},\"type\":\"scattercarpet\"}],\"scattergeo\":[{\"marker\":{\"colorbar\":{\"outlinewidth\":0,\"ticks\":\"\"}},\"type\":\"scattergeo\"}],\"scattergl\":[{\"marker\":{\"colorbar\":{\"outlinewidth\":0,\"ticks\":\"\"}},\"type\":\"scattergl\"}],\"scattermapbox\":[{\"marker\":{\"colorbar\":{\"outlinewidth\":0,\"ticks\":\"\"}},\"type\":\"scattermapbox\"}],\"scatterpolar\":[{\"marker\":{\"colorbar\":{\"outlinewidth\":0,\"ticks\":\"\"}},\"type\":\"scatterpolar\"}],\"scatterpolargl\":[{\"marker\":{\"colorbar\":{\"outlinewidth\":0,\"ticks\":\"\"}},\"type\":\"scatterpolargl\"}],\"scatterternary\":[{\"marker\":{\"colorbar\":{\"outlinewidth\":0,\"ticks\":\"\"}},\"type\":\"scatterternary\"}],\"surface\":[{\"colorbar\":{\"outlinewidth\":0,\"ticks\":\"\"},\"colorscale\":[[0.0,\"#0d0887\"],[0.1111111111111111,\"#46039f\"],[0.2222222222222222,\"#7201a8\"],[0.3333333333333333,\"#9c179e\"],[0.4444444444444444,\"#bd3786\"],[0.5555555555555556,\"#d8576b\"],[0.6666666666666666,\"#ed7953\"],[0.7777777777777778,\"#fb9f3a\"],[0.8888888888888888,\"#fdca26\"],[1.0,\"#f0f921\"]],\"type\":\"surface\"}],\"table\":[{\"cells\":{\"fill\":{\"color\":\"#EBF0F8\"},\"line\":{\"color\":\"white\"}},\"header\":{\"fill\":{\"color\":\"#C8D4E3\"},\"line\":{\"color\":\"white\"}},\"type\":\"table\"}]},\"layout\":{\"annotationdefaults\":{\"arrowcolor\":\"#2a3f5f\",\"arrowhead\":0,\"arrowwidth\":1},\"autotypenumbers\":\"strict\",\"coloraxis\":{\"colorbar\":{\"outlinewidth\":0,\"ticks\":\"\"}},\"colorscale\":{\"diverging\":[[0,\"#8e0152\"],[0.1,\"#c51b7d\"],[0.2,\"#de77ae\"],[0.3,\"#f1b6da\"],[0.4,\"#fde0ef\"],[0.5,\"#f7f7f7\"],[0.6,\"#e6f5d0\"],[0.7,\"#b8e186\"],[0.8,\"#7fbc41\"],[0.9,\"#4d9221\"],[1,\"#276419\"]],\"sequential\":[[0.0,\"#0d0887\"],[0.1111111111111111,\"#46039f\"],[0.2222222222222222,\"#7201a8\"],[0.3333333333333333,\"#9c179e\"],[0.4444444444444444,\"#bd3786\"],[0.5555555555555556,\"#d8576b\"],[0.6666666666666666,\"#ed7953\"],[0.7777777777777778,\"#fb9f3a\"],[0.8888888888888888,\"#fdca26\"],[1.0,\"#f0f921\"]],\"sequentialminus\":[[0.0,\"#0d0887\"],[0.1111111111111111,\"#46039f\"],[0.2222222222222222,\"#7201a8\"],[0.3333333333333333,\"#9c179e\"],[0.4444444444444444,\"#bd3786\"],[0.5555555555555556,\"#d8576b\"],[0.6666666666666666,\"#ed7953\"],[0.7777777777777778,\"#fb9f3a\"],[0.8888888888888888,\"#fdca26\"],[1.0,\"#f0f921\"]]},\"colorway\":[\"#636efa\",\"#EF553B\",\"#00cc96\",\"#ab63fa\",\"#FFA15A\",\"#19d3f3\",\"#FF6692\",\"#B6E880\",\"#FF97FF\",\"#FECB52\"],\"font\":{\"color\":\"#2a3f5f\"},\"geo\":{\"bgcolor\":\"white\",\"lakecolor\":\"white\",\"landcolor\":\"#E5ECF6\",\"showlakes\":true,\"showland\":true,\"subunitcolor\":\"white\"},\"hoverlabel\":{\"align\":\"left\"},\"hovermode\":\"closest\",\"mapbox\":{\"style\":\"light\"},\"paper_bgcolor\":\"white\",\"plot_bgcolor\":\"#E5ECF6\",\"polar\":{\"angularaxis\":{\"gridcolor\":\"white\",\"linecolor\":\"white\",\"ticks\":\"\"},\"bgcolor\":\"#E5ECF6\",\"radialaxis\":{\"gridcolor\":\"white\",\"linecolor\":\"white\",\"ticks\":\"\"}},\"scene\":{\"xaxis\":{\"backgroundcolor\":\"#E5ECF6\",\"gridcolor\":\"white\",\"gridwidth\":2,\"linecolor\":\"white\",\"showbackground\":true,\"ticks\":\"\",\"zerolinecolor\":\"white\"},\"yaxis\":{\"backgroundcolor\":\"#E5ECF6\",\"gridcolor\":\"white\",\"gridwidth\":2,\"linecolor\":\"white\",\"showbackground\":true,\"ticks\":\"\",\"zerolinecolor\":\"white\"},\"zaxis\":{\"backgroundcolor\":\"#E5ECF6\",\"gridcolor\":\"white\",\"gridwidth\":2,\"linecolor\":\"white\",\"showbackground\":true,\"ticks\":\"\",\"zerolinecolor\":\"white\"}},\"shapedefaults\":{\"line\":{\"color\":\"#2a3f5f\"}},\"ternary\":{\"aaxis\":{\"gridcolor\":\"white\",\"linecolor\":\"white\",\"ticks\":\"\"},\"baxis\":{\"gridcolor\":\"white\",\"linecolor\":\"white\",\"ticks\":\"\"},\"bgcolor\":\"#E5ECF6\",\"caxis\":{\"gridcolor\":\"white\",\"linecolor\":\"white\",\"ticks\":\"\"}},\"title\":{\"x\":0.05},\"xaxis\":{\"automargin\":true,\"gridcolor\":\"white\",\"linecolor\":\"white\",\"ticks\":\"\",\"title\":{\"standoff\":15},\"zerolinecolor\":\"white\",\"zerolinewidth\":2},\"yaxis\":{\"automargin\":true,\"gridcolor\":\"white\",\"linecolor\":\"white\",\"ticks\":\"\",\"title\":{\"standoff\":15},\"zerolinecolor\":\"white\",\"zerolinewidth\":2}}},\"xaxis\":{\"anchor\":\"y\",\"domain\":[0.0,1.0],\"title\":{\"text\":\"Years\"}},\"yaxis\":{\"anchor\":\"x\",\"domain\":[0.0,1.0],\"title\":{\"text\":\"percentage\"}},\"legend\":{\"tracegroupgap\":0},\"margin\":{\"t\":60},\"height\":500,\"width\":800,\"title\":{\"font\":{\"size\":15},\"text\":\"Mobile cellular subscriptions (per 100 people)\",\"x\":0.5,\"xanchor\":\"center\",\"yanchor\":\"top\"}},                        {\"responsive\": true}                    ).then(function(){\n",
              "                            \n",
              "var gd = document.getElementById('ba0d08b1-ebdd-4c84-bb5b-df228570ab06');\n",
              "var x = new MutationObserver(function (mutations, observer) {{\n",
              "        var display = window.getComputedStyle(gd).display;\n",
              "        if (!display || display === 'none') {{\n",
              "            console.log([gd, 'removed!']);\n",
              "            Plotly.purge(gd);\n",
              "            observer.disconnect();\n",
              "        }}\n",
              "}});\n",
              "\n",
              "// Listen for the removal of the full notebook cells\n",
              "var notebookContainer = gd.closest('#notebook-container');\n",
              "if (notebookContainer) {{\n",
              "    x.observe(notebookContainer, {childList: true});\n",
              "}}\n",
              "\n",
              "// Listen for the clearing of the current output cell\n",
              "var outputEl = gd.closest('.output');\n",
              "if (outputEl) {{\n",
              "    x.observe(outputEl, {childList: true});\n",
              "}}\n",
              "\n",
              "                        })                };                            </script>        </div>\n",
              "</body>\n",
              "</html>"
            ]
          },
          "metadata": {}
        }
      ]
    },
    {
      "cell_type": "code",
      "source": [
        "#comparison between internet users vs mobile users per 100 people\n",
        "\n",
        "internet_penetration_df = kenya_clean_indicators_df[kenya_clean_indicators_df.indicator_name.isin(['Mobile cellular subscriptions (per 100 people)','Individuals using the Internet (% of population)'])]\n",
        "internet_penetration_df.head()"
      ],
      "metadata": {
        "colab": {
          "base_uri": "https://localhost:8080/",
          "height": 206
        },
        "id": "3ADPj_DSjtU9",
        "outputId": "2507fc30-dd3a-4649-c2bb-f8e160a33972"
      },
      "execution_count": 13,
      "outputs": [
        {
          "output_type": "execute_result",
          "data": {
            "text/plain": [
              "                                       indicator_name  Year  indicator\n",
              "398    Mobile cellular subscriptions (per 100 people)  1960        0.0\n",
              "7608   Mobile cellular subscriptions (per 100 people)  1965        0.0\n",
              "14818  Mobile cellular subscriptions (per 100 people)  1970        0.0\n",
              "22028  Mobile cellular subscriptions (per 100 people)  1975        0.0\n",
              "23470  Mobile cellular subscriptions (per 100 people)  1976        0.0"
            ],
            "text/html": [
              "\n",
              "  <div id=\"df-64561df0-1326-4e55-8039-f8b4c0d0642a\">\n",
              "    <div class=\"colab-df-container\">\n",
              "      <div>\n",
              "<style scoped>\n",
              "    .dataframe tbody tr th:only-of-type {\n",
              "        vertical-align: middle;\n",
              "    }\n",
              "\n",
              "    .dataframe tbody tr th {\n",
              "        vertical-align: top;\n",
              "    }\n",
              "\n",
              "    .dataframe thead th {\n",
              "        text-align: right;\n",
              "    }\n",
              "</style>\n",
              "<table border=\"1\" class=\"dataframe\">\n",
              "  <thead>\n",
              "    <tr style=\"text-align: right;\">\n",
              "      <th></th>\n",
              "      <th>indicator_name</th>\n",
              "      <th>Year</th>\n",
              "      <th>indicator</th>\n",
              "    </tr>\n",
              "  </thead>\n",
              "  <tbody>\n",
              "    <tr>\n",
              "      <th>398</th>\n",
              "      <td>Mobile cellular subscriptions (per 100 people)</td>\n",
              "      <td>1960</td>\n",
              "      <td>0.0</td>\n",
              "    </tr>\n",
              "    <tr>\n",
              "      <th>7608</th>\n",
              "      <td>Mobile cellular subscriptions (per 100 people)</td>\n",
              "      <td>1965</td>\n",
              "      <td>0.0</td>\n",
              "    </tr>\n",
              "    <tr>\n",
              "      <th>14818</th>\n",
              "      <td>Mobile cellular subscriptions (per 100 people)</td>\n",
              "      <td>1970</td>\n",
              "      <td>0.0</td>\n",
              "    </tr>\n",
              "    <tr>\n",
              "      <th>22028</th>\n",
              "      <td>Mobile cellular subscriptions (per 100 people)</td>\n",
              "      <td>1975</td>\n",
              "      <td>0.0</td>\n",
              "    </tr>\n",
              "    <tr>\n",
              "      <th>23470</th>\n",
              "      <td>Mobile cellular subscriptions (per 100 people)</td>\n",
              "      <td>1976</td>\n",
              "      <td>0.0</td>\n",
              "    </tr>\n",
              "  </tbody>\n",
              "</table>\n",
              "</div>\n",
              "      <button class=\"colab-df-convert\" onclick=\"convertToInteractive('df-64561df0-1326-4e55-8039-f8b4c0d0642a')\"\n",
              "              title=\"Convert this dataframe to an interactive table.\"\n",
              "              style=\"display:none;\">\n",
              "        \n",
              "  <svg xmlns=\"http://www.w3.org/2000/svg\" height=\"24px\"viewBox=\"0 0 24 24\"\n",
              "       width=\"24px\">\n",
              "    <path d=\"M0 0h24v24H0V0z\" fill=\"none\"/>\n",
              "    <path d=\"M18.56 5.44l.94 2.06.94-2.06 2.06-.94-2.06-.94-.94-2.06-.94 2.06-2.06.94zm-11 1L8.5 8.5l.94-2.06 2.06-.94-2.06-.94L8.5 2.5l-.94 2.06-2.06.94zm10 10l.94 2.06.94-2.06 2.06-.94-2.06-.94-.94-2.06-.94 2.06-2.06.94z\"/><path d=\"M17.41 7.96l-1.37-1.37c-.4-.4-.92-.59-1.43-.59-.52 0-1.04.2-1.43.59L10.3 9.45l-7.72 7.72c-.78.78-.78 2.05 0 2.83L4 21.41c.39.39.9.59 1.41.59.51 0 1.02-.2 1.41-.59l7.78-7.78 2.81-2.81c.8-.78.8-2.07 0-2.86zM5.41 20L4 18.59l7.72-7.72 1.47 1.35L5.41 20z\"/>\n",
              "  </svg>\n",
              "      </button>\n",
              "      \n",
              "  <style>\n",
              "    .colab-df-container {\n",
              "      display:flex;\n",
              "      flex-wrap:wrap;\n",
              "      gap: 12px;\n",
              "    }\n",
              "\n",
              "    .colab-df-convert {\n",
              "      background-color: #E8F0FE;\n",
              "      border: none;\n",
              "      border-radius: 50%;\n",
              "      cursor: pointer;\n",
              "      display: none;\n",
              "      fill: #1967D2;\n",
              "      height: 32px;\n",
              "      padding: 0 0 0 0;\n",
              "      width: 32px;\n",
              "    }\n",
              "\n",
              "    .colab-df-convert:hover {\n",
              "      background-color: #E2EBFA;\n",
              "      box-shadow: 0px 1px 2px rgba(60, 64, 67, 0.3), 0px 1px 3px 1px rgba(60, 64, 67, 0.15);\n",
              "      fill: #174EA6;\n",
              "    }\n",
              "\n",
              "    [theme=dark] .colab-df-convert {\n",
              "      background-color: #3B4455;\n",
              "      fill: #D2E3FC;\n",
              "    }\n",
              "\n",
              "    [theme=dark] .colab-df-convert:hover {\n",
              "      background-color: #434B5C;\n",
              "      box-shadow: 0px 1px 3px 1px rgba(0, 0, 0, 0.15);\n",
              "      filter: drop-shadow(0px 1px 2px rgba(0, 0, 0, 0.3));\n",
              "      fill: #FFFFFF;\n",
              "    }\n",
              "  </style>\n",
              "\n",
              "      <script>\n",
              "        const buttonEl =\n",
              "          document.querySelector('#df-64561df0-1326-4e55-8039-f8b4c0d0642a button.colab-df-convert');\n",
              "        buttonEl.style.display =\n",
              "          google.colab.kernel.accessAllowed ? 'block' : 'none';\n",
              "\n",
              "        async function convertToInteractive(key) {\n",
              "          const element = document.querySelector('#df-64561df0-1326-4e55-8039-f8b4c0d0642a');\n",
              "          const dataTable =\n",
              "            await google.colab.kernel.invokeFunction('convertToInteractive',\n",
              "                                                     [key], {});\n",
              "          if (!dataTable) return;\n",
              "\n",
              "          const docLinkHtml = 'Like what you see? Visit the ' +\n",
              "            '<a target=\"_blank\" href=https://colab.research.google.com/notebooks/data_table.ipynb>data table notebook</a>'\n",
              "            + ' to learn more about interactive tables.';\n",
              "          element.innerHTML = '';\n",
              "          dataTable['output_type'] = 'display_data';\n",
              "          await google.colab.output.renderOutput(dataTable, element);\n",
              "          const docLink = document.createElement('div');\n",
              "          docLink.innerHTML = docLinkHtml;\n",
              "          element.appendChild(docLink);\n",
              "        }\n",
              "      </script>\n",
              "    </div>\n",
              "  </div>\n",
              "  "
            ]
          },
          "metadata": {},
          "execution_count": 13
        }
      ]
    },
    {
      "cell_type": "code",
      "source": [
        "internet_penetration = px.line(\n",
        "    internet_penetration_df, \n",
        "    x = 'Year',\n",
        "    y = 'indicator',\n",
        "    color = 'indicator_name',\n",
        "    labels = {\n",
        "        'Year' : \"Year\", \n",
        "        'value' : \"users per 100\",\n",
        "        'variable' : \"indicator_name\"\n",
        "    },\n",
        "    template = \"simple_white\"\n",
        "  )\n",
        "\n",
        "# Tweak and Label\n",
        "internet_penetration.update_layout(\n",
        "    title = {\n",
        "        'text': 'Mobile Subscription Vs internet penetration', \n",
        "        'x': 0.5,\n",
        "        'font_size' : 15,\n",
        "        'xanchor': 'center',\n",
        "        'yanchor': 'top'},\n",
        "    xaxis_title_text = 'Years',\n",
        "    yaxis_title_text = 'Penetration rate',\n",
        "  ) \n",
        "\n",
        "# Display\n",
        "internet_penetration.show()"
      ],
      "metadata": {
        "colab": {
          "base_uri": "https://localhost:8080/",
          "height": 542
        },
        "id": "9wiJh5zQGknD",
        "outputId": "aa56f291-14d8-476b-d994-ee6515e64c0a"
      },
      "execution_count": 17,
      "outputs": [
        {
          "output_type": "display_data",
          "data": {
            "text/html": [
              "<html>\n",
              "<head><meta charset=\"utf-8\" /></head>\n",
              "<body>\n",
              "    <div>            <script src=\"https://cdnjs.cloudflare.com/ajax/libs/mathjax/2.7.5/MathJax.js?config=TeX-AMS-MML_SVG\"></script><script type=\"text/javascript\">if (window.MathJax) {MathJax.Hub.Config({SVG: {font: \"STIX-Web\"}});}</script>                <script type=\"text/javascript\">window.PlotlyConfig = {MathJaxConfig: 'local'};</script>\n",
              "        <script src=\"https://cdn.plot.ly/plotly-2.8.3.min.js\"></script>                <div id=\"61b6ef48-59d0-44fa-b168-856721b4c847\" class=\"plotly-graph-div\" style=\"height:525px; width:100%;\"></div>            <script type=\"text/javascript\">                                    window.PLOTLYENV=window.PLOTLYENV || {};                                    if (document.getElementById(\"61b6ef48-59d0-44fa-b168-856721b4c847\")) {                    Plotly.newPlot(                        \"61b6ef48-59d0-44fa-b168-856721b4c847\",                        [{\"hovertemplate\":\"indicator_name=Mobile cellular subscriptions (per 100 people)<br>Year=%{x}<br>indicator=%{y}<extra></extra>\",\"legendgroup\":\"Mobile cellular subscriptions (per 100 people)\",\"line\":{\"color\":\"#1F77B4\",\"dash\":\"solid\"},\"marker\":{\"symbol\":\"circle\"},\"mode\":\"lines\",\"name\":\"Mobile cellular subscriptions (per 100 people)\",\"orientation\":\"v\",\"showlegend\":true,\"x\":[\"1960\",\"1965\",\"1970\",\"1975\",\"1976\",\"1977\",\"1978\",\"1979\",\"1980\",\"1981\",\"1982\",\"1983\",\"1984\",\"1985\",\"1986\",\"1987\",\"1988\",\"1989\",\"1990\",\"1991\",\"1992\",\"1993\",\"1994\",\"1995\",\"1996\",\"1997\",\"1998\",\"1999\",\"2000\",\"2001\",\"2002\",\"2003\",\"2004\",\"2005\",\"2006\",\"2007\",\"2008\",\"2009\",\"2010\",\"2011\",\"2012\",\"2013\",\"2014\",\"2015\",\"2016\",\"2017\",\"2018\",\"2019\",\"2020\"],\"xaxis\":\"x\",\"y\":[0.0,0.0,0.0,0.0,0.0,0.0,0.0,0.0,0.0,0.0,0.0,0.0,0.0,0.0,0.0,0.0,0.0,0.0,0.0,0.0,0.004343349,0.004445938,0.007383904,0.008207201,0.009884765,0.023004754,0.035556451,0.076392121,0.398578964,1.826563864,3.517217291,4.587200143,7.145047389,12.59244566,19.49669464,29.32215145,40.97200639,47.34403568,59.40635121,65.03449165,69.30390445,69.92534333,72.01839698,78.77455056,79.47190398,85.25315693,96.32021675,103.7690208,114.2038756],\"yaxis\":\"y\",\"type\":\"scatter\"},{\"hovertemplate\":\"indicator_name=Individuals using the Internet (% of population)<br>Year=%{x}<br>indicator=%{y}<extra></extra>\",\"legendgroup\":\"Individuals using the Internet (% of population)\",\"line\":{\"color\":\"#FF7F0E\",\"dash\":\"solid\"},\"marker\":{\"symbol\":\"circle\"},\"mode\":\"lines\",\"name\":\"Individuals using the Internet (% of population)\",\"orientation\":\"v\",\"showlegend\":true,\"x\":[\"1990\",\"1991\",\"1992\",\"1993\",\"1994\",\"1995\",\"1996\",\"1997\",\"1998\",\"1999\",\"2000\",\"2001\",\"2002\",\"2003\",\"2004\",\"2005\",\"2006\",\"2007\",\"2008\",\"2009\",\"2010\",\"2011\",\"2012\",\"2013\",\"2014\",\"2015\",\"2016\",\"2017\",\"2018\",\"2019\",\"2020\"],\"xaxis\":\"x\",\"y\":[0.0,0.0,0.0,0.0,0.0,0.000727482,0.008839115,0.034406051,0.050261388,0.114256028,0.318059714,0.619782266,1.207773885,2.941902861,3.023528042,3.101897702,3.6,4.4,5.2,6.1,7.2,8.8,10.5,13.0,16.5,16.58785485,16.6,17.82710021,19.5,22.56511937,29.5],\"yaxis\":\"y\",\"type\":\"scatter\"}],                        {\"template\":{\"data\":{\"barpolar\":[{\"marker\":{\"line\":{\"color\":\"white\",\"width\":0.5},\"pattern\":{\"fillmode\":\"overlay\",\"size\":10,\"solidity\":0.2}},\"type\":\"barpolar\"}],\"bar\":[{\"error_x\":{\"color\":\"rgb(36,36,36)\"},\"error_y\":{\"color\":\"rgb(36,36,36)\"},\"marker\":{\"line\":{\"color\":\"white\",\"width\":0.5},\"pattern\":{\"fillmode\":\"overlay\",\"size\":10,\"solidity\":0.2}},\"type\":\"bar\"}],\"carpet\":[{\"aaxis\":{\"endlinecolor\":\"rgb(36,36,36)\",\"gridcolor\":\"white\",\"linecolor\":\"white\",\"minorgridcolor\":\"white\",\"startlinecolor\":\"rgb(36,36,36)\"},\"baxis\":{\"endlinecolor\":\"rgb(36,36,36)\",\"gridcolor\":\"white\",\"linecolor\":\"white\",\"minorgridcolor\":\"white\",\"startlinecolor\":\"rgb(36,36,36)\"},\"type\":\"carpet\"}],\"choropleth\":[{\"colorbar\":{\"outlinewidth\":1,\"tickcolor\":\"rgb(36,36,36)\",\"ticks\":\"outside\"},\"type\":\"choropleth\"}],\"contourcarpet\":[{\"colorbar\":{\"outlinewidth\":1,\"tickcolor\":\"rgb(36,36,36)\",\"ticks\":\"outside\"},\"type\":\"contourcarpet\"}],\"contour\":[{\"colorbar\":{\"outlinewidth\":1,\"tickcolor\":\"rgb(36,36,36)\",\"ticks\":\"outside\"},\"colorscale\":[[0.0,\"#440154\"],[0.1111111111111111,\"#482878\"],[0.2222222222222222,\"#3e4989\"],[0.3333333333333333,\"#31688e\"],[0.4444444444444444,\"#26828e\"],[0.5555555555555556,\"#1f9e89\"],[0.6666666666666666,\"#35b779\"],[0.7777777777777778,\"#6ece58\"],[0.8888888888888888,\"#b5de2b\"],[1.0,\"#fde725\"]],\"type\":\"contour\"}],\"heatmapgl\":[{\"colorbar\":{\"outlinewidth\":1,\"tickcolor\":\"rgb(36,36,36)\",\"ticks\":\"outside\"},\"colorscale\":[[0.0,\"#440154\"],[0.1111111111111111,\"#482878\"],[0.2222222222222222,\"#3e4989\"],[0.3333333333333333,\"#31688e\"],[0.4444444444444444,\"#26828e\"],[0.5555555555555556,\"#1f9e89\"],[0.6666666666666666,\"#35b779\"],[0.7777777777777778,\"#6ece58\"],[0.8888888888888888,\"#b5de2b\"],[1.0,\"#fde725\"]],\"type\":\"heatmapgl\"}],\"heatmap\":[{\"colorbar\":{\"outlinewidth\":1,\"tickcolor\":\"rgb(36,36,36)\",\"ticks\":\"outside\"},\"colorscale\":[[0.0,\"#440154\"],[0.1111111111111111,\"#482878\"],[0.2222222222222222,\"#3e4989\"],[0.3333333333333333,\"#31688e\"],[0.4444444444444444,\"#26828e\"],[0.5555555555555556,\"#1f9e89\"],[0.6666666666666666,\"#35b779\"],[0.7777777777777778,\"#6ece58\"],[0.8888888888888888,\"#b5de2b\"],[1.0,\"#fde725\"]],\"type\":\"heatmap\"}],\"histogram2dcontour\":[{\"colorbar\":{\"outlinewidth\":1,\"tickcolor\":\"rgb(36,36,36)\",\"ticks\":\"outside\"},\"colorscale\":[[0.0,\"#440154\"],[0.1111111111111111,\"#482878\"],[0.2222222222222222,\"#3e4989\"],[0.3333333333333333,\"#31688e\"],[0.4444444444444444,\"#26828e\"],[0.5555555555555556,\"#1f9e89\"],[0.6666666666666666,\"#35b779\"],[0.7777777777777778,\"#6ece58\"],[0.8888888888888888,\"#b5de2b\"],[1.0,\"#fde725\"]],\"type\":\"histogram2dcontour\"}],\"histogram2d\":[{\"colorbar\":{\"outlinewidth\":1,\"tickcolor\":\"rgb(36,36,36)\",\"ticks\":\"outside\"},\"colorscale\":[[0.0,\"#440154\"],[0.1111111111111111,\"#482878\"],[0.2222222222222222,\"#3e4989\"],[0.3333333333333333,\"#31688e\"],[0.4444444444444444,\"#26828e\"],[0.5555555555555556,\"#1f9e89\"],[0.6666666666666666,\"#35b779\"],[0.7777777777777778,\"#6ece58\"],[0.8888888888888888,\"#b5de2b\"],[1.0,\"#fde725\"]],\"type\":\"histogram2d\"}],\"histogram\":[{\"marker\":{\"line\":{\"color\":\"white\",\"width\":0.6}},\"type\":\"histogram\"}],\"mesh3d\":[{\"colorbar\":{\"outlinewidth\":1,\"tickcolor\":\"rgb(36,36,36)\",\"ticks\":\"outside\"},\"type\":\"mesh3d\"}],\"parcoords\":[{\"line\":{\"colorbar\":{\"outlinewidth\":1,\"tickcolor\":\"rgb(36,36,36)\",\"ticks\":\"outside\"}},\"type\":\"parcoords\"}],\"pie\":[{\"automargin\":true,\"type\":\"pie\"}],\"scatter3d\":[{\"line\":{\"colorbar\":{\"outlinewidth\":1,\"tickcolor\":\"rgb(36,36,36)\",\"ticks\":\"outside\"}},\"marker\":{\"colorbar\":{\"outlinewidth\":1,\"tickcolor\":\"rgb(36,36,36)\",\"ticks\":\"outside\"}},\"type\":\"scatter3d\"}],\"scattercarpet\":[{\"marker\":{\"colorbar\":{\"outlinewidth\":1,\"tickcolor\":\"rgb(36,36,36)\",\"ticks\":\"outside\"}},\"type\":\"scattercarpet\"}],\"scattergeo\":[{\"marker\":{\"colorbar\":{\"outlinewidth\":1,\"tickcolor\":\"rgb(36,36,36)\",\"ticks\":\"outside\"}},\"type\":\"scattergeo\"}],\"scattergl\":[{\"marker\":{\"colorbar\":{\"outlinewidth\":1,\"tickcolor\":\"rgb(36,36,36)\",\"ticks\":\"outside\"}},\"type\":\"scattergl\"}],\"scattermapbox\":[{\"marker\":{\"colorbar\":{\"outlinewidth\":1,\"tickcolor\":\"rgb(36,36,36)\",\"ticks\":\"outside\"}},\"type\":\"scattermapbox\"}],\"scatterpolargl\":[{\"marker\":{\"colorbar\":{\"outlinewidth\":1,\"tickcolor\":\"rgb(36,36,36)\",\"ticks\":\"outside\"}},\"type\":\"scatterpolargl\"}],\"scatterpolar\":[{\"marker\":{\"colorbar\":{\"outlinewidth\":1,\"tickcolor\":\"rgb(36,36,36)\",\"ticks\":\"outside\"}},\"type\":\"scatterpolar\"}],\"scatter\":[{\"marker\":{\"colorbar\":{\"outlinewidth\":1,\"tickcolor\":\"rgb(36,36,36)\",\"ticks\":\"outside\"}},\"type\":\"scatter\"}],\"scatterternary\":[{\"marker\":{\"colorbar\":{\"outlinewidth\":1,\"tickcolor\":\"rgb(36,36,36)\",\"ticks\":\"outside\"}},\"type\":\"scatterternary\"}],\"surface\":[{\"colorbar\":{\"outlinewidth\":1,\"tickcolor\":\"rgb(36,36,36)\",\"ticks\":\"outside\"},\"colorscale\":[[0.0,\"#440154\"],[0.1111111111111111,\"#482878\"],[0.2222222222222222,\"#3e4989\"],[0.3333333333333333,\"#31688e\"],[0.4444444444444444,\"#26828e\"],[0.5555555555555556,\"#1f9e89\"],[0.6666666666666666,\"#35b779\"],[0.7777777777777778,\"#6ece58\"],[0.8888888888888888,\"#b5de2b\"],[1.0,\"#fde725\"]],\"type\":\"surface\"}],\"table\":[{\"cells\":{\"fill\":{\"color\":\"rgb(237,237,237)\"},\"line\":{\"color\":\"white\"}},\"header\":{\"fill\":{\"color\":\"rgb(217,217,217)\"},\"line\":{\"color\":\"white\"}},\"type\":\"table\"}]},\"layout\":{\"annotationdefaults\":{\"arrowhead\":0,\"arrowwidth\":1},\"autotypenumbers\":\"strict\",\"coloraxis\":{\"colorbar\":{\"outlinewidth\":1,\"tickcolor\":\"rgb(36,36,36)\",\"ticks\":\"outside\"}},\"colorscale\":{\"diverging\":[[0.0,\"rgb(103,0,31)\"],[0.1,\"rgb(178,24,43)\"],[0.2,\"rgb(214,96,77)\"],[0.3,\"rgb(244,165,130)\"],[0.4,\"rgb(253,219,199)\"],[0.5,\"rgb(247,247,247)\"],[0.6,\"rgb(209,229,240)\"],[0.7,\"rgb(146,197,222)\"],[0.8,\"rgb(67,147,195)\"],[0.9,\"rgb(33,102,172)\"],[1.0,\"rgb(5,48,97)\"]],\"sequential\":[[0.0,\"#440154\"],[0.1111111111111111,\"#482878\"],[0.2222222222222222,\"#3e4989\"],[0.3333333333333333,\"#31688e\"],[0.4444444444444444,\"#26828e\"],[0.5555555555555556,\"#1f9e89\"],[0.6666666666666666,\"#35b779\"],[0.7777777777777778,\"#6ece58\"],[0.8888888888888888,\"#b5de2b\"],[1.0,\"#fde725\"]],\"sequentialminus\":[[0.0,\"#440154\"],[0.1111111111111111,\"#482878\"],[0.2222222222222222,\"#3e4989\"],[0.3333333333333333,\"#31688e\"],[0.4444444444444444,\"#26828e\"],[0.5555555555555556,\"#1f9e89\"],[0.6666666666666666,\"#35b779\"],[0.7777777777777778,\"#6ece58\"],[0.8888888888888888,\"#b5de2b\"],[1.0,\"#fde725\"]]},\"colorway\":[\"#1F77B4\",\"#FF7F0E\",\"#2CA02C\",\"#D62728\",\"#9467BD\",\"#8C564B\",\"#E377C2\",\"#7F7F7F\",\"#BCBD22\",\"#17BECF\"],\"font\":{\"color\":\"rgb(36,36,36)\"},\"geo\":{\"bgcolor\":\"white\",\"lakecolor\":\"white\",\"landcolor\":\"white\",\"showlakes\":true,\"showland\":true,\"subunitcolor\":\"white\"},\"hoverlabel\":{\"align\":\"left\"},\"hovermode\":\"closest\",\"mapbox\":{\"style\":\"light\"},\"paper_bgcolor\":\"white\",\"plot_bgcolor\":\"white\",\"polar\":{\"angularaxis\":{\"gridcolor\":\"rgb(232,232,232)\",\"linecolor\":\"rgb(36,36,36)\",\"showgrid\":false,\"showline\":true,\"ticks\":\"outside\"},\"bgcolor\":\"white\",\"radialaxis\":{\"gridcolor\":\"rgb(232,232,232)\",\"linecolor\":\"rgb(36,36,36)\",\"showgrid\":false,\"showline\":true,\"ticks\":\"outside\"}},\"scene\":{\"xaxis\":{\"backgroundcolor\":\"white\",\"gridcolor\":\"rgb(232,232,232)\",\"gridwidth\":2,\"linecolor\":\"rgb(36,36,36)\",\"showbackground\":true,\"showgrid\":false,\"showline\":true,\"ticks\":\"outside\",\"zeroline\":false,\"zerolinecolor\":\"rgb(36,36,36)\"},\"yaxis\":{\"backgroundcolor\":\"white\",\"gridcolor\":\"rgb(232,232,232)\",\"gridwidth\":2,\"linecolor\":\"rgb(36,36,36)\",\"showbackground\":true,\"showgrid\":false,\"showline\":true,\"ticks\":\"outside\",\"zeroline\":false,\"zerolinecolor\":\"rgb(36,36,36)\"},\"zaxis\":{\"backgroundcolor\":\"white\",\"gridcolor\":\"rgb(232,232,232)\",\"gridwidth\":2,\"linecolor\":\"rgb(36,36,36)\",\"showbackground\":true,\"showgrid\":false,\"showline\":true,\"ticks\":\"outside\",\"zeroline\":false,\"zerolinecolor\":\"rgb(36,36,36)\"}},\"shapedefaults\":{\"fillcolor\":\"black\",\"line\":{\"width\":0},\"opacity\":0.3},\"ternary\":{\"aaxis\":{\"gridcolor\":\"rgb(232,232,232)\",\"linecolor\":\"rgb(36,36,36)\",\"showgrid\":false,\"showline\":true,\"ticks\":\"outside\"},\"baxis\":{\"gridcolor\":\"rgb(232,232,232)\",\"linecolor\":\"rgb(36,36,36)\",\"showgrid\":false,\"showline\":true,\"ticks\":\"outside\"},\"bgcolor\":\"white\",\"caxis\":{\"gridcolor\":\"rgb(232,232,232)\",\"linecolor\":\"rgb(36,36,36)\",\"showgrid\":false,\"showline\":true,\"ticks\":\"outside\"}},\"title\":{\"x\":0.05},\"xaxis\":{\"automargin\":true,\"gridcolor\":\"rgb(232,232,232)\",\"linecolor\":\"rgb(36,36,36)\",\"showgrid\":false,\"showline\":true,\"ticks\":\"outside\",\"title\":{\"standoff\":15},\"zeroline\":false,\"zerolinecolor\":\"rgb(36,36,36)\"},\"yaxis\":{\"automargin\":true,\"gridcolor\":\"rgb(232,232,232)\",\"linecolor\":\"rgb(36,36,36)\",\"showgrid\":false,\"showline\":true,\"ticks\":\"outside\",\"title\":{\"standoff\":15},\"zeroline\":false,\"zerolinecolor\":\"rgb(36,36,36)\"}}},\"xaxis\":{\"anchor\":\"y\",\"domain\":[0.0,1.0],\"title\":{\"text\":\"Years\"}},\"yaxis\":{\"anchor\":\"x\",\"domain\":[0.0,1.0],\"title\":{\"text\":\"Penetration rate\"}},\"legend\":{\"title\":{\"text\":\"indicator_name\"},\"tracegroupgap\":0},\"margin\":{\"t\":60},\"title\":{\"font\":{\"size\":15},\"text\":\"Mobile Subscription Vs internet penetration\",\"x\":0.5,\"xanchor\":\"center\",\"yanchor\":\"top\"}},                        {\"responsive\": true}                    ).then(function(){\n",
              "                            \n",
              "var gd = document.getElementById('61b6ef48-59d0-44fa-b168-856721b4c847');\n",
              "var x = new MutationObserver(function (mutations, observer) {{\n",
              "        var display = window.getComputedStyle(gd).display;\n",
              "        if (!display || display === 'none') {{\n",
              "            console.log([gd, 'removed!']);\n",
              "            Plotly.purge(gd);\n",
              "            observer.disconnect();\n",
              "        }}\n",
              "}});\n",
              "\n",
              "// Listen for the removal of the full notebook cells\n",
              "var notebookContainer = gd.closest('#notebook-container');\n",
              "if (notebookContainer) {{\n",
              "    x.observe(notebookContainer, {childList: true});\n",
              "}}\n",
              "\n",
              "// Listen for the clearing of the current output cell\n",
              "var outputEl = gd.closest('.output');\n",
              "if (outputEl) {{\n",
              "    x.observe(outputEl, {childList: true});\n",
              "}}\n",
              "\n",
              "                        })                };                            </script>        </div>\n",
              "</body>\n",
              "</html>"
            ]
          },
          "metadata": {}
        }
      ]
    },
    {
      "cell_type": "code",
      "source": [
        "username = 'john.karuria' # your username\n",
        "api_key = 'Ua0tjpOyxwdcl29ObdgS' # your api key - go to profile > settings > regenerate key\n",
        "chart_studio.tools.set_credentials_file(username=username, api_key=api_key)"
      ],
      "metadata": {
        "id": "DMxJz9vEV15Q"
      },
      "execution_count": 18,
      "outputs": []
    },
    {
      "cell_type": "code",
      "source": [
        "import chart_studio.plotly as py\n",
        "py.plot(internet_penetration, filename = 'My Visusalisation', auto_open=True)"
      ],
      "metadata": {
        "colab": {
          "base_uri": "https://localhost:8080/",
          "height": 35
        },
        "id": "d5HmhjKjWKRY",
        "outputId": "7e9400b2-a08e-4f6e-f14a-c919c7e5eadc"
      },
      "execution_count": 19,
      "outputs": [
        {
          "output_type": "execute_result",
          "data": {
            "text/plain": [
              "'https://plotly.com/~john.karuria/11/'"
            ],
            "application/vnd.google.colaboratory.intrinsic+json": {
              "type": "string"
            }
          },
          "metadata": {},
          "execution_count": 19
        }
      ]
    },
    {
      "cell_type": "markdown",
      "source": [
        "Individual account holders"
      ],
      "metadata": {
        "id": "wtIYk5I5qKaU"
      }
    },
    {
      "cell_type": "code",
      "source": [
        "#select the data for Account ownership at a financial institution or with a mobile-money-service provider (% of population ages 15+)\n",
        "account_holder_df = kenya_clean_indicators_df[kenya_clean_indicators_df.indicator_name.isin(['Account ownership at a financial institution or with a mobile-money-service provider (% of population ages 15+)'])]\n",
        "account_holder_df.head()"
      ],
      "metadata": {
        "colab": {
          "base_uri": "https://localhost:8080/",
          "height": 175
        },
        "id": "lO9_unmuqJZh",
        "outputId": "5848d56f-2061-4c82-8a3b-0843df18a023"
      },
      "execution_count": 52,
      "outputs": [
        {
          "output_type": "execute_result",
          "data": {
            "text/plain": [
              "                                          indicator_name  Year  indicator\n",
              "74834  Account ownership at a financial institution o...  2011      42.34\n",
              "79160  Account ownership at a financial institution o...  2014      74.66\n",
              "83486  Account ownership at a financial institution o...  2017      81.57\n",
              "89254  Account ownership at a financial institution o...  2021      79.20"
            ],
            "text/html": [
              "\n",
              "  <div id=\"df-09300f32-2558-4efd-82cb-b6f553027e8d\">\n",
              "    <div class=\"colab-df-container\">\n",
              "      <div>\n",
              "<style scoped>\n",
              "    .dataframe tbody tr th:only-of-type {\n",
              "        vertical-align: middle;\n",
              "    }\n",
              "\n",
              "    .dataframe tbody tr th {\n",
              "        vertical-align: top;\n",
              "    }\n",
              "\n",
              "    .dataframe thead th {\n",
              "        text-align: right;\n",
              "    }\n",
              "</style>\n",
              "<table border=\"1\" class=\"dataframe\">\n",
              "  <thead>\n",
              "    <tr style=\"text-align: right;\">\n",
              "      <th></th>\n",
              "      <th>indicator_name</th>\n",
              "      <th>Year</th>\n",
              "      <th>indicator</th>\n",
              "    </tr>\n",
              "  </thead>\n",
              "  <tbody>\n",
              "    <tr>\n",
              "      <th>74834</th>\n",
              "      <td>Account ownership at a financial institution o...</td>\n",
              "      <td>2011</td>\n",
              "      <td>42.34</td>\n",
              "    </tr>\n",
              "    <tr>\n",
              "      <th>79160</th>\n",
              "      <td>Account ownership at a financial institution o...</td>\n",
              "      <td>2014</td>\n",
              "      <td>74.66</td>\n",
              "    </tr>\n",
              "    <tr>\n",
              "      <th>83486</th>\n",
              "      <td>Account ownership at a financial institution o...</td>\n",
              "      <td>2017</td>\n",
              "      <td>81.57</td>\n",
              "    </tr>\n",
              "    <tr>\n",
              "      <th>89254</th>\n",
              "      <td>Account ownership at a financial institution o...</td>\n",
              "      <td>2021</td>\n",
              "      <td>79.20</td>\n",
              "    </tr>\n",
              "  </tbody>\n",
              "</table>\n",
              "</div>\n",
              "      <button class=\"colab-df-convert\" onclick=\"convertToInteractive('df-09300f32-2558-4efd-82cb-b6f553027e8d')\"\n",
              "              title=\"Convert this dataframe to an interactive table.\"\n",
              "              style=\"display:none;\">\n",
              "        \n",
              "  <svg xmlns=\"http://www.w3.org/2000/svg\" height=\"24px\"viewBox=\"0 0 24 24\"\n",
              "       width=\"24px\">\n",
              "    <path d=\"M0 0h24v24H0V0z\" fill=\"none\"/>\n",
              "    <path d=\"M18.56 5.44l.94 2.06.94-2.06 2.06-.94-2.06-.94-.94-2.06-.94 2.06-2.06.94zm-11 1L8.5 8.5l.94-2.06 2.06-.94-2.06-.94L8.5 2.5l-.94 2.06-2.06.94zm10 10l.94 2.06.94-2.06 2.06-.94-2.06-.94-.94-2.06-.94 2.06-2.06.94z\"/><path d=\"M17.41 7.96l-1.37-1.37c-.4-.4-.92-.59-1.43-.59-.52 0-1.04.2-1.43.59L10.3 9.45l-7.72 7.72c-.78.78-.78 2.05 0 2.83L4 21.41c.39.39.9.59 1.41.59.51 0 1.02-.2 1.41-.59l7.78-7.78 2.81-2.81c.8-.78.8-2.07 0-2.86zM5.41 20L4 18.59l7.72-7.72 1.47 1.35L5.41 20z\"/>\n",
              "  </svg>\n",
              "      </button>\n",
              "      \n",
              "  <style>\n",
              "    .colab-df-container {\n",
              "      display:flex;\n",
              "      flex-wrap:wrap;\n",
              "      gap: 12px;\n",
              "    }\n",
              "\n",
              "    .colab-df-convert {\n",
              "      background-color: #E8F0FE;\n",
              "      border: none;\n",
              "      border-radius: 50%;\n",
              "      cursor: pointer;\n",
              "      display: none;\n",
              "      fill: #1967D2;\n",
              "      height: 32px;\n",
              "      padding: 0 0 0 0;\n",
              "      width: 32px;\n",
              "    }\n",
              "\n",
              "    .colab-df-convert:hover {\n",
              "      background-color: #E2EBFA;\n",
              "      box-shadow: 0px 1px 2px rgba(60, 64, 67, 0.3), 0px 1px 3px 1px rgba(60, 64, 67, 0.15);\n",
              "      fill: #174EA6;\n",
              "    }\n",
              "\n",
              "    [theme=dark] .colab-df-convert {\n",
              "      background-color: #3B4455;\n",
              "      fill: #D2E3FC;\n",
              "    }\n",
              "\n",
              "    [theme=dark] .colab-df-convert:hover {\n",
              "      background-color: #434B5C;\n",
              "      box-shadow: 0px 1px 3px 1px rgba(0, 0, 0, 0.15);\n",
              "      filter: drop-shadow(0px 1px 2px rgba(0, 0, 0, 0.3));\n",
              "      fill: #FFFFFF;\n",
              "    }\n",
              "  </style>\n",
              "\n",
              "      <script>\n",
              "        const buttonEl =\n",
              "          document.querySelector('#df-09300f32-2558-4efd-82cb-b6f553027e8d button.colab-df-convert');\n",
              "        buttonEl.style.display =\n",
              "          google.colab.kernel.accessAllowed ? 'block' : 'none';\n",
              "\n",
              "        async function convertToInteractive(key) {\n",
              "          const element = document.querySelector('#df-09300f32-2558-4efd-82cb-b6f553027e8d');\n",
              "          const dataTable =\n",
              "            await google.colab.kernel.invokeFunction('convertToInteractive',\n",
              "                                                     [key], {});\n",
              "          if (!dataTable) return;\n",
              "\n",
              "          const docLinkHtml = 'Like what you see? Visit the ' +\n",
              "            '<a target=\"_blank\" href=https://colab.research.google.com/notebooks/data_table.ipynb>data table notebook</a>'\n",
              "            + ' to learn more about interactive tables.';\n",
              "          element.innerHTML = '';\n",
              "          dataTable['output_type'] = 'display_data';\n",
              "          await google.colab.output.renderOutput(dataTable, element);\n",
              "          const docLink = document.createElement('div');\n",
              "          docLink.innerHTML = docLinkHtml;\n",
              "          element.appendChild(docLink);\n",
              "        }\n",
              "      </script>\n",
              "    </div>\n",
              "  </div>\n",
              "  "
            ]
          },
          "metadata": {},
          "execution_count": 52
        }
      ]
    },
    {
      "cell_type": "code",
      "source": [
        "#rename the column values to Account holder rate\n",
        "account_holder_df['indicator_name'] = account_holder_df['indicator_name'].replace({'Account ownership at a financial institution or with a mobile-money-service provider (% of population ages 15+)':'rate of account holders'})\n",
        "account_holder_df"
      ],
      "metadata": {
        "colab": {
          "base_uri": "https://localhost:8080/",
          "height": 334
        },
        "id": "QwOPjdfEqznB",
        "outputId": "c13138b6-1e4e-436f-e961-04c896ff3bd4"
      },
      "execution_count": 54,
      "outputs": [
        {
          "output_type": "stream",
          "name": "stderr",
          "text": [
            "/usr/local/lib/python3.7/dist-packages/ipykernel_launcher.py:2: SettingWithCopyWarning:\n",
            "\n",
            "\n",
            "A value is trying to be set on a copy of a slice from a DataFrame.\n",
            "Try using .loc[row_indexer,col_indexer] = value instead\n",
            "\n",
            "See the caveats in the documentation: https://pandas.pydata.org/pandas-docs/stable/user_guide/indexing.html#returning-a-view-versus-a-copy\n",
            "\n"
          ]
        },
        {
          "output_type": "execute_result",
          "data": {
            "text/plain": [
              "                indicator_name  Year  indicator\n",
              "74834  rate of account holders  2011      42.34\n",
              "79160  rate of account holders  2014      74.66\n",
              "83486  rate of account holders  2017      81.57\n",
              "89254  rate of account holders  2021      79.20"
            ],
            "text/html": [
              "\n",
              "  <div id=\"df-7235ad7d-469b-4ade-9a55-7cd95c99aaf9\">\n",
              "    <div class=\"colab-df-container\">\n",
              "      <div>\n",
              "<style scoped>\n",
              "    .dataframe tbody tr th:only-of-type {\n",
              "        vertical-align: middle;\n",
              "    }\n",
              "\n",
              "    .dataframe tbody tr th {\n",
              "        vertical-align: top;\n",
              "    }\n",
              "\n",
              "    .dataframe thead th {\n",
              "        text-align: right;\n",
              "    }\n",
              "</style>\n",
              "<table border=\"1\" class=\"dataframe\">\n",
              "  <thead>\n",
              "    <tr style=\"text-align: right;\">\n",
              "      <th></th>\n",
              "      <th>indicator_name</th>\n",
              "      <th>Year</th>\n",
              "      <th>indicator</th>\n",
              "    </tr>\n",
              "  </thead>\n",
              "  <tbody>\n",
              "    <tr>\n",
              "      <th>74834</th>\n",
              "      <td>rate of account holders</td>\n",
              "      <td>2011</td>\n",
              "      <td>42.34</td>\n",
              "    </tr>\n",
              "    <tr>\n",
              "      <th>79160</th>\n",
              "      <td>rate of account holders</td>\n",
              "      <td>2014</td>\n",
              "      <td>74.66</td>\n",
              "    </tr>\n",
              "    <tr>\n",
              "      <th>83486</th>\n",
              "      <td>rate of account holders</td>\n",
              "      <td>2017</td>\n",
              "      <td>81.57</td>\n",
              "    </tr>\n",
              "    <tr>\n",
              "      <th>89254</th>\n",
              "      <td>rate of account holders</td>\n",
              "      <td>2021</td>\n",
              "      <td>79.20</td>\n",
              "    </tr>\n",
              "  </tbody>\n",
              "</table>\n",
              "</div>\n",
              "      <button class=\"colab-df-convert\" onclick=\"convertToInteractive('df-7235ad7d-469b-4ade-9a55-7cd95c99aaf9')\"\n",
              "              title=\"Convert this dataframe to an interactive table.\"\n",
              "              style=\"display:none;\">\n",
              "        \n",
              "  <svg xmlns=\"http://www.w3.org/2000/svg\" height=\"24px\"viewBox=\"0 0 24 24\"\n",
              "       width=\"24px\">\n",
              "    <path d=\"M0 0h24v24H0V0z\" fill=\"none\"/>\n",
              "    <path d=\"M18.56 5.44l.94 2.06.94-2.06 2.06-.94-2.06-.94-.94-2.06-.94 2.06-2.06.94zm-11 1L8.5 8.5l.94-2.06 2.06-.94-2.06-.94L8.5 2.5l-.94 2.06-2.06.94zm10 10l.94 2.06.94-2.06 2.06-.94-2.06-.94-.94-2.06-.94 2.06-2.06.94z\"/><path d=\"M17.41 7.96l-1.37-1.37c-.4-.4-.92-.59-1.43-.59-.52 0-1.04.2-1.43.59L10.3 9.45l-7.72 7.72c-.78.78-.78 2.05 0 2.83L4 21.41c.39.39.9.59 1.41.59.51 0 1.02-.2 1.41-.59l7.78-7.78 2.81-2.81c.8-.78.8-2.07 0-2.86zM5.41 20L4 18.59l7.72-7.72 1.47 1.35L5.41 20z\"/>\n",
              "  </svg>\n",
              "      </button>\n",
              "      \n",
              "  <style>\n",
              "    .colab-df-container {\n",
              "      display:flex;\n",
              "      flex-wrap:wrap;\n",
              "      gap: 12px;\n",
              "    }\n",
              "\n",
              "    .colab-df-convert {\n",
              "      background-color: #E8F0FE;\n",
              "      border: none;\n",
              "      border-radius: 50%;\n",
              "      cursor: pointer;\n",
              "      display: none;\n",
              "      fill: #1967D2;\n",
              "      height: 32px;\n",
              "      padding: 0 0 0 0;\n",
              "      width: 32px;\n",
              "    }\n",
              "\n",
              "    .colab-df-convert:hover {\n",
              "      background-color: #E2EBFA;\n",
              "      box-shadow: 0px 1px 2px rgba(60, 64, 67, 0.3), 0px 1px 3px 1px rgba(60, 64, 67, 0.15);\n",
              "      fill: #174EA6;\n",
              "    }\n",
              "\n",
              "    [theme=dark] .colab-df-convert {\n",
              "      background-color: #3B4455;\n",
              "      fill: #D2E3FC;\n",
              "    }\n",
              "\n",
              "    [theme=dark] .colab-df-convert:hover {\n",
              "      background-color: #434B5C;\n",
              "      box-shadow: 0px 1px 3px 1px rgba(0, 0, 0, 0.15);\n",
              "      filter: drop-shadow(0px 1px 2px rgba(0, 0, 0, 0.3));\n",
              "      fill: #FFFFFF;\n",
              "    }\n",
              "  </style>\n",
              "\n",
              "      <script>\n",
              "        const buttonEl =\n",
              "          document.querySelector('#df-7235ad7d-469b-4ade-9a55-7cd95c99aaf9 button.colab-df-convert');\n",
              "        buttonEl.style.display =\n",
              "          google.colab.kernel.accessAllowed ? 'block' : 'none';\n",
              "\n",
              "        async function convertToInteractive(key) {\n",
              "          const element = document.querySelector('#df-7235ad7d-469b-4ade-9a55-7cd95c99aaf9');\n",
              "          const dataTable =\n",
              "            await google.colab.kernel.invokeFunction('convertToInteractive',\n",
              "                                                     [key], {});\n",
              "          if (!dataTable) return;\n",
              "\n",
              "          const docLinkHtml = 'Like what you see? Visit the ' +\n",
              "            '<a target=\"_blank\" href=https://colab.research.google.com/notebooks/data_table.ipynb>data table notebook</a>'\n",
              "            + ' to learn more about interactive tables.';\n",
              "          element.innerHTML = '';\n",
              "          dataTable['output_type'] = 'display_data';\n",
              "          await google.colab.output.renderOutput(dataTable, element);\n",
              "          const docLink = document.createElement('div');\n",
              "          docLink.innerHTML = docLinkHtml;\n",
              "          element.appendChild(docLink);\n",
              "        }\n",
              "      </script>\n",
              "    </div>\n",
              "  </div>\n",
              "  "
            ]
          },
          "metadata": {},
          "execution_count": 54
        }
      ]
    },
    {
      "cell_type": "code",
      "source": [
        "#Bar graph to represent the data for account holders\n",
        "# Render\n",
        "account_holder = px.bar(account_holder_df,\n",
        "    x = \"Year\", \n",
        "    y = \"indicator\",\n",
        "    labels = {\n",
        "        'x' : \"Year\", \n",
        "        'y' : \"Population Ratio\"\n",
        "    },  \n",
        "  )\n",
        "\n",
        "# Tweak and Label\n",
        "account_holder.update_layout(\n",
        "    title = {\n",
        "        'text': \"Population Ratio with Accounts\", \n",
        "        'x': 0.5,\n",
        "        'xanchor': 'center',\n",
        "        'yanchor': 'top'}, \n",
        "    xaxis_title = \"Year\",\n",
        "    yaxis_title = \"Population Ratio\",\n",
        "    hoverlabel = dict(\n",
        "        bgcolor = \"white\",\n",
        "        font_size = 16,\n",
        "        font_family = \"Rockwell\"\n",
        "    )\n",
        "  )\n",
        "\n",
        "# Display\n",
        "account_holder.show()"
      ],
      "metadata": {
        "colab": {
          "base_uri": "https://localhost:8080/",
          "height": 542
        },
        "id": "SWqk7AFdrj_n",
        "outputId": "b26b8c51-f400-45fb-d56d-a738ac96831d"
      },
      "execution_count": 57,
      "outputs": [
        {
          "output_type": "display_data",
          "data": {
            "text/html": [
              "<html>\n",
              "<head><meta charset=\"utf-8\" /></head>\n",
              "<body>\n",
              "    <div>            <script src=\"https://cdnjs.cloudflare.com/ajax/libs/mathjax/2.7.5/MathJax.js?config=TeX-AMS-MML_SVG\"></script><script type=\"text/javascript\">if (window.MathJax) {MathJax.Hub.Config({SVG: {font: \"STIX-Web\"}});}</script>                <script type=\"text/javascript\">window.PlotlyConfig = {MathJaxConfig: 'local'};</script>\n",
              "        <script src=\"https://cdn.plot.ly/plotly-2.8.3.min.js\"></script>                <div id=\"340cc09e-b30f-467c-b3f6-c5294c3124fa\" class=\"plotly-graph-div\" style=\"height:525px; width:100%;\"></div>            <script type=\"text/javascript\">                                    window.PLOTLYENV=window.PLOTLYENV || {};                                    if (document.getElementById(\"340cc09e-b30f-467c-b3f6-c5294c3124fa\")) {                    Plotly.newPlot(                        \"340cc09e-b30f-467c-b3f6-c5294c3124fa\",                        [{\"alignmentgroup\":\"True\",\"hovertemplate\":\"Year=%{x}<br>indicator=%{y}<extra></extra>\",\"legendgroup\":\"\",\"marker\":{\"color\":\"#636efa\",\"pattern\":{\"shape\":\"\"}},\"name\":\"\",\"offsetgroup\":\"\",\"orientation\":\"v\",\"showlegend\":false,\"textposition\":\"auto\",\"x\":[\"2011\",\"2014\",\"2017\",\"2021\"],\"xaxis\":\"x\",\"y\":[42.34,74.66,81.57,79.2],\"yaxis\":\"y\",\"type\":\"bar\"}],                        {\"template\":{\"data\":{\"bar\":[{\"error_x\":{\"color\":\"#2a3f5f\"},\"error_y\":{\"color\":\"#2a3f5f\"},\"marker\":{\"line\":{\"color\":\"#E5ECF6\",\"width\":0.5},\"pattern\":{\"fillmode\":\"overlay\",\"size\":10,\"solidity\":0.2}},\"type\":\"bar\"}],\"barpolar\":[{\"marker\":{\"line\":{\"color\":\"#E5ECF6\",\"width\":0.5},\"pattern\":{\"fillmode\":\"overlay\",\"size\":10,\"solidity\":0.2}},\"type\":\"barpolar\"}],\"carpet\":[{\"aaxis\":{\"endlinecolor\":\"#2a3f5f\",\"gridcolor\":\"white\",\"linecolor\":\"white\",\"minorgridcolor\":\"white\",\"startlinecolor\":\"#2a3f5f\"},\"baxis\":{\"endlinecolor\":\"#2a3f5f\",\"gridcolor\":\"white\",\"linecolor\":\"white\",\"minorgridcolor\":\"white\",\"startlinecolor\":\"#2a3f5f\"},\"type\":\"carpet\"}],\"choropleth\":[{\"colorbar\":{\"outlinewidth\":0,\"ticks\":\"\"},\"type\":\"choropleth\"}],\"contour\":[{\"colorbar\":{\"outlinewidth\":0,\"ticks\":\"\"},\"colorscale\":[[0.0,\"#0d0887\"],[0.1111111111111111,\"#46039f\"],[0.2222222222222222,\"#7201a8\"],[0.3333333333333333,\"#9c179e\"],[0.4444444444444444,\"#bd3786\"],[0.5555555555555556,\"#d8576b\"],[0.6666666666666666,\"#ed7953\"],[0.7777777777777778,\"#fb9f3a\"],[0.8888888888888888,\"#fdca26\"],[1.0,\"#f0f921\"]],\"type\":\"contour\"}],\"contourcarpet\":[{\"colorbar\":{\"outlinewidth\":0,\"ticks\":\"\"},\"type\":\"contourcarpet\"}],\"heatmap\":[{\"colorbar\":{\"outlinewidth\":0,\"ticks\":\"\"},\"colorscale\":[[0.0,\"#0d0887\"],[0.1111111111111111,\"#46039f\"],[0.2222222222222222,\"#7201a8\"],[0.3333333333333333,\"#9c179e\"],[0.4444444444444444,\"#bd3786\"],[0.5555555555555556,\"#d8576b\"],[0.6666666666666666,\"#ed7953\"],[0.7777777777777778,\"#fb9f3a\"],[0.8888888888888888,\"#fdca26\"],[1.0,\"#f0f921\"]],\"type\":\"heatmap\"}],\"heatmapgl\":[{\"colorbar\":{\"outlinewidth\":0,\"ticks\":\"\"},\"colorscale\":[[0.0,\"#0d0887\"],[0.1111111111111111,\"#46039f\"],[0.2222222222222222,\"#7201a8\"],[0.3333333333333333,\"#9c179e\"],[0.4444444444444444,\"#bd3786\"],[0.5555555555555556,\"#d8576b\"],[0.6666666666666666,\"#ed7953\"],[0.7777777777777778,\"#fb9f3a\"],[0.8888888888888888,\"#fdca26\"],[1.0,\"#f0f921\"]],\"type\":\"heatmapgl\"}],\"histogram\":[{\"marker\":{\"pattern\":{\"fillmode\":\"overlay\",\"size\":10,\"solidity\":0.2}},\"type\":\"histogram\"}],\"histogram2d\":[{\"colorbar\":{\"outlinewidth\":0,\"ticks\":\"\"},\"colorscale\":[[0.0,\"#0d0887\"],[0.1111111111111111,\"#46039f\"],[0.2222222222222222,\"#7201a8\"],[0.3333333333333333,\"#9c179e\"],[0.4444444444444444,\"#bd3786\"],[0.5555555555555556,\"#d8576b\"],[0.6666666666666666,\"#ed7953\"],[0.7777777777777778,\"#fb9f3a\"],[0.8888888888888888,\"#fdca26\"],[1.0,\"#f0f921\"]],\"type\":\"histogram2d\"}],\"histogram2dcontour\":[{\"colorbar\":{\"outlinewidth\":0,\"ticks\":\"\"},\"colorscale\":[[0.0,\"#0d0887\"],[0.1111111111111111,\"#46039f\"],[0.2222222222222222,\"#7201a8\"],[0.3333333333333333,\"#9c179e\"],[0.4444444444444444,\"#bd3786\"],[0.5555555555555556,\"#d8576b\"],[0.6666666666666666,\"#ed7953\"],[0.7777777777777778,\"#fb9f3a\"],[0.8888888888888888,\"#fdca26\"],[1.0,\"#f0f921\"]],\"type\":\"histogram2dcontour\"}],\"mesh3d\":[{\"colorbar\":{\"outlinewidth\":0,\"ticks\":\"\"},\"type\":\"mesh3d\"}],\"parcoords\":[{\"line\":{\"colorbar\":{\"outlinewidth\":0,\"ticks\":\"\"}},\"type\":\"parcoords\"}],\"pie\":[{\"automargin\":true,\"type\":\"pie\"}],\"scatter\":[{\"marker\":{\"colorbar\":{\"outlinewidth\":0,\"ticks\":\"\"}},\"type\":\"scatter\"}],\"scatter3d\":[{\"line\":{\"colorbar\":{\"outlinewidth\":0,\"ticks\":\"\"}},\"marker\":{\"colorbar\":{\"outlinewidth\":0,\"ticks\":\"\"}},\"type\":\"scatter3d\"}],\"scattercarpet\":[{\"marker\":{\"colorbar\":{\"outlinewidth\":0,\"ticks\":\"\"}},\"type\":\"scattercarpet\"}],\"scattergeo\":[{\"marker\":{\"colorbar\":{\"outlinewidth\":0,\"ticks\":\"\"}},\"type\":\"scattergeo\"}],\"scattergl\":[{\"marker\":{\"colorbar\":{\"outlinewidth\":0,\"ticks\":\"\"}},\"type\":\"scattergl\"}],\"scattermapbox\":[{\"marker\":{\"colorbar\":{\"outlinewidth\":0,\"ticks\":\"\"}},\"type\":\"scattermapbox\"}],\"scatterpolar\":[{\"marker\":{\"colorbar\":{\"outlinewidth\":0,\"ticks\":\"\"}},\"type\":\"scatterpolar\"}],\"scatterpolargl\":[{\"marker\":{\"colorbar\":{\"outlinewidth\":0,\"ticks\":\"\"}},\"type\":\"scatterpolargl\"}],\"scatterternary\":[{\"marker\":{\"colorbar\":{\"outlinewidth\":0,\"ticks\":\"\"}},\"type\":\"scatterternary\"}],\"surface\":[{\"colorbar\":{\"outlinewidth\":0,\"ticks\":\"\"},\"colorscale\":[[0.0,\"#0d0887\"],[0.1111111111111111,\"#46039f\"],[0.2222222222222222,\"#7201a8\"],[0.3333333333333333,\"#9c179e\"],[0.4444444444444444,\"#bd3786\"],[0.5555555555555556,\"#d8576b\"],[0.6666666666666666,\"#ed7953\"],[0.7777777777777778,\"#fb9f3a\"],[0.8888888888888888,\"#fdca26\"],[1.0,\"#f0f921\"]],\"type\":\"surface\"}],\"table\":[{\"cells\":{\"fill\":{\"color\":\"#EBF0F8\"},\"line\":{\"color\":\"white\"}},\"header\":{\"fill\":{\"color\":\"#C8D4E3\"},\"line\":{\"color\":\"white\"}},\"type\":\"table\"}]},\"layout\":{\"annotationdefaults\":{\"arrowcolor\":\"#2a3f5f\",\"arrowhead\":0,\"arrowwidth\":1},\"autotypenumbers\":\"strict\",\"coloraxis\":{\"colorbar\":{\"outlinewidth\":0,\"ticks\":\"\"}},\"colorscale\":{\"diverging\":[[0,\"#8e0152\"],[0.1,\"#c51b7d\"],[0.2,\"#de77ae\"],[0.3,\"#f1b6da\"],[0.4,\"#fde0ef\"],[0.5,\"#f7f7f7\"],[0.6,\"#e6f5d0\"],[0.7,\"#b8e186\"],[0.8,\"#7fbc41\"],[0.9,\"#4d9221\"],[1,\"#276419\"]],\"sequential\":[[0.0,\"#0d0887\"],[0.1111111111111111,\"#46039f\"],[0.2222222222222222,\"#7201a8\"],[0.3333333333333333,\"#9c179e\"],[0.4444444444444444,\"#bd3786\"],[0.5555555555555556,\"#d8576b\"],[0.6666666666666666,\"#ed7953\"],[0.7777777777777778,\"#fb9f3a\"],[0.8888888888888888,\"#fdca26\"],[1.0,\"#f0f921\"]],\"sequentialminus\":[[0.0,\"#0d0887\"],[0.1111111111111111,\"#46039f\"],[0.2222222222222222,\"#7201a8\"],[0.3333333333333333,\"#9c179e\"],[0.4444444444444444,\"#bd3786\"],[0.5555555555555556,\"#d8576b\"],[0.6666666666666666,\"#ed7953\"],[0.7777777777777778,\"#fb9f3a\"],[0.8888888888888888,\"#fdca26\"],[1.0,\"#f0f921\"]]},\"colorway\":[\"#636efa\",\"#EF553B\",\"#00cc96\",\"#ab63fa\",\"#FFA15A\",\"#19d3f3\",\"#FF6692\",\"#B6E880\",\"#FF97FF\",\"#FECB52\"],\"font\":{\"color\":\"#2a3f5f\"},\"geo\":{\"bgcolor\":\"white\",\"lakecolor\":\"white\",\"landcolor\":\"#E5ECF6\",\"showlakes\":true,\"showland\":true,\"subunitcolor\":\"white\"},\"hoverlabel\":{\"align\":\"left\"},\"hovermode\":\"closest\",\"mapbox\":{\"style\":\"light\"},\"paper_bgcolor\":\"white\",\"plot_bgcolor\":\"#E5ECF6\",\"polar\":{\"angularaxis\":{\"gridcolor\":\"white\",\"linecolor\":\"white\",\"ticks\":\"\"},\"bgcolor\":\"#E5ECF6\",\"radialaxis\":{\"gridcolor\":\"white\",\"linecolor\":\"white\",\"ticks\":\"\"}},\"scene\":{\"xaxis\":{\"backgroundcolor\":\"#E5ECF6\",\"gridcolor\":\"white\",\"gridwidth\":2,\"linecolor\":\"white\",\"showbackground\":true,\"ticks\":\"\",\"zerolinecolor\":\"white\"},\"yaxis\":{\"backgroundcolor\":\"#E5ECF6\",\"gridcolor\":\"white\",\"gridwidth\":2,\"linecolor\":\"white\",\"showbackground\":true,\"ticks\":\"\",\"zerolinecolor\":\"white\"},\"zaxis\":{\"backgroundcolor\":\"#E5ECF6\",\"gridcolor\":\"white\",\"gridwidth\":2,\"linecolor\":\"white\",\"showbackground\":true,\"ticks\":\"\",\"zerolinecolor\":\"white\"}},\"shapedefaults\":{\"line\":{\"color\":\"#2a3f5f\"}},\"ternary\":{\"aaxis\":{\"gridcolor\":\"white\",\"linecolor\":\"white\",\"ticks\":\"\"},\"baxis\":{\"gridcolor\":\"white\",\"linecolor\":\"white\",\"ticks\":\"\"},\"bgcolor\":\"#E5ECF6\",\"caxis\":{\"gridcolor\":\"white\",\"linecolor\":\"white\",\"ticks\":\"\"}},\"title\":{\"x\":0.05},\"xaxis\":{\"automargin\":true,\"gridcolor\":\"white\",\"linecolor\":\"white\",\"ticks\":\"\",\"title\":{\"standoff\":15},\"zerolinecolor\":\"white\",\"zerolinewidth\":2},\"yaxis\":{\"automargin\":true,\"gridcolor\":\"white\",\"linecolor\":\"white\",\"ticks\":\"\",\"title\":{\"standoff\":15},\"zerolinecolor\":\"white\",\"zerolinewidth\":2}}},\"xaxis\":{\"anchor\":\"y\",\"domain\":[0.0,1.0],\"title\":{\"text\":\"Year\"}},\"yaxis\":{\"anchor\":\"x\",\"domain\":[0.0,1.0],\"title\":{\"text\":\"Population Ratio\"}},\"legend\":{\"tracegroupgap\":0},\"margin\":{\"t\":60},\"barmode\":\"relative\",\"title\":{\"text\":\"Population Ratio with Accounts\",\"x\":0.5,\"xanchor\":\"center\",\"yanchor\":\"top\"},\"hoverlabel\":{\"font\":{\"size\":16,\"family\":\"Rockwell\"},\"bgcolor\":\"white\"}},                        {\"responsive\": true}                    ).then(function(){\n",
              "                            \n",
              "var gd = document.getElementById('340cc09e-b30f-467c-b3f6-c5294c3124fa');\n",
              "var x = new MutationObserver(function (mutations, observer) {{\n",
              "        var display = window.getComputedStyle(gd).display;\n",
              "        if (!display || display === 'none') {{\n",
              "            console.log([gd, 'removed!']);\n",
              "            Plotly.purge(gd);\n",
              "            observer.disconnect();\n",
              "        }}\n",
              "}});\n",
              "\n",
              "// Listen for the removal of the full notebook cells\n",
              "var notebookContainer = gd.closest('#notebook-container');\n",
              "if (notebookContainer) {{\n",
              "    x.observe(notebookContainer, {childList: true});\n",
              "}}\n",
              "\n",
              "// Listen for the clearing of the current output cell\n",
              "var outputEl = gd.closest('.output');\n",
              "if (outputEl) {{\n",
              "    x.observe(outputEl, {childList: true});\n",
              "}}\n",
              "\n",
              "                        })                };                            </script>        </div>\n",
              "</body>\n",
              "</html>"
            ]
          },
          "metadata": {}
        }
      ]
    },
    {
      "cell_type": "code",
      "source": [
        "username = 'john.karuria' # your username\n",
        "api_key = 'IAUSHSSYv9NvYQ5IhO1I' # your api key - go to profile > settings > regenerate key\n",
        "chart_studio.tools.set_credentials_file(username=username, api_key=api_key)"
      ],
      "metadata": {
        "id": "tn1-Nw_dsr5I"
      },
      "execution_count": 58,
      "outputs": []
    },
    {
      "cell_type": "code",
      "source": [
        "import chart_studio.plotly as py\n",
        "py.plot(account_holder, filename = 'My Visusalisation4', auto_open=True)"
      ],
      "metadata": {
        "colab": {
          "base_uri": "https://localhost:8080/",
          "height": 35
        },
        "id": "Y0eTZmvUssiH",
        "outputId": "1479aade-d028-4029-8994-68007e84e884"
      },
      "execution_count": 59,
      "outputs": [
        {
          "output_type": "execute_result",
          "data": {
            "text/plain": [
              "'https://plotly.com/~john.karuria/18/'"
            ],
            "application/vnd.google.colaboratory.intrinsic+json": {
              "type": "string"
            }
          },
          "metadata": {},
          "execution_count": 59
        }
      ]
    },
    {
      "cell_type": "code",
      "source": [
        "# Comparison of fixed vs mobile internet users\n",
        "internet_users_df = kenya_clean_indicators_df[kenya_clean_indicators_df.indicator_name.isin(['Fixed broadband subscriptions (per 100 people)','Individuals using the Internet (% of population)'])]\n",
        "internet_users_df.head()"
      ],
      "metadata": {
        "colab": {
          "base_uri": "https://localhost:8080/",
          "height": 206
        },
        "id": "noqHsUird3Fe",
        "outputId": "0967d100-5711-4d18-bd15-bd68b69811e2"
      },
      "execution_count": 20,
      "outputs": [
        {
          "output_type": "execute_result",
          "data": {
            "text/plain": [
              "                                         indicator_name  Year  indicator\n",
              "44277  Individuals using the Internet (% of population)  1990        0.0\n",
              "45719  Individuals using the Internet (% of population)  1991        0.0\n",
              "47161  Individuals using the Internet (% of population)  1992        0.0\n",
              "48603  Individuals using the Internet (% of population)  1993        0.0\n",
              "50045  Individuals using the Internet (% of population)  1994        0.0"
            ],
            "text/html": [
              "\n",
              "  <div id=\"df-00c4a531-14ef-4992-a343-60a5d96cdd9a\">\n",
              "    <div class=\"colab-df-container\">\n",
              "      <div>\n",
              "<style scoped>\n",
              "    .dataframe tbody tr th:only-of-type {\n",
              "        vertical-align: middle;\n",
              "    }\n",
              "\n",
              "    .dataframe tbody tr th {\n",
              "        vertical-align: top;\n",
              "    }\n",
              "\n",
              "    .dataframe thead th {\n",
              "        text-align: right;\n",
              "    }\n",
              "</style>\n",
              "<table border=\"1\" class=\"dataframe\">\n",
              "  <thead>\n",
              "    <tr style=\"text-align: right;\">\n",
              "      <th></th>\n",
              "      <th>indicator_name</th>\n",
              "      <th>Year</th>\n",
              "      <th>indicator</th>\n",
              "    </tr>\n",
              "  </thead>\n",
              "  <tbody>\n",
              "    <tr>\n",
              "      <th>44277</th>\n",
              "      <td>Individuals using the Internet (% of population)</td>\n",
              "      <td>1990</td>\n",
              "      <td>0.0</td>\n",
              "    </tr>\n",
              "    <tr>\n",
              "      <th>45719</th>\n",
              "      <td>Individuals using the Internet (% of population)</td>\n",
              "      <td>1991</td>\n",
              "      <td>0.0</td>\n",
              "    </tr>\n",
              "    <tr>\n",
              "      <th>47161</th>\n",
              "      <td>Individuals using the Internet (% of population)</td>\n",
              "      <td>1992</td>\n",
              "      <td>0.0</td>\n",
              "    </tr>\n",
              "    <tr>\n",
              "      <th>48603</th>\n",
              "      <td>Individuals using the Internet (% of population)</td>\n",
              "      <td>1993</td>\n",
              "      <td>0.0</td>\n",
              "    </tr>\n",
              "    <tr>\n",
              "      <th>50045</th>\n",
              "      <td>Individuals using the Internet (% of population)</td>\n",
              "      <td>1994</td>\n",
              "      <td>0.0</td>\n",
              "    </tr>\n",
              "  </tbody>\n",
              "</table>\n",
              "</div>\n",
              "      <button class=\"colab-df-convert\" onclick=\"convertToInteractive('df-00c4a531-14ef-4992-a343-60a5d96cdd9a')\"\n",
              "              title=\"Convert this dataframe to an interactive table.\"\n",
              "              style=\"display:none;\">\n",
              "        \n",
              "  <svg xmlns=\"http://www.w3.org/2000/svg\" height=\"24px\"viewBox=\"0 0 24 24\"\n",
              "       width=\"24px\">\n",
              "    <path d=\"M0 0h24v24H0V0z\" fill=\"none\"/>\n",
              "    <path d=\"M18.56 5.44l.94 2.06.94-2.06 2.06-.94-2.06-.94-.94-2.06-.94 2.06-2.06.94zm-11 1L8.5 8.5l.94-2.06 2.06-.94-2.06-.94L8.5 2.5l-.94 2.06-2.06.94zm10 10l.94 2.06.94-2.06 2.06-.94-2.06-.94-.94-2.06-.94 2.06-2.06.94z\"/><path d=\"M17.41 7.96l-1.37-1.37c-.4-.4-.92-.59-1.43-.59-.52 0-1.04.2-1.43.59L10.3 9.45l-7.72 7.72c-.78.78-.78 2.05 0 2.83L4 21.41c.39.39.9.59 1.41.59.51 0 1.02-.2 1.41-.59l7.78-7.78 2.81-2.81c.8-.78.8-2.07 0-2.86zM5.41 20L4 18.59l7.72-7.72 1.47 1.35L5.41 20z\"/>\n",
              "  </svg>\n",
              "      </button>\n",
              "      \n",
              "  <style>\n",
              "    .colab-df-container {\n",
              "      display:flex;\n",
              "      flex-wrap:wrap;\n",
              "      gap: 12px;\n",
              "    }\n",
              "\n",
              "    .colab-df-convert {\n",
              "      background-color: #E8F0FE;\n",
              "      border: none;\n",
              "      border-radius: 50%;\n",
              "      cursor: pointer;\n",
              "      display: none;\n",
              "      fill: #1967D2;\n",
              "      height: 32px;\n",
              "      padding: 0 0 0 0;\n",
              "      width: 32px;\n",
              "    }\n",
              "\n",
              "    .colab-df-convert:hover {\n",
              "      background-color: #E2EBFA;\n",
              "      box-shadow: 0px 1px 2px rgba(60, 64, 67, 0.3), 0px 1px 3px 1px rgba(60, 64, 67, 0.15);\n",
              "      fill: #174EA6;\n",
              "    }\n",
              "\n",
              "    [theme=dark] .colab-df-convert {\n",
              "      background-color: #3B4455;\n",
              "      fill: #D2E3FC;\n",
              "    }\n",
              "\n",
              "    [theme=dark] .colab-df-convert:hover {\n",
              "      background-color: #434B5C;\n",
              "      box-shadow: 0px 1px 3px 1px rgba(0, 0, 0, 0.15);\n",
              "      filter: drop-shadow(0px 1px 2px rgba(0, 0, 0, 0.3));\n",
              "      fill: #FFFFFF;\n",
              "    }\n",
              "  </style>\n",
              "\n",
              "      <script>\n",
              "        const buttonEl =\n",
              "          document.querySelector('#df-00c4a531-14ef-4992-a343-60a5d96cdd9a button.colab-df-convert');\n",
              "        buttonEl.style.display =\n",
              "          google.colab.kernel.accessAllowed ? 'block' : 'none';\n",
              "\n",
              "        async function convertToInteractive(key) {\n",
              "          const element = document.querySelector('#df-00c4a531-14ef-4992-a343-60a5d96cdd9a');\n",
              "          const dataTable =\n",
              "            await google.colab.kernel.invokeFunction('convertToInteractive',\n",
              "                                                     [key], {});\n",
              "          if (!dataTable) return;\n",
              "\n",
              "          const docLinkHtml = 'Like what you see? Visit the ' +\n",
              "            '<a target=\"_blank\" href=https://colab.research.google.com/notebooks/data_table.ipynb>data table notebook</a>'\n",
              "            + ' to learn more about interactive tables.';\n",
              "          element.innerHTML = '';\n",
              "          dataTable['output_type'] = 'display_data';\n",
              "          await google.colab.output.renderOutput(dataTable, element);\n",
              "          const docLink = document.createElement('div');\n",
              "          docLink.innerHTML = docLinkHtml;\n",
              "          element.appendChild(docLink);\n",
              "        }\n",
              "      </script>\n",
              "    </div>\n",
              "  </div>\n",
              "  "
            ]
          },
          "metadata": {},
          "execution_count": 20
        }
      ]
    },
    {
      "cell_type": "code",
      "source": [
        "\n",
        "#internet users are either fixed or mobile, for mobile users this represents the smart phone prnetration\n",
        "fixedvsmobile_internet_ratio = internet_users_df[internet_users_df.Year.isin(['2020'])]\n",
        "\n",
        "\n",
        "fixedvsmobile_internet_ratio['indicator_name'] = fixedvsmobile_internet_ratio['indicator_name'].replace({'Fixed broadband subscriptions (per 100 people)':'Fixed users', 'Individuals using the Internet (% of population)':'Mobile users'})\n",
        "\n",
        "\n",
        "fixedvsmobile_internet_ratio.head()\n"
      ],
      "metadata": {
        "colab": {
          "base_uri": "https://localhost:8080/",
          "height": 271
        },
        "id": "tl_n_8YCc8_g",
        "outputId": "f9d1babe-93bc-46af-93a0-04501e7e9e92"
      },
      "execution_count": 28,
      "outputs": [
        {
          "output_type": "stream",
          "name": "stderr",
          "text": [
            "/usr/local/lib/python3.7/dist-packages/ipykernel_launcher.py:5: SettingWithCopyWarning:\n",
            "\n",
            "\n",
            "A value is trying to be set on a copy of a slice from a DataFrame.\n",
            "Try using .loc[row_indexer,col_indexer] = value instead\n",
            "\n",
            "See the caveats in the documentation: https://pandas.pydata.org/pandas-docs/stable/user_guide/indexing.html#returning-a-view-versus-a-copy\n",
            "\n"
          ]
        },
        {
          "output_type": "execute_result",
          "data": {
            "text/plain": [
              "      indicator_name  Year  indicator\n",
              "86917    Fixed users  2020   1.253812\n",
              "87537   Mobile users  2020  29.500000"
            ],
            "text/html": [
              "\n",
              "  <div id=\"df-e1c1e128-0e44-46cf-ac61-38a984138098\">\n",
              "    <div class=\"colab-df-container\">\n",
              "      <div>\n",
              "<style scoped>\n",
              "    .dataframe tbody tr th:only-of-type {\n",
              "        vertical-align: middle;\n",
              "    }\n",
              "\n",
              "    .dataframe tbody tr th {\n",
              "        vertical-align: top;\n",
              "    }\n",
              "\n",
              "    .dataframe thead th {\n",
              "        text-align: right;\n",
              "    }\n",
              "</style>\n",
              "<table border=\"1\" class=\"dataframe\">\n",
              "  <thead>\n",
              "    <tr style=\"text-align: right;\">\n",
              "      <th></th>\n",
              "      <th>indicator_name</th>\n",
              "      <th>Year</th>\n",
              "      <th>indicator</th>\n",
              "    </tr>\n",
              "  </thead>\n",
              "  <tbody>\n",
              "    <tr>\n",
              "      <th>86917</th>\n",
              "      <td>Fixed users</td>\n",
              "      <td>2020</td>\n",
              "      <td>1.253812</td>\n",
              "    </tr>\n",
              "    <tr>\n",
              "      <th>87537</th>\n",
              "      <td>Mobile users</td>\n",
              "      <td>2020</td>\n",
              "      <td>29.500000</td>\n",
              "    </tr>\n",
              "  </tbody>\n",
              "</table>\n",
              "</div>\n",
              "      <button class=\"colab-df-convert\" onclick=\"convertToInteractive('df-e1c1e128-0e44-46cf-ac61-38a984138098')\"\n",
              "              title=\"Convert this dataframe to an interactive table.\"\n",
              "              style=\"display:none;\">\n",
              "        \n",
              "  <svg xmlns=\"http://www.w3.org/2000/svg\" height=\"24px\"viewBox=\"0 0 24 24\"\n",
              "       width=\"24px\">\n",
              "    <path d=\"M0 0h24v24H0V0z\" fill=\"none\"/>\n",
              "    <path d=\"M18.56 5.44l.94 2.06.94-2.06 2.06-.94-2.06-.94-.94-2.06-.94 2.06-2.06.94zm-11 1L8.5 8.5l.94-2.06 2.06-.94-2.06-.94L8.5 2.5l-.94 2.06-2.06.94zm10 10l.94 2.06.94-2.06 2.06-.94-2.06-.94-.94-2.06-.94 2.06-2.06.94z\"/><path d=\"M17.41 7.96l-1.37-1.37c-.4-.4-.92-.59-1.43-.59-.52 0-1.04.2-1.43.59L10.3 9.45l-7.72 7.72c-.78.78-.78 2.05 0 2.83L4 21.41c.39.39.9.59 1.41.59.51 0 1.02-.2 1.41-.59l7.78-7.78 2.81-2.81c.8-.78.8-2.07 0-2.86zM5.41 20L4 18.59l7.72-7.72 1.47 1.35L5.41 20z\"/>\n",
              "  </svg>\n",
              "      </button>\n",
              "      \n",
              "  <style>\n",
              "    .colab-df-container {\n",
              "      display:flex;\n",
              "      flex-wrap:wrap;\n",
              "      gap: 12px;\n",
              "    }\n",
              "\n",
              "    .colab-df-convert {\n",
              "      background-color: #E8F0FE;\n",
              "      border: none;\n",
              "      border-radius: 50%;\n",
              "      cursor: pointer;\n",
              "      display: none;\n",
              "      fill: #1967D2;\n",
              "      height: 32px;\n",
              "      padding: 0 0 0 0;\n",
              "      width: 32px;\n",
              "    }\n",
              "\n",
              "    .colab-df-convert:hover {\n",
              "      background-color: #E2EBFA;\n",
              "      box-shadow: 0px 1px 2px rgba(60, 64, 67, 0.3), 0px 1px 3px 1px rgba(60, 64, 67, 0.15);\n",
              "      fill: #174EA6;\n",
              "    }\n",
              "\n",
              "    [theme=dark] .colab-df-convert {\n",
              "      background-color: #3B4455;\n",
              "      fill: #D2E3FC;\n",
              "    }\n",
              "\n",
              "    [theme=dark] .colab-df-convert:hover {\n",
              "      background-color: #434B5C;\n",
              "      box-shadow: 0px 1px 3px 1px rgba(0, 0, 0, 0.15);\n",
              "      filter: drop-shadow(0px 1px 2px rgba(0, 0, 0, 0.3));\n",
              "      fill: #FFFFFF;\n",
              "    }\n",
              "  </style>\n",
              "\n",
              "      <script>\n",
              "        const buttonEl =\n",
              "          document.querySelector('#df-e1c1e128-0e44-46cf-ac61-38a984138098 button.colab-df-convert');\n",
              "        buttonEl.style.display =\n",
              "          google.colab.kernel.accessAllowed ? 'block' : 'none';\n",
              "\n",
              "        async function convertToInteractive(key) {\n",
              "          const element = document.querySelector('#df-e1c1e128-0e44-46cf-ac61-38a984138098');\n",
              "          const dataTable =\n",
              "            await google.colab.kernel.invokeFunction('convertToInteractive',\n",
              "                                                     [key], {});\n",
              "          if (!dataTable) return;\n",
              "\n",
              "          const docLinkHtml = 'Like what you see? Visit the ' +\n",
              "            '<a target=\"_blank\" href=https://colab.research.google.com/notebooks/data_table.ipynb>data table notebook</a>'\n",
              "            + ' to learn more about interactive tables.';\n",
              "          element.innerHTML = '';\n",
              "          dataTable['output_type'] = 'display_data';\n",
              "          await google.colab.output.renderOutput(dataTable, element);\n",
              "          const docLink = document.createElement('div');\n",
              "          docLink.innerHTML = docLinkHtml;\n",
              "          element.appendChild(docLink);\n",
              "        }\n",
              "      </script>\n",
              "    </div>\n",
              "  </div>\n",
              "  "
            ]
          },
          "metadata": {},
          "execution_count": 28
        }
      ]
    },
    {
      "cell_type": "code",
      "source": [
        "# Render\n",
        "fixedvsmobile_internet = px.pie(\n",
        "    fixedvsmobile_internet_ratio, \n",
        "    values  = 'indicator', \n",
        "    names   = 'indicator_name',\n",
        "    color_discrete_sequence=px.colors.sequential.RdBu,\n",
        "    hole = 0.5\n",
        "  )\n",
        "\n",
        "# Tweak and Label\n",
        "fixedvsmobile_internet.update_layout(\n",
        "    title = {\n",
        "        'text': 'fixed vs mobile internet users', \n",
        "        'x': 0.45,\n",
        "        'xanchor': 'center',\n",
        "        'yanchor': 'top'}\n",
        "  )\n",
        "fixedvsmobile_internet.update_traces(textposition='inside', textinfo='percent+label')\n",
        "\n",
        "# Display\n",
        "fixedvsmobile_internet.show()"
      ],
      "metadata": {
        "colab": {
          "base_uri": "https://localhost:8080/",
          "height": 542
        },
        "id": "Xo8w126xna7h",
        "outputId": "234671e8-ba16-43a6-e978-59f887dd9e34"
      },
      "execution_count": 29,
      "outputs": [
        {
          "output_type": "display_data",
          "data": {
            "text/html": [
              "<html>\n",
              "<head><meta charset=\"utf-8\" /></head>\n",
              "<body>\n",
              "    <div>            <script src=\"https://cdnjs.cloudflare.com/ajax/libs/mathjax/2.7.5/MathJax.js?config=TeX-AMS-MML_SVG\"></script><script type=\"text/javascript\">if (window.MathJax) {MathJax.Hub.Config({SVG: {font: \"STIX-Web\"}});}</script>                <script type=\"text/javascript\">window.PlotlyConfig = {MathJaxConfig: 'local'};</script>\n",
              "        <script src=\"https://cdn.plot.ly/plotly-2.8.3.min.js\"></script>                <div id=\"a7782497-0dc7-4b6f-9ab4-ea2f9d0eafd7\" class=\"plotly-graph-div\" style=\"height:525px; width:100%;\"></div>            <script type=\"text/javascript\">                                    window.PLOTLYENV=window.PLOTLYENV || {};                                    if (document.getElementById(\"a7782497-0dc7-4b6f-9ab4-ea2f9d0eafd7\")) {                    Plotly.newPlot(                        \"a7782497-0dc7-4b6f-9ab4-ea2f9d0eafd7\",                        [{\"domain\":{\"x\":[0.0,1.0],\"y\":[0.0,1.0]},\"hole\":0.5,\"hovertemplate\":\"indicator_name=%{label}<br>indicator=%{value}<extra></extra>\",\"labels\":[\"Fixed users\",\"Mobile users\"],\"legendgroup\":\"\",\"name\":\"\",\"showlegend\":true,\"values\":[1.253812071,29.5],\"type\":\"pie\",\"textinfo\":\"percent+label\",\"textposition\":\"inside\"}],                        {\"template\":{\"data\":{\"bar\":[{\"error_x\":{\"color\":\"#2a3f5f\"},\"error_y\":{\"color\":\"#2a3f5f\"},\"marker\":{\"line\":{\"color\":\"#E5ECF6\",\"width\":0.5},\"pattern\":{\"fillmode\":\"overlay\",\"size\":10,\"solidity\":0.2}},\"type\":\"bar\"}],\"barpolar\":[{\"marker\":{\"line\":{\"color\":\"#E5ECF6\",\"width\":0.5},\"pattern\":{\"fillmode\":\"overlay\",\"size\":10,\"solidity\":0.2}},\"type\":\"barpolar\"}],\"carpet\":[{\"aaxis\":{\"endlinecolor\":\"#2a3f5f\",\"gridcolor\":\"white\",\"linecolor\":\"white\",\"minorgridcolor\":\"white\",\"startlinecolor\":\"#2a3f5f\"},\"baxis\":{\"endlinecolor\":\"#2a3f5f\",\"gridcolor\":\"white\",\"linecolor\":\"white\",\"minorgridcolor\":\"white\",\"startlinecolor\":\"#2a3f5f\"},\"type\":\"carpet\"}],\"choropleth\":[{\"colorbar\":{\"outlinewidth\":0,\"ticks\":\"\"},\"type\":\"choropleth\"}],\"contour\":[{\"colorbar\":{\"outlinewidth\":0,\"ticks\":\"\"},\"colorscale\":[[0.0,\"#0d0887\"],[0.1111111111111111,\"#46039f\"],[0.2222222222222222,\"#7201a8\"],[0.3333333333333333,\"#9c179e\"],[0.4444444444444444,\"#bd3786\"],[0.5555555555555556,\"#d8576b\"],[0.6666666666666666,\"#ed7953\"],[0.7777777777777778,\"#fb9f3a\"],[0.8888888888888888,\"#fdca26\"],[1.0,\"#f0f921\"]],\"type\":\"contour\"}],\"contourcarpet\":[{\"colorbar\":{\"outlinewidth\":0,\"ticks\":\"\"},\"type\":\"contourcarpet\"}],\"heatmap\":[{\"colorbar\":{\"outlinewidth\":0,\"ticks\":\"\"},\"colorscale\":[[0.0,\"#0d0887\"],[0.1111111111111111,\"#46039f\"],[0.2222222222222222,\"#7201a8\"],[0.3333333333333333,\"#9c179e\"],[0.4444444444444444,\"#bd3786\"],[0.5555555555555556,\"#d8576b\"],[0.6666666666666666,\"#ed7953\"],[0.7777777777777778,\"#fb9f3a\"],[0.8888888888888888,\"#fdca26\"],[1.0,\"#f0f921\"]],\"type\":\"heatmap\"}],\"heatmapgl\":[{\"colorbar\":{\"outlinewidth\":0,\"ticks\":\"\"},\"colorscale\":[[0.0,\"#0d0887\"],[0.1111111111111111,\"#46039f\"],[0.2222222222222222,\"#7201a8\"],[0.3333333333333333,\"#9c179e\"],[0.4444444444444444,\"#bd3786\"],[0.5555555555555556,\"#d8576b\"],[0.6666666666666666,\"#ed7953\"],[0.7777777777777778,\"#fb9f3a\"],[0.8888888888888888,\"#fdca26\"],[1.0,\"#f0f921\"]],\"type\":\"heatmapgl\"}],\"histogram\":[{\"marker\":{\"pattern\":{\"fillmode\":\"overlay\",\"size\":10,\"solidity\":0.2}},\"type\":\"histogram\"}],\"histogram2d\":[{\"colorbar\":{\"outlinewidth\":0,\"ticks\":\"\"},\"colorscale\":[[0.0,\"#0d0887\"],[0.1111111111111111,\"#46039f\"],[0.2222222222222222,\"#7201a8\"],[0.3333333333333333,\"#9c179e\"],[0.4444444444444444,\"#bd3786\"],[0.5555555555555556,\"#d8576b\"],[0.6666666666666666,\"#ed7953\"],[0.7777777777777778,\"#fb9f3a\"],[0.8888888888888888,\"#fdca26\"],[1.0,\"#f0f921\"]],\"type\":\"histogram2d\"}],\"histogram2dcontour\":[{\"colorbar\":{\"outlinewidth\":0,\"ticks\":\"\"},\"colorscale\":[[0.0,\"#0d0887\"],[0.1111111111111111,\"#46039f\"],[0.2222222222222222,\"#7201a8\"],[0.3333333333333333,\"#9c179e\"],[0.4444444444444444,\"#bd3786\"],[0.5555555555555556,\"#d8576b\"],[0.6666666666666666,\"#ed7953\"],[0.7777777777777778,\"#fb9f3a\"],[0.8888888888888888,\"#fdca26\"],[1.0,\"#f0f921\"]],\"type\":\"histogram2dcontour\"}],\"mesh3d\":[{\"colorbar\":{\"outlinewidth\":0,\"ticks\":\"\"},\"type\":\"mesh3d\"}],\"parcoords\":[{\"line\":{\"colorbar\":{\"outlinewidth\":0,\"ticks\":\"\"}},\"type\":\"parcoords\"}],\"pie\":[{\"automargin\":true,\"type\":\"pie\"}],\"scatter\":[{\"marker\":{\"colorbar\":{\"outlinewidth\":0,\"ticks\":\"\"}},\"type\":\"scatter\"}],\"scatter3d\":[{\"line\":{\"colorbar\":{\"outlinewidth\":0,\"ticks\":\"\"}},\"marker\":{\"colorbar\":{\"outlinewidth\":0,\"ticks\":\"\"}},\"type\":\"scatter3d\"}],\"scattercarpet\":[{\"marker\":{\"colorbar\":{\"outlinewidth\":0,\"ticks\":\"\"}},\"type\":\"scattercarpet\"}],\"scattergeo\":[{\"marker\":{\"colorbar\":{\"outlinewidth\":0,\"ticks\":\"\"}},\"type\":\"scattergeo\"}],\"scattergl\":[{\"marker\":{\"colorbar\":{\"outlinewidth\":0,\"ticks\":\"\"}},\"type\":\"scattergl\"}],\"scattermapbox\":[{\"marker\":{\"colorbar\":{\"outlinewidth\":0,\"ticks\":\"\"}},\"type\":\"scattermapbox\"}],\"scatterpolar\":[{\"marker\":{\"colorbar\":{\"outlinewidth\":0,\"ticks\":\"\"}},\"type\":\"scatterpolar\"}],\"scatterpolargl\":[{\"marker\":{\"colorbar\":{\"outlinewidth\":0,\"ticks\":\"\"}},\"type\":\"scatterpolargl\"}],\"scatterternary\":[{\"marker\":{\"colorbar\":{\"outlinewidth\":0,\"ticks\":\"\"}},\"type\":\"scatterternary\"}],\"surface\":[{\"colorbar\":{\"outlinewidth\":0,\"ticks\":\"\"},\"colorscale\":[[0.0,\"#0d0887\"],[0.1111111111111111,\"#46039f\"],[0.2222222222222222,\"#7201a8\"],[0.3333333333333333,\"#9c179e\"],[0.4444444444444444,\"#bd3786\"],[0.5555555555555556,\"#d8576b\"],[0.6666666666666666,\"#ed7953\"],[0.7777777777777778,\"#fb9f3a\"],[0.8888888888888888,\"#fdca26\"],[1.0,\"#f0f921\"]],\"type\":\"surface\"}],\"table\":[{\"cells\":{\"fill\":{\"color\":\"#EBF0F8\"},\"line\":{\"color\":\"white\"}},\"header\":{\"fill\":{\"color\":\"#C8D4E3\"},\"line\":{\"color\":\"white\"}},\"type\":\"table\"}]},\"layout\":{\"annotationdefaults\":{\"arrowcolor\":\"#2a3f5f\",\"arrowhead\":0,\"arrowwidth\":1},\"autotypenumbers\":\"strict\",\"coloraxis\":{\"colorbar\":{\"outlinewidth\":0,\"ticks\":\"\"}},\"colorscale\":{\"diverging\":[[0,\"#8e0152\"],[0.1,\"#c51b7d\"],[0.2,\"#de77ae\"],[0.3,\"#f1b6da\"],[0.4,\"#fde0ef\"],[0.5,\"#f7f7f7\"],[0.6,\"#e6f5d0\"],[0.7,\"#b8e186\"],[0.8,\"#7fbc41\"],[0.9,\"#4d9221\"],[1,\"#276419\"]],\"sequential\":[[0.0,\"#0d0887\"],[0.1111111111111111,\"#46039f\"],[0.2222222222222222,\"#7201a8\"],[0.3333333333333333,\"#9c179e\"],[0.4444444444444444,\"#bd3786\"],[0.5555555555555556,\"#d8576b\"],[0.6666666666666666,\"#ed7953\"],[0.7777777777777778,\"#fb9f3a\"],[0.8888888888888888,\"#fdca26\"],[1.0,\"#f0f921\"]],\"sequentialminus\":[[0.0,\"#0d0887\"],[0.1111111111111111,\"#46039f\"],[0.2222222222222222,\"#7201a8\"],[0.3333333333333333,\"#9c179e\"],[0.4444444444444444,\"#bd3786\"],[0.5555555555555556,\"#d8576b\"],[0.6666666666666666,\"#ed7953\"],[0.7777777777777778,\"#fb9f3a\"],[0.8888888888888888,\"#fdca26\"],[1.0,\"#f0f921\"]]},\"colorway\":[\"#636efa\",\"#EF553B\",\"#00cc96\",\"#ab63fa\",\"#FFA15A\",\"#19d3f3\",\"#FF6692\",\"#B6E880\",\"#FF97FF\",\"#FECB52\"],\"font\":{\"color\":\"#2a3f5f\"},\"geo\":{\"bgcolor\":\"white\",\"lakecolor\":\"white\",\"landcolor\":\"#E5ECF6\",\"showlakes\":true,\"showland\":true,\"subunitcolor\":\"white\"},\"hoverlabel\":{\"align\":\"left\"},\"hovermode\":\"closest\",\"mapbox\":{\"style\":\"light\"},\"paper_bgcolor\":\"white\",\"plot_bgcolor\":\"#E5ECF6\",\"polar\":{\"angularaxis\":{\"gridcolor\":\"white\",\"linecolor\":\"white\",\"ticks\":\"\"},\"bgcolor\":\"#E5ECF6\",\"radialaxis\":{\"gridcolor\":\"white\",\"linecolor\":\"white\",\"ticks\":\"\"}},\"scene\":{\"xaxis\":{\"backgroundcolor\":\"#E5ECF6\",\"gridcolor\":\"white\",\"gridwidth\":2,\"linecolor\":\"white\",\"showbackground\":true,\"ticks\":\"\",\"zerolinecolor\":\"white\"},\"yaxis\":{\"backgroundcolor\":\"#E5ECF6\",\"gridcolor\":\"white\",\"gridwidth\":2,\"linecolor\":\"white\",\"showbackground\":true,\"ticks\":\"\",\"zerolinecolor\":\"white\"},\"zaxis\":{\"backgroundcolor\":\"#E5ECF6\",\"gridcolor\":\"white\",\"gridwidth\":2,\"linecolor\":\"white\",\"showbackground\":true,\"ticks\":\"\",\"zerolinecolor\":\"white\"}},\"shapedefaults\":{\"line\":{\"color\":\"#2a3f5f\"}},\"ternary\":{\"aaxis\":{\"gridcolor\":\"white\",\"linecolor\":\"white\",\"ticks\":\"\"},\"baxis\":{\"gridcolor\":\"white\",\"linecolor\":\"white\",\"ticks\":\"\"},\"bgcolor\":\"#E5ECF6\",\"caxis\":{\"gridcolor\":\"white\",\"linecolor\":\"white\",\"ticks\":\"\"}},\"title\":{\"x\":0.05},\"xaxis\":{\"automargin\":true,\"gridcolor\":\"white\",\"linecolor\":\"white\",\"ticks\":\"\",\"title\":{\"standoff\":15},\"zerolinecolor\":\"white\",\"zerolinewidth\":2},\"yaxis\":{\"automargin\":true,\"gridcolor\":\"white\",\"linecolor\":\"white\",\"ticks\":\"\",\"title\":{\"standoff\":15},\"zerolinecolor\":\"white\",\"zerolinewidth\":2}}},\"legend\":{\"tracegroupgap\":0},\"margin\":{\"t\":60},\"piecolorway\":[\"rgb(103,0,31)\",\"rgb(178,24,43)\",\"rgb(214,96,77)\",\"rgb(244,165,130)\",\"rgb(253,219,199)\",\"rgb(247,247,247)\",\"rgb(209,229,240)\",\"rgb(146,197,222)\",\"rgb(67,147,195)\",\"rgb(33,102,172)\",\"rgb(5,48,97)\"],\"title\":{\"text\":\"fixed vs mobile internet users\",\"x\":0.45,\"xanchor\":\"center\",\"yanchor\":\"top\"}},                        {\"responsive\": true}                    ).then(function(){\n",
              "                            \n",
              "var gd = document.getElementById('a7782497-0dc7-4b6f-9ab4-ea2f9d0eafd7');\n",
              "var x = new MutationObserver(function (mutations, observer) {{\n",
              "        var display = window.getComputedStyle(gd).display;\n",
              "        if (!display || display === 'none') {{\n",
              "            console.log([gd, 'removed!']);\n",
              "            Plotly.purge(gd);\n",
              "            observer.disconnect();\n",
              "        }}\n",
              "}});\n",
              "\n",
              "// Listen for the removal of the full notebook cells\n",
              "var notebookContainer = gd.closest('#notebook-container');\n",
              "if (notebookContainer) {{\n",
              "    x.observe(notebookContainer, {childList: true});\n",
              "}}\n",
              "\n",
              "// Listen for the clearing of the current output cell\n",
              "var outputEl = gd.closest('.output');\n",
              "if (outputEl) {{\n",
              "    x.observe(outputEl, {childList: true});\n",
              "}}\n",
              "\n",
              "                        })                };                            </script>        </div>\n",
              "</body>\n",
              "</html>"
            ]
          },
          "metadata": {}
        }
      ]
    },
    {
      "cell_type": "markdown",
      "source": [
        "It shows there is a huge number of untapped internet users.\n",
        "It also shows the opportunity for smartphone sales as from the trend, most internet users are using mobile"
      ],
      "metadata": {
        "id": "Tp02I2oWW-aF"
      }
    },
    {
      "cell_type": "markdown",
      "source": [],
      "metadata": {
        "id": "f2RzK2HaaT4k"
      }
    },
    {
      "cell_type": "code",
      "source": [
        "username = 'john.karuria' # your username\n",
        "api_key = '4giUwg4h1P8G2w8i8JOR' # your api key - go to profile > settings > regenerate key\n",
        "chart_studio.tools.set_credentials_file(username=username, api_key=api_key)"
      ],
      "metadata": {
        "id": "gsXdbfs5UAF7"
      },
      "execution_count": 30,
      "outputs": []
    },
    {
      "cell_type": "code",
      "source": [
        "import chart_studio.plotly as py\n",
        "py.plot(fixedvsmobile_internet, filename = 'My Visusalisation2', auto_open=True)"
      ],
      "metadata": {
        "colab": {
          "base_uri": "https://localhost:8080/",
          "height": 35
        },
        "id": "ydzqkAN5U6sH",
        "outputId": "1efa9a2a-d98c-4145-db37-656877c7755b"
      },
      "execution_count": 32,
      "outputs": [
        {
          "output_type": "execute_result",
          "data": {
            "text/plain": [
              "'https://plotly.com/~john.karuria/14/'"
            ],
            "application/vnd.google.colaboratory.intrinsic+json": {
              "type": "string"
            }
          },
          "metadata": {},
          "execution_count": 32
        }
      ]
    },
    {
      "cell_type": "code",
      "source": [
        "import chart_studio.tools as tls\n",
        "tls.get_embed('https://plot.ly/~yoururl/9/') #change to your url"
      ],
      "metadata": {
        "id": "3m9N1eeIVqm_"
      },
      "execution_count": null,
      "outputs": []
    },
    {
      "cell_type": "markdown",
      "source": [
        "The state of Kenya mobile subscription to the rest of africa. The data source is World bank data"
      ],
      "metadata": {
        "id": "XlMLJ8jjT1NH"
      }
    },
    {
      "cell_type": "code",
      "source": [
        "# import and read the africa data set\n",
        "Africa_mobile_df = pd.read_csv(\"/content/Africa_World_Bank_Mobile_Data.csv\")\n",
        "\n",
        "\n",
        "Africa_mobile_df.head()"
      ],
      "metadata": {
        "colab": {
          "base_uri": "https://localhost:8080/",
          "height": 664
        },
        "id": "EEJ4-t6YkVpv",
        "outputId": "c62a551a-9661-4206-a9f4-a38b853c5565"
      },
      "execution_count": 33,
      "outputs": [
        {
          "output_type": "execute_result",
          "data": {
            "text/plain": [
              "                                      Series Name     Series Code  \\\n",
              "0  Mobile cellular subscriptions (per 100 people)  IT.CEL.SETS.P2   \n",
              "1  Mobile cellular subscriptions (per 100 people)  IT.CEL.SETS.P2   \n",
              "2  Mobile cellular subscriptions (per 100 people)  IT.CEL.SETS.P2   \n",
              "3  Mobile cellular subscriptions (per 100 people)  IT.CEL.SETS.P2   \n",
              "4  Mobile cellular subscriptions (per 100 people)  IT.CEL.SETS.P2   \n",
              "\n",
              "   Country Name Country Code 2001 [YR2001] 2002 [YR2002] 2003 [YR2003]  \\\n",
              "0        Angola          AGO   0.442588771   0.799113349   1.931409682   \n",
              "1         Benin          BEN    1.76635179   2.998741398   3.140393229   \n",
              "2      Botswana          BWA   19.84047082   19.49171732   25.65604896   \n",
              "3  Burkina Faso          BFA   0.637828667   0.903051305    1.88147871   \n",
              "4       Burundi          BDI   0.512079834   0.775643251   0.926307331   \n",
              "\n",
              "  2004 [YR2004] 2005 [YR2005] 2006 [YR2006]  ... 2012 [YR2012] 2013 [YR2013]  \\\n",
              "0   3.944952979   8.290372521   15.15947895  ...   50.92059955   51.06592034   \n",
              "1   5.926732425   7.469934761   12.84824429  ...   86.41824256   96.23029067   \n",
              "2   29.61382069   31.33727387   44.83176717  ...    151.097886   157.4163123   \n",
              "3   3.038539606   4.720289854   7.351161053  ...   60.20127144   65.84096268   \n",
              "4    1.41004387   2.077432001   2.628863954  ...   24.30379533   26.59070882   \n",
              "\n",
              "  2014 [YR2014] 2015 [YR2015] 2016 [YR2016] 2017 [YR2017] 2018 [YR2018]  \\\n",
              "0   52.15898327   49.79322295   45.07629005   44.68610714   43.13051888   \n",
              "1   84.18939764    88.1051181    81.7921125   78.50459562   82.38429039   \n",
              "2   163.2901277   163.8751723   152.2730166   146.9601556   150.0055899   \n",
              "3   71.04725171   79.77028842   82.61152567   93.50365342   97.91227142   \n",
              "4    32.4376271   49.18977601   51.08522649   54.68367609   56.53470747   \n",
              "\n",
              "  2019 [YR2019] 2020 [YR2020] 2021 [YR2021]  \n",
              "0   46.59863797   44.55951073            ..  \n",
              "1   87.70201313    91.8972796            ..  \n",
              "2   162.6411807   162.8407907            ..  \n",
              "3   100.2122395   105.8074398            ..  \n",
              "4   56.64970019   55.76714706            ..  \n",
              "\n",
              "[5 rows x 25 columns]"
            ],
            "text/html": [
              "\n",
              "  <div id=\"df-9f233a6b-bc54-42a4-bace-43fcd071e9a2\">\n",
              "    <div class=\"colab-df-container\">\n",
              "      <div>\n",
              "<style scoped>\n",
              "    .dataframe tbody tr th:only-of-type {\n",
              "        vertical-align: middle;\n",
              "    }\n",
              "\n",
              "    .dataframe tbody tr th {\n",
              "        vertical-align: top;\n",
              "    }\n",
              "\n",
              "    .dataframe thead th {\n",
              "        text-align: right;\n",
              "    }\n",
              "</style>\n",
              "<table border=\"1\" class=\"dataframe\">\n",
              "  <thead>\n",
              "    <tr style=\"text-align: right;\">\n",
              "      <th></th>\n",
              "      <th>Series Name</th>\n",
              "      <th>Series Code</th>\n",
              "      <th>Country Name</th>\n",
              "      <th>Country Code</th>\n",
              "      <th>2001 [YR2001]</th>\n",
              "      <th>2002 [YR2002]</th>\n",
              "      <th>2003 [YR2003]</th>\n",
              "      <th>2004 [YR2004]</th>\n",
              "      <th>2005 [YR2005]</th>\n",
              "      <th>2006 [YR2006]</th>\n",
              "      <th>...</th>\n",
              "      <th>2012 [YR2012]</th>\n",
              "      <th>2013 [YR2013]</th>\n",
              "      <th>2014 [YR2014]</th>\n",
              "      <th>2015 [YR2015]</th>\n",
              "      <th>2016 [YR2016]</th>\n",
              "      <th>2017 [YR2017]</th>\n",
              "      <th>2018 [YR2018]</th>\n",
              "      <th>2019 [YR2019]</th>\n",
              "      <th>2020 [YR2020]</th>\n",
              "      <th>2021 [YR2021]</th>\n",
              "    </tr>\n",
              "  </thead>\n",
              "  <tbody>\n",
              "    <tr>\n",
              "      <th>0</th>\n",
              "      <td>Mobile cellular subscriptions (per 100 people)</td>\n",
              "      <td>IT.CEL.SETS.P2</td>\n",
              "      <td>Angola</td>\n",
              "      <td>AGO</td>\n",
              "      <td>0.442588771</td>\n",
              "      <td>0.799113349</td>\n",
              "      <td>1.931409682</td>\n",
              "      <td>3.944952979</td>\n",
              "      <td>8.290372521</td>\n",
              "      <td>15.15947895</td>\n",
              "      <td>...</td>\n",
              "      <td>50.92059955</td>\n",
              "      <td>51.06592034</td>\n",
              "      <td>52.15898327</td>\n",
              "      <td>49.79322295</td>\n",
              "      <td>45.07629005</td>\n",
              "      <td>44.68610714</td>\n",
              "      <td>43.13051888</td>\n",
              "      <td>46.59863797</td>\n",
              "      <td>44.55951073</td>\n",
              "      <td>..</td>\n",
              "    </tr>\n",
              "    <tr>\n",
              "      <th>1</th>\n",
              "      <td>Mobile cellular subscriptions (per 100 people)</td>\n",
              "      <td>IT.CEL.SETS.P2</td>\n",
              "      <td>Benin</td>\n",
              "      <td>BEN</td>\n",
              "      <td>1.76635179</td>\n",
              "      <td>2.998741398</td>\n",
              "      <td>3.140393229</td>\n",
              "      <td>5.926732425</td>\n",
              "      <td>7.469934761</td>\n",
              "      <td>12.84824429</td>\n",
              "      <td>...</td>\n",
              "      <td>86.41824256</td>\n",
              "      <td>96.23029067</td>\n",
              "      <td>84.18939764</td>\n",
              "      <td>88.1051181</td>\n",
              "      <td>81.7921125</td>\n",
              "      <td>78.50459562</td>\n",
              "      <td>82.38429039</td>\n",
              "      <td>87.70201313</td>\n",
              "      <td>91.8972796</td>\n",
              "      <td>..</td>\n",
              "    </tr>\n",
              "    <tr>\n",
              "      <th>2</th>\n",
              "      <td>Mobile cellular subscriptions (per 100 people)</td>\n",
              "      <td>IT.CEL.SETS.P2</td>\n",
              "      <td>Botswana</td>\n",
              "      <td>BWA</td>\n",
              "      <td>19.84047082</td>\n",
              "      <td>19.49171732</td>\n",
              "      <td>25.65604896</td>\n",
              "      <td>29.61382069</td>\n",
              "      <td>31.33727387</td>\n",
              "      <td>44.83176717</td>\n",
              "      <td>...</td>\n",
              "      <td>151.097886</td>\n",
              "      <td>157.4163123</td>\n",
              "      <td>163.2901277</td>\n",
              "      <td>163.8751723</td>\n",
              "      <td>152.2730166</td>\n",
              "      <td>146.9601556</td>\n",
              "      <td>150.0055899</td>\n",
              "      <td>162.6411807</td>\n",
              "      <td>162.8407907</td>\n",
              "      <td>..</td>\n",
              "    </tr>\n",
              "    <tr>\n",
              "      <th>3</th>\n",
              "      <td>Mobile cellular subscriptions (per 100 people)</td>\n",
              "      <td>IT.CEL.SETS.P2</td>\n",
              "      <td>Burkina Faso</td>\n",
              "      <td>BFA</td>\n",
              "      <td>0.637828667</td>\n",
              "      <td>0.903051305</td>\n",
              "      <td>1.88147871</td>\n",
              "      <td>3.038539606</td>\n",
              "      <td>4.720289854</td>\n",
              "      <td>7.351161053</td>\n",
              "      <td>...</td>\n",
              "      <td>60.20127144</td>\n",
              "      <td>65.84096268</td>\n",
              "      <td>71.04725171</td>\n",
              "      <td>79.77028842</td>\n",
              "      <td>82.61152567</td>\n",
              "      <td>93.50365342</td>\n",
              "      <td>97.91227142</td>\n",
              "      <td>100.2122395</td>\n",
              "      <td>105.8074398</td>\n",
              "      <td>..</td>\n",
              "    </tr>\n",
              "    <tr>\n",
              "      <th>4</th>\n",
              "      <td>Mobile cellular subscriptions (per 100 people)</td>\n",
              "      <td>IT.CEL.SETS.P2</td>\n",
              "      <td>Burundi</td>\n",
              "      <td>BDI</td>\n",
              "      <td>0.512079834</td>\n",
              "      <td>0.775643251</td>\n",
              "      <td>0.926307331</td>\n",
              "      <td>1.41004387</td>\n",
              "      <td>2.077432001</td>\n",
              "      <td>2.628863954</td>\n",
              "      <td>...</td>\n",
              "      <td>24.30379533</td>\n",
              "      <td>26.59070882</td>\n",
              "      <td>32.4376271</td>\n",
              "      <td>49.18977601</td>\n",
              "      <td>51.08522649</td>\n",
              "      <td>54.68367609</td>\n",
              "      <td>56.53470747</td>\n",
              "      <td>56.64970019</td>\n",
              "      <td>55.76714706</td>\n",
              "      <td>..</td>\n",
              "    </tr>\n",
              "  </tbody>\n",
              "</table>\n",
              "<p>5 rows × 25 columns</p>\n",
              "</div>\n",
              "      <button class=\"colab-df-convert\" onclick=\"convertToInteractive('df-9f233a6b-bc54-42a4-bace-43fcd071e9a2')\"\n",
              "              title=\"Convert this dataframe to an interactive table.\"\n",
              "              style=\"display:none;\">\n",
              "        \n",
              "  <svg xmlns=\"http://www.w3.org/2000/svg\" height=\"24px\"viewBox=\"0 0 24 24\"\n",
              "       width=\"24px\">\n",
              "    <path d=\"M0 0h24v24H0V0z\" fill=\"none\"/>\n",
              "    <path d=\"M18.56 5.44l.94 2.06.94-2.06 2.06-.94-2.06-.94-.94-2.06-.94 2.06-2.06.94zm-11 1L8.5 8.5l.94-2.06 2.06-.94-2.06-.94L8.5 2.5l-.94 2.06-2.06.94zm10 10l.94 2.06.94-2.06 2.06-.94-2.06-.94-.94-2.06-.94 2.06-2.06.94z\"/><path d=\"M17.41 7.96l-1.37-1.37c-.4-.4-.92-.59-1.43-.59-.52 0-1.04.2-1.43.59L10.3 9.45l-7.72 7.72c-.78.78-.78 2.05 0 2.83L4 21.41c.39.39.9.59 1.41.59.51 0 1.02-.2 1.41-.59l7.78-7.78 2.81-2.81c.8-.78.8-2.07 0-2.86zM5.41 20L4 18.59l7.72-7.72 1.47 1.35L5.41 20z\"/>\n",
              "  </svg>\n",
              "      </button>\n",
              "      \n",
              "  <style>\n",
              "    .colab-df-container {\n",
              "      display:flex;\n",
              "      flex-wrap:wrap;\n",
              "      gap: 12px;\n",
              "    }\n",
              "\n",
              "    .colab-df-convert {\n",
              "      background-color: #E8F0FE;\n",
              "      border: none;\n",
              "      border-radius: 50%;\n",
              "      cursor: pointer;\n",
              "      display: none;\n",
              "      fill: #1967D2;\n",
              "      height: 32px;\n",
              "      padding: 0 0 0 0;\n",
              "      width: 32px;\n",
              "    }\n",
              "\n",
              "    .colab-df-convert:hover {\n",
              "      background-color: #E2EBFA;\n",
              "      box-shadow: 0px 1px 2px rgba(60, 64, 67, 0.3), 0px 1px 3px 1px rgba(60, 64, 67, 0.15);\n",
              "      fill: #174EA6;\n",
              "    }\n",
              "\n",
              "    [theme=dark] .colab-df-convert {\n",
              "      background-color: #3B4455;\n",
              "      fill: #D2E3FC;\n",
              "    }\n",
              "\n",
              "    [theme=dark] .colab-df-convert:hover {\n",
              "      background-color: #434B5C;\n",
              "      box-shadow: 0px 1px 3px 1px rgba(0, 0, 0, 0.15);\n",
              "      filter: drop-shadow(0px 1px 2px rgba(0, 0, 0, 0.3));\n",
              "      fill: #FFFFFF;\n",
              "    }\n",
              "  </style>\n",
              "\n",
              "      <script>\n",
              "        const buttonEl =\n",
              "          document.querySelector('#df-9f233a6b-bc54-42a4-bace-43fcd071e9a2 button.colab-df-convert');\n",
              "        buttonEl.style.display =\n",
              "          google.colab.kernel.accessAllowed ? 'block' : 'none';\n",
              "\n",
              "        async function convertToInteractive(key) {\n",
              "          const element = document.querySelector('#df-9f233a6b-bc54-42a4-bace-43fcd071e9a2');\n",
              "          const dataTable =\n",
              "            await google.colab.kernel.invokeFunction('convertToInteractive',\n",
              "                                                     [key], {});\n",
              "          if (!dataTable) return;\n",
              "\n",
              "          const docLinkHtml = 'Like what you see? Visit the ' +\n",
              "            '<a target=\"_blank\" href=https://colab.research.google.com/notebooks/data_table.ipynb>data table notebook</a>'\n",
              "            + ' to learn more about interactive tables.';\n",
              "          element.innerHTML = '';\n",
              "          dataTable['output_type'] = 'display_data';\n",
              "          await google.colab.output.renderOutput(dataTable, element);\n",
              "          const docLink = document.createElement('div');\n",
              "          docLink.innerHTML = docLinkHtml;\n",
              "          element.appendChild(docLink);\n",
              "        }\n",
              "      </script>\n",
              "    </div>\n",
              "  </div>\n",
              "  "
            ]
          },
          "metadata": {},
          "execution_count": 33
        }
      ]
    },
    {
      "cell_type": "code",
      "source": [
        "#drop unnesseray columns\n",
        "new_africa_mobile_df= Africa_mobile_df.drop(columns =['Country Code','Series Code'] , inplace=True)"
      ],
      "metadata": {
        "id": "s9p5_yzKknUY"
      },
      "execution_count": 34,
      "outputs": []
    },
    {
      "cell_type": "code",
      "source": [
        "Africa_mobile_df.head()"
      ],
      "metadata": {
        "colab": {
          "base_uri": "https://localhost:8080/",
          "height": 647
        },
        "id": "JGCk12MblPFX",
        "outputId": "da8b146e-1582-46a9-e862-5ba856e17e42"
      },
      "execution_count": 38,
      "outputs": [
        {
          "output_type": "execute_result",
          "data": {
            "text/plain": [
              "                                      series_name  country_name 2001_[yr2001]  \\\n",
              "0  Mobile cellular subscriptions (per 100 people)        Angola   0.442588771   \n",
              "1  Mobile cellular subscriptions (per 100 people)         Benin    1.76635179   \n",
              "2  Mobile cellular subscriptions (per 100 people)      Botswana   19.84047082   \n",
              "3  Mobile cellular subscriptions (per 100 people)  Burkina Faso   0.637828667   \n",
              "4  Mobile cellular subscriptions (per 100 people)       Burundi   0.512079834   \n",
              "\n",
              "  2002_[yr2002] 2003_[yr2003] 2004_[yr2004] 2005_[yr2005] 2006_[yr2006]  \\\n",
              "0   0.799113349   1.931409682   3.944952979   8.290372521   15.15947895   \n",
              "1   2.998741398   3.140393229   5.926732425   7.469934761   12.84824429   \n",
              "2   19.49171732   25.65604896   29.61382069   31.33727387   44.83176717   \n",
              "3   0.903051305    1.88147871   3.038539606   4.720289854   7.351161053   \n",
              "4   0.775643251   0.926307331    1.41004387   2.077432001   2.628863954   \n",
              "\n",
              "  2007_[yr2007] 2008_[yr2008]  ... 2012_[yr2012] 2013_[yr2013] 2014_[yr2014]  \\\n",
              "0   23.73331666   31.21990351  ...   50.92059955   51.06592034   52.15898327   \n",
              "1   24.26760773   41.68562644  ...   86.41824256   96.23029067   84.18939764   \n",
              "2   61.41221962   77.56111668  ...    151.097886   157.4163123   163.2901277   \n",
              "3   13.03701419   20.58683876  ...   60.20127144   65.84096268   71.04725171   \n",
              "4   3.434147175   5.914077869  ...   24.30379533   26.59070882    32.4376271   \n",
              "\n",
              "  2015_[yr2015] 2016_[yr2016] 2017_[yr2017] 2018_[yr2018] 2019_[yr2019]  \\\n",
              "0   49.79322295   45.07629005   44.68610714   43.13051888   46.59863797   \n",
              "1    88.1051181    81.7921125   78.50459562   82.38429039   87.70201313   \n",
              "2   163.8751723   152.2730166   146.9601556   150.0055899   162.6411807   \n",
              "3   79.77028842   82.61152567   93.50365342   97.91227142   100.2122395   \n",
              "4   49.18977601   51.08522649   54.68367609   56.53470747   56.64970019   \n",
              "\n",
              "  2020_[yr2020] 2021_[yr2021]  \n",
              "0   44.55951073            ..  \n",
              "1    91.8972796            ..  \n",
              "2   162.8407907            ..  \n",
              "3   105.8074398            ..  \n",
              "4   55.76714706            ..  \n",
              "\n",
              "[5 rows x 23 columns]"
            ],
            "text/html": [
              "\n",
              "  <div id=\"df-c97dde88-30e7-4396-8f29-b47c09eed9a1\">\n",
              "    <div class=\"colab-df-container\">\n",
              "      <div>\n",
              "<style scoped>\n",
              "    .dataframe tbody tr th:only-of-type {\n",
              "        vertical-align: middle;\n",
              "    }\n",
              "\n",
              "    .dataframe tbody tr th {\n",
              "        vertical-align: top;\n",
              "    }\n",
              "\n",
              "    .dataframe thead th {\n",
              "        text-align: right;\n",
              "    }\n",
              "</style>\n",
              "<table border=\"1\" class=\"dataframe\">\n",
              "  <thead>\n",
              "    <tr style=\"text-align: right;\">\n",
              "      <th></th>\n",
              "      <th>series_name</th>\n",
              "      <th>country_name</th>\n",
              "      <th>2001_[yr2001]</th>\n",
              "      <th>2002_[yr2002]</th>\n",
              "      <th>2003_[yr2003]</th>\n",
              "      <th>2004_[yr2004]</th>\n",
              "      <th>2005_[yr2005]</th>\n",
              "      <th>2006_[yr2006]</th>\n",
              "      <th>2007_[yr2007]</th>\n",
              "      <th>2008_[yr2008]</th>\n",
              "      <th>...</th>\n",
              "      <th>2012_[yr2012]</th>\n",
              "      <th>2013_[yr2013]</th>\n",
              "      <th>2014_[yr2014]</th>\n",
              "      <th>2015_[yr2015]</th>\n",
              "      <th>2016_[yr2016]</th>\n",
              "      <th>2017_[yr2017]</th>\n",
              "      <th>2018_[yr2018]</th>\n",
              "      <th>2019_[yr2019]</th>\n",
              "      <th>2020_[yr2020]</th>\n",
              "      <th>2021_[yr2021]</th>\n",
              "    </tr>\n",
              "  </thead>\n",
              "  <tbody>\n",
              "    <tr>\n",
              "      <th>0</th>\n",
              "      <td>Mobile cellular subscriptions (per 100 people)</td>\n",
              "      <td>Angola</td>\n",
              "      <td>0.442588771</td>\n",
              "      <td>0.799113349</td>\n",
              "      <td>1.931409682</td>\n",
              "      <td>3.944952979</td>\n",
              "      <td>8.290372521</td>\n",
              "      <td>15.15947895</td>\n",
              "      <td>23.73331666</td>\n",
              "      <td>31.21990351</td>\n",
              "      <td>...</td>\n",
              "      <td>50.92059955</td>\n",
              "      <td>51.06592034</td>\n",
              "      <td>52.15898327</td>\n",
              "      <td>49.79322295</td>\n",
              "      <td>45.07629005</td>\n",
              "      <td>44.68610714</td>\n",
              "      <td>43.13051888</td>\n",
              "      <td>46.59863797</td>\n",
              "      <td>44.55951073</td>\n",
              "      <td>..</td>\n",
              "    </tr>\n",
              "    <tr>\n",
              "      <th>1</th>\n",
              "      <td>Mobile cellular subscriptions (per 100 people)</td>\n",
              "      <td>Benin</td>\n",
              "      <td>1.76635179</td>\n",
              "      <td>2.998741398</td>\n",
              "      <td>3.140393229</td>\n",
              "      <td>5.926732425</td>\n",
              "      <td>7.469934761</td>\n",
              "      <td>12.84824429</td>\n",
              "      <td>24.26760773</td>\n",
              "      <td>41.68562644</td>\n",
              "      <td>...</td>\n",
              "      <td>86.41824256</td>\n",
              "      <td>96.23029067</td>\n",
              "      <td>84.18939764</td>\n",
              "      <td>88.1051181</td>\n",
              "      <td>81.7921125</td>\n",
              "      <td>78.50459562</td>\n",
              "      <td>82.38429039</td>\n",
              "      <td>87.70201313</td>\n",
              "      <td>91.8972796</td>\n",
              "      <td>..</td>\n",
              "    </tr>\n",
              "    <tr>\n",
              "      <th>2</th>\n",
              "      <td>Mobile cellular subscriptions (per 100 people)</td>\n",
              "      <td>Botswana</td>\n",
              "      <td>19.84047082</td>\n",
              "      <td>19.49171732</td>\n",
              "      <td>25.65604896</td>\n",
              "      <td>29.61382069</td>\n",
              "      <td>31.33727387</td>\n",
              "      <td>44.83176717</td>\n",
              "      <td>61.41221962</td>\n",
              "      <td>77.56111668</td>\n",
              "      <td>...</td>\n",
              "      <td>151.097886</td>\n",
              "      <td>157.4163123</td>\n",
              "      <td>163.2901277</td>\n",
              "      <td>163.8751723</td>\n",
              "      <td>152.2730166</td>\n",
              "      <td>146.9601556</td>\n",
              "      <td>150.0055899</td>\n",
              "      <td>162.6411807</td>\n",
              "      <td>162.8407907</td>\n",
              "      <td>..</td>\n",
              "    </tr>\n",
              "    <tr>\n",
              "      <th>3</th>\n",
              "      <td>Mobile cellular subscriptions (per 100 people)</td>\n",
              "      <td>Burkina Faso</td>\n",
              "      <td>0.637828667</td>\n",
              "      <td>0.903051305</td>\n",
              "      <td>1.88147871</td>\n",
              "      <td>3.038539606</td>\n",
              "      <td>4.720289854</td>\n",
              "      <td>7.351161053</td>\n",
              "      <td>13.03701419</td>\n",
              "      <td>20.58683876</td>\n",
              "      <td>...</td>\n",
              "      <td>60.20127144</td>\n",
              "      <td>65.84096268</td>\n",
              "      <td>71.04725171</td>\n",
              "      <td>79.77028842</td>\n",
              "      <td>82.61152567</td>\n",
              "      <td>93.50365342</td>\n",
              "      <td>97.91227142</td>\n",
              "      <td>100.2122395</td>\n",
              "      <td>105.8074398</td>\n",
              "      <td>..</td>\n",
              "    </tr>\n",
              "    <tr>\n",
              "      <th>4</th>\n",
              "      <td>Mobile cellular subscriptions (per 100 people)</td>\n",
              "      <td>Burundi</td>\n",
              "      <td>0.512079834</td>\n",
              "      <td>0.775643251</td>\n",
              "      <td>0.926307331</td>\n",
              "      <td>1.41004387</td>\n",
              "      <td>2.077432001</td>\n",
              "      <td>2.628863954</td>\n",
              "      <td>3.434147175</td>\n",
              "      <td>5.914077869</td>\n",
              "      <td>...</td>\n",
              "      <td>24.30379533</td>\n",
              "      <td>26.59070882</td>\n",
              "      <td>32.4376271</td>\n",
              "      <td>49.18977601</td>\n",
              "      <td>51.08522649</td>\n",
              "      <td>54.68367609</td>\n",
              "      <td>56.53470747</td>\n",
              "      <td>56.64970019</td>\n",
              "      <td>55.76714706</td>\n",
              "      <td>..</td>\n",
              "    </tr>\n",
              "  </tbody>\n",
              "</table>\n",
              "<p>5 rows × 23 columns</p>\n",
              "</div>\n",
              "      <button class=\"colab-df-convert\" onclick=\"convertToInteractive('df-c97dde88-30e7-4396-8f29-b47c09eed9a1')\"\n",
              "              title=\"Convert this dataframe to an interactive table.\"\n",
              "              style=\"display:none;\">\n",
              "        \n",
              "  <svg xmlns=\"http://www.w3.org/2000/svg\" height=\"24px\"viewBox=\"0 0 24 24\"\n",
              "       width=\"24px\">\n",
              "    <path d=\"M0 0h24v24H0V0z\" fill=\"none\"/>\n",
              "    <path d=\"M18.56 5.44l.94 2.06.94-2.06 2.06-.94-2.06-.94-.94-2.06-.94 2.06-2.06.94zm-11 1L8.5 8.5l.94-2.06 2.06-.94-2.06-.94L8.5 2.5l-.94 2.06-2.06.94zm10 10l.94 2.06.94-2.06 2.06-.94-2.06-.94-.94-2.06-.94 2.06-2.06.94z\"/><path d=\"M17.41 7.96l-1.37-1.37c-.4-.4-.92-.59-1.43-.59-.52 0-1.04.2-1.43.59L10.3 9.45l-7.72 7.72c-.78.78-.78 2.05 0 2.83L4 21.41c.39.39.9.59 1.41.59.51 0 1.02-.2 1.41-.59l7.78-7.78 2.81-2.81c.8-.78.8-2.07 0-2.86zM5.41 20L4 18.59l7.72-7.72 1.47 1.35L5.41 20z\"/>\n",
              "  </svg>\n",
              "      </button>\n",
              "      \n",
              "  <style>\n",
              "    .colab-df-container {\n",
              "      display:flex;\n",
              "      flex-wrap:wrap;\n",
              "      gap: 12px;\n",
              "    }\n",
              "\n",
              "    .colab-df-convert {\n",
              "      background-color: #E8F0FE;\n",
              "      border: none;\n",
              "      border-radius: 50%;\n",
              "      cursor: pointer;\n",
              "      display: none;\n",
              "      fill: #1967D2;\n",
              "      height: 32px;\n",
              "      padding: 0 0 0 0;\n",
              "      width: 32px;\n",
              "    }\n",
              "\n",
              "    .colab-df-convert:hover {\n",
              "      background-color: #E2EBFA;\n",
              "      box-shadow: 0px 1px 2px rgba(60, 64, 67, 0.3), 0px 1px 3px 1px rgba(60, 64, 67, 0.15);\n",
              "      fill: #174EA6;\n",
              "    }\n",
              "\n",
              "    [theme=dark] .colab-df-convert {\n",
              "      background-color: #3B4455;\n",
              "      fill: #D2E3FC;\n",
              "    }\n",
              "\n",
              "    [theme=dark] .colab-df-convert:hover {\n",
              "      background-color: #434B5C;\n",
              "      box-shadow: 0px 1px 3px 1px rgba(0, 0, 0, 0.15);\n",
              "      filter: drop-shadow(0px 1px 2px rgba(0, 0, 0, 0.3));\n",
              "      fill: #FFFFFF;\n",
              "    }\n",
              "  </style>\n",
              "\n",
              "      <script>\n",
              "        const buttonEl =\n",
              "          document.querySelector('#df-c97dde88-30e7-4396-8f29-b47c09eed9a1 button.colab-df-convert');\n",
              "        buttonEl.style.display =\n",
              "          google.colab.kernel.accessAllowed ? 'block' : 'none';\n",
              "\n",
              "        async function convertToInteractive(key) {\n",
              "          const element = document.querySelector('#df-c97dde88-30e7-4396-8f29-b47c09eed9a1');\n",
              "          const dataTable =\n",
              "            await google.colab.kernel.invokeFunction('convertToInteractive',\n",
              "                                                     [key], {});\n",
              "          if (!dataTable) return;\n",
              "\n",
              "          const docLinkHtml = 'Like what you see? Visit the ' +\n",
              "            '<a target=\"_blank\" href=https://colab.research.google.com/notebooks/data_table.ipynb>data table notebook</a>'\n",
              "            + ' to learn more about interactive tables.';\n",
              "          element.innerHTML = '';\n",
              "          dataTable['output_type'] = 'display_data';\n",
              "          await google.colab.output.renderOutput(dataTable, element);\n",
              "          const docLink = document.createElement('div');\n",
              "          docLink.innerHTML = docLinkHtml;\n",
              "          element.appendChild(docLink);\n",
              "        }\n",
              "      </script>\n",
              "    </div>\n",
              "  </div>\n",
              "  "
            ]
          },
          "metadata": {},
          "execution_count": 38
        }
      ]
    },
    {
      "cell_type": "code",
      "source": [
        "#checking duplicates\n",
        "Africa_mobile_df.duplicated().any()"
      ],
      "metadata": {
        "colab": {
          "base_uri": "https://localhost:8080/"
        },
        "id": "FNz9rGdnlAtO",
        "outputId": "6f5a199d-ccac-4183-d948-6b08de05a2f7"
      },
      "execution_count": 39,
      "outputs": [
        {
          "output_type": "execute_result",
          "data": {
            "text/plain": [
              "False"
            ]
          },
          "metadata": {},
          "execution_count": 39
        }
      ]
    },
    {
      "cell_type": "code",
      "source": [
        "#set all headers into lower case, replace spaces and join with -\n",
        "Africa_mobile_df.columns =Africa_mobile_df.columns.str.lower().str.strip().str.replace(' ', '_')\n",
        "\n"
      ],
      "metadata": {
        "id": "Jdv9n3OmlD62"
      },
      "execution_count": 40,
      "outputs": []
    },
    {
      "cell_type": "code",
      "source": [
        "#select mobile subscription\n",
        "africa_mobile_subscription_df =Africa_mobile_df[Africa_mobile_df.series_name.isin(['Mobile cellular subscriptions (per 100 people)'])]\n",
        "\n"
      ],
      "metadata": {
        "id": "ea3-zZYhlis1"
      },
      "execution_count": 41,
      "outputs": []
    },
    {
      "cell_type": "code",
      "source": [
        "#drop the serries name as it is common everwhere\n",
        "africa_mobile_subscription_df.drop(columns =['series_name'] , inplace=True)"
      ],
      "metadata": {
        "colab": {
          "base_uri": "https://localhost:8080/"
        },
        "id": "pupy3VFAmJsf",
        "outputId": "3b9bb14c-eea2-4c02-f4f1-2a2df7987049"
      },
      "execution_count": 42,
      "outputs": [
        {
          "output_type": "stream",
          "name": "stderr",
          "text": [
            "/usr/local/lib/python3.7/dist-packages/pandas/core/frame.py:4913: SettingWithCopyWarning:\n",
            "\n",
            "\n",
            "A value is trying to be set on a copy of a slice from a DataFrame\n",
            "\n",
            "See the caveats in the documentation: https://pandas.pydata.org/pandas-docs/stable/user_guide/indexing.html#returning-a-view-versus-a-copy\n",
            "\n"
          ]
        }
      ]
    },
    {
      "cell_type": "code",
      "source": [
        "#convert the dat to usable data frame for visualization\n",
        "Africa_clean_mobile_df = pd.melt(africa_mobile_subscription_df, id_vars=['country_name'], var_name ='Year', value_name='indicator')\n",
        "\n",
        "Africa_clean_mobile_df.dtypes"
      ],
      "metadata": {
        "colab": {
          "base_uri": "https://localhost:8080/"
        },
        "id": "GReTc32glv__",
        "outputId": "217bc13c-c5dc-4226-9507-2cd5faba1a34"
      },
      "execution_count": 45,
      "outputs": [
        {
          "output_type": "execute_result",
          "data": {
            "text/plain": [
              "country_name    object\n",
              "Year            object\n",
              "indicator       object\n",
              "dtype: object"
            ]
          },
          "metadata": {},
          "execution_count": 45
        }
      ]
    },
    {
      "cell_type": "code",
      "source": [
        "#clean the dat for the colum indicator by replacing .. with nothing\n",
        "Africa_clean_mobile_df['indicator'] = Africa_clean_mobile_df['indicator'].replace(['..'],'')"
      ],
      "metadata": {
        "id": "yQ1vM4NJm1Li"
      },
      "execution_count": 46,
      "outputs": []
    },
    {
      "cell_type": "code",
      "source": [
        "#convert the values in column indicator to numeric\n",
        "Africa_clean_mobile_df['indicator'] = pd.to_numeric(Africa_clean_mobile_df['indicator'])\n",
        "Africa_clean_mobile_df.dtypes"
      ],
      "metadata": {
        "colab": {
          "base_uri": "https://localhost:8080/"
        },
        "id": "vweLl3LunBZy",
        "outputId": "20eaaab6-29a7-4b2e-9c43-0ffae1a39d0e"
      },
      "execution_count": 48,
      "outputs": [
        {
          "output_type": "execute_result",
          "data": {
            "text/plain": [
              "country_name     object\n",
              "Year             object\n",
              "indicator       float64\n",
              "dtype: object"
            ]
          },
          "metadata": {},
          "execution_count": 48
        }
      ]
    },
    {
      "cell_type": "code",
      "source": [
        "#represent the penetration of mobile in africa countries on a graph\n",
        "# Render\n",
        "country_mobile_penetration = px.line(\n",
        "    Africa_clean_mobile_df, \n",
        "    x = 'Year',\n",
        "    y = 'indicator',\n",
        "    color = 'country_name',\n",
        "    labels = {\n",
        "        'Year' : \"Year\", \n",
        "        'value' : \"subscription rate\",\n",
        "        'variable' : \"Country\"\n",
        "    },\n",
        "    template = \"simple_white\"\n",
        "  )\n",
        "\n",
        "# Tweak and Label\n",
        "country_mobile_penetration.update_layout(\n",
        "    title = {\n",
        "        'text': 'Africa Countries Mobile Penetration rate', \n",
        "        'x': 0.5,\n",
        "        'font_size' : 15,\n",
        "        'xanchor': 'center',\n",
        "        'yanchor': 'top'},\n",
        "    xaxis_title_text = 'Year',\n",
        "    yaxis_title_text = 'penetration rate',\n",
        "  ) \n",
        "\n",
        "# Display\n",
        "country_mobile_penetration.show()"
      ],
      "metadata": {
        "colab": {
          "base_uri": "https://localhost:8080/",
          "height": 542
        },
        "id": "6F5Igvx5njgP",
        "outputId": "5e8c5395-85fd-4795-9444-2fa50a7c8cd9"
      },
      "execution_count": 49,
      "outputs": [
        {
          "output_type": "display_data",
          "data": {
            "text/html": [
              "<html>\n",
              "<head><meta charset=\"utf-8\" /></head>\n",
              "<body>\n",
              "    <div>            <script src=\"https://cdnjs.cloudflare.com/ajax/libs/mathjax/2.7.5/MathJax.js?config=TeX-AMS-MML_SVG\"></script><script type=\"text/javascript\">if (window.MathJax) {MathJax.Hub.Config({SVG: {font: \"STIX-Web\"}});}</script>                <script type=\"text/javascript\">window.PlotlyConfig = {MathJaxConfig: 'local'};</script>\n",
              "        <script src=\"https://cdn.plot.ly/plotly-2.8.3.min.js\"></script>                <div id=\"bbe87c7f-3c06-42b1-bf64-1d6543b4e895\" class=\"plotly-graph-div\" style=\"height:525px; width:100%;\"></div>            <script type=\"text/javascript\">                                    window.PLOTLYENV=window.PLOTLYENV || {};                                    if (document.getElementById(\"bbe87c7f-3c06-42b1-bf64-1d6543b4e895\")) {                    Plotly.newPlot(                        \"bbe87c7f-3c06-42b1-bf64-1d6543b4e895\",                        [{\"hovertemplate\":\"country_name=Angola<br>Year=%{x}<br>indicator=%{y}<extra></extra>\",\"legendgroup\":\"Angola\",\"line\":{\"color\":\"#1F77B4\",\"dash\":\"solid\"},\"marker\":{\"symbol\":\"circle\"},\"mode\":\"lines\",\"name\":\"Angola\",\"showlegend\":true,\"x\":[\"2001_[yr2001]\",\"2002_[yr2002]\",\"2003_[yr2003]\",\"2004_[yr2004]\",\"2005_[yr2005]\",\"2006_[yr2006]\",\"2007_[yr2007]\",\"2008_[yr2008]\",\"2009_[yr2009]\",\"2010_[yr2010]\",\"2011_[yr2011]\",\"2012_[yr2012]\",\"2013_[yr2013]\",\"2014_[yr2014]\",\"2015_[yr2015]\",\"2016_[yr2016]\",\"2017_[yr2017]\",\"2018_[yr2018]\",\"2019_[yr2019]\",\"2020_[yr2020]\",\"2021_[yr2021]\"],\"xaxis\":\"x\",\"y\":[0.442588771,0.799113349,1.931409682,3.944952979,8.290372521,15.15947895,23.73331666,31.21990351,36.01900945,40.26060095,49.84677338,50.92059955,51.06592034,52.15898327,49.79322295,45.07629005,44.68610714,43.13051888,46.59863797,44.55951073,null],\"yaxis\":\"y\",\"type\":\"scattergl\"},{\"hovertemplate\":\"country_name=Benin<br>Year=%{x}<br>indicator=%{y}<extra></extra>\",\"legendgroup\":\"Benin\",\"line\":{\"color\":\"#FF7F0E\",\"dash\":\"solid\"},\"marker\":{\"symbol\":\"circle\"},\"mode\":\"lines\",\"name\":\"Benin\",\"showlegend\":true,\"x\":[\"2001_[yr2001]\",\"2002_[yr2002]\",\"2003_[yr2003]\",\"2004_[yr2004]\",\"2005_[yr2005]\",\"2006_[yr2006]\",\"2007_[yr2007]\",\"2008_[yr2008]\",\"2009_[yr2009]\",\"2010_[yr2010]\",\"2011_[yr2011]\",\"2012_[yr2012]\",\"2013_[yr2013]\",\"2014_[yr2014]\",\"2015_[yr2015]\",\"2016_[yr2016]\",\"2017_[yr2017]\",\"2018_[yr2018]\",\"2019_[yr2019]\",\"2020_[yr2020]\",\"2021_[yr2021]\"],\"xaxis\":\"x\",\"y\":[1.76635179,2.998741398,3.140393229,5.926732425,7.469934761,12.84824429,24.26760773,41.68562644,56.27180898,76.90743352,82.07742005,86.41824256,96.23029067,84.18939764,88.1051181,81.7921125,78.50459562,82.38429039,87.70201313,91.8972796,null],\"yaxis\":\"y\",\"type\":\"scattergl\"},{\"hovertemplate\":\"country_name=Botswana<br>Year=%{x}<br>indicator=%{y}<extra></extra>\",\"legendgroup\":\"Botswana\",\"line\":{\"color\":\"#2CA02C\",\"dash\":\"solid\"},\"marker\":{\"symbol\":\"circle\"},\"mode\":\"lines\",\"name\":\"Botswana\",\"showlegend\":true,\"x\":[\"2001_[yr2001]\",\"2002_[yr2002]\",\"2003_[yr2003]\",\"2004_[yr2004]\",\"2005_[yr2005]\",\"2006_[yr2006]\",\"2007_[yr2007]\",\"2008_[yr2008]\",\"2009_[yr2009]\",\"2010_[yr2010]\",\"2011_[yr2011]\",\"2012_[yr2012]\",\"2013_[yr2013]\",\"2014_[yr2014]\",\"2015_[yr2015]\",\"2016_[yr2016]\",\"2017_[yr2017]\",\"2018_[yr2018]\",\"2019_[yr2019]\",\"2020_[yr2020]\",\"2021_[yr2021]\"],\"xaxis\":\"x\",\"y\":[19.84047082,19.49171732,25.65604896,29.61382069,31.33727387,44.83176717,61.41221962,77.56111668,95.93564979,118.9373989,143.9048667,151.097886,157.4163123,163.2901277,163.8751723,152.2730166,146.9601556,150.0055899,162.6411807,162.8407907,null],\"yaxis\":\"y\",\"type\":\"scattergl\"},{\"hovertemplate\":\"country_name=Burkina Faso<br>Year=%{x}<br>indicator=%{y}<extra></extra>\",\"legendgroup\":\"Burkina Faso\",\"line\":{\"color\":\"#D62728\",\"dash\":\"solid\"},\"marker\":{\"symbol\":\"circle\"},\"mode\":\"lines\",\"name\":\"Burkina Faso\",\"showlegend\":true,\"x\":[\"2001_[yr2001]\",\"2002_[yr2002]\",\"2003_[yr2003]\",\"2004_[yr2004]\",\"2005_[yr2005]\",\"2006_[yr2006]\",\"2007_[yr2007]\",\"2008_[yr2008]\",\"2009_[yr2009]\",\"2010_[yr2010]\",\"2011_[yr2011]\",\"2012_[yr2012]\",\"2013_[yr2013]\",\"2014_[yr2014]\",\"2015_[yr2015]\",\"2016_[yr2016]\",\"2017_[yr2017]\",\"2018_[yr2018]\",\"2019_[yr2019]\",\"2020_[yr2020]\",\"2021_[yr2021]\"],\"xaxis\":\"x\",\"y\":[0.637828667,0.903051305,1.88147871,3.038539606,4.720289854,7.351161053,13.03701419,20.58683876,25.25328744,36.57655001,47.76857082,60.20127144,65.84096268,71.04725171,79.77028842,82.61152567,93.50365342,97.91227142,100.2122395,105.8074398,null],\"yaxis\":\"y\",\"type\":\"scattergl\"},{\"hovertemplate\":\"country_name=Burundi<br>Year=%{x}<br>indicator=%{y}<extra></extra>\",\"legendgroup\":\"Burundi\",\"line\":{\"color\":\"#9467BD\",\"dash\":\"solid\"},\"marker\":{\"symbol\":\"circle\"},\"mode\":\"lines\",\"name\":\"Burundi\",\"showlegend\":true,\"x\":[\"2001_[yr2001]\",\"2002_[yr2002]\",\"2003_[yr2003]\",\"2004_[yr2004]\",\"2005_[yr2005]\",\"2006_[yr2006]\",\"2007_[yr2007]\",\"2008_[yr2008]\",\"2009_[yr2009]\",\"2010_[yr2010]\",\"2011_[yr2011]\",\"2012_[yr2012]\",\"2013_[yr2013]\",\"2014_[yr2014]\",\"2015_[yr2015]\",\"2016_[yr2016]\",\"2017_[yr2017]\",\"2018_[yr2018]\",\"2019_[yr2019]\",\"2020_[yr2020]\",\"2021_[yr2021]\"],\"xaxis\":\"x\",\"y\":[0.512079834,0.775643251,0.926307331,1.41004387,2.077432001,2.628863954,3.434147175,5.914077869,10.96434153,19.34193155,21.37194943,24.30379533,26.59070882,32.4376271,49.18977601,51.08522649,54.68367609,56.53470747,56.64970019,55.76714706,null],\"yaxis\":\"y\",\"type\":\"scattergl\"},{\"hovertemplate\":\"country_name=Cabo Verde<br>Year=%{x}<br>indicator=%{y}<extra></extra>\",\"legendgroup\":\"Cabo Verde\",\"line\":{\"color\":\"#8C564B\",\"dash\":\"solid\"},\"marker\":{\"symbol\":\"circle\"},\"mode\":\"lines\",\"name\":\"Cabo Verde\",\"showlegend\":true,\"x\":[\"2001_[yr2001]\",\"2002_[yr2002]\",\"2003_[yr2003]\",\"2004_[yr2004]\",\"2005_[yr2005]\",\"2006_[yr2006]\",\"2007_[yr2007]\",\"2008_[yr2008]\",\"2009_[yr2009]\",\"2010_[yr2010]\",\"2011_[yr2011]\",\"2012_[yr2012]\",\"2013_[yr2013]\",\"2014_[yr2014]\",\"2015_[yr2015]\",\"2016_[yr2016]\",\"2017_[yr2017]\",\"2018_[yr2018]\",\"2019_[yr2019]\",\"2020_[yr2020]\",\"2021_[yr2021]\"],\"xaxis\":\"x\",\"y\":[7.231202477,9.696106341,11.85562199,14.40594634,17.64910417,23.20225078,32.04058435,57.74661947,59.71611212,75.48319916,79.46746262,84.18062882,97.59842735,118.3508242,116.527138,113.331551,113.909075,112.2407207,108.3184376,97.97513251,null],\"yaxis\":\"y\",\"type\":\"scattergl\"},{\"hovertemplate\":\"country_name=Cameroon<br>Year=%{x}<br>indicator=%{y}<extra></extra>\",\"legendgroup\":\"Cameroon\",\"line\":{\"color\":\"#E377C2\",\"dash\":\"solid\"},\"marker\":{\"symbol\":\"circle\"},\"mode\":\"lines\",\"name\":\"Cameroon\",\"showlegend\":true,\"x\":[\"2001_[yr2001]\",\"2002_[yr2002]\",\"2003_[yr2003]\",\"2004_[yr2004]\",\"2005_[yr2005]\",\"2006_[yr2006]\",\"2007_[yr2007]\",\"2008_[yr2008]\",\"2009_[yr2009]\",\"2010_[yr2010]\",\"2011_[yr2011]\",\"2012_[yr2012]\",\"2013_[yr2013]\",\"2014_[yr2014]\",\"2015_[yr2015]\",\"2016_[yr2016]\",\"2017_[yr2017]\",\"2018_[yr2018]\",\"2019_[yr2019]\",\"2020_[yr2020]\",\"2021_[yr2021]\"],\"xaxis\":\"x\",\"y\":[2.619733554,4.288568703,6.410384227,8.869803808,12.70205787,17.20808878,24.21746773,32.00020714,40.44544093,42.4588254,50.15985545,61.00952443,70.95374098,75.1219918,77.94823655,78.22900593,81.96421137,73.19019901,82.70374759,84.19507778,null],\"yaxis\":\"y\",\"type\":\"scattergl\"},{\"hovertemplate\":\"country_name=Central African Republic<br>Year=%{x}<br>indicator=%{y}<extra></extra>\",\"legendgroup\":\"Central African Republic\",\"line\":{\"color\":\"#7F7F7F\",\"dash\":\"solid\"},\"marker\":{\"symbol\":\"circle\"},\"mode\":\"lines\",\"name\":\"Central African Republic\",\"showlegend\":true,\"x\":[\"2001_[yr2001]\",\"2002_[yr2002]\",\"2003_[yr2003]\",\"2004_[yr2004]\",\"2005_[yr2005]\",\"2006_[yr2006]\",\"2007_[yr2007]\",\"2008_[yr2008]\",\"2009_[yr2009]\",\"2010_[yr2010]\",\"2011_[yr2011]\",\"2012_[yr2012]\",\"2013_[yr2013]\",\"2014_[yr2014]\",\"2015_[yr2015]\",\"2016_[yr2016]\",\"2017_[yr2017]\",\"2018_[yr2018]\",\"2019_[yr2019]\",\"2020_[yr2020]\",\"2021_[yr2021]\"],\"xaxis\":\"x\",\"y\":[0.295538603,0.331393367,1.030614135,1.515199343,2.476239246,2.671154854,8.099075514,13.33843158,19.91045791,22.32240228,22.4604103,25.7666098,30.58266921,25.88652999,27.65294881,27.51062987,25.57404521,27.41449024,33.61921611,37.91073151,null],\"yaxis\":\"y\",\"type\":\"scattergl\"},{\"hovertemplate\":\"country_name=Chad<br>Year=%{x}<br>indicator=%{y}<extra></extra>\",\"legendgroup\":\"Chad\",\"line\":{\"color\":\"#BCBD22\",\"dash\":\"solid\"},\"marker\":{\"symbol\":\"circle\"},\"mode\":\"lines\",\"name\":\"Chad\",\"showlegend\":true,\"x\":[\"2001_[yr2001]\",\"2002_[yr2002]\",\"2003_[yr2003]\",\"2004_[yr2004]\",\"2005_[yr2005]\",\"2006_[yr2006]\",\"2007_[yr2007]\",\"2008_[yr2008]\",\"2009_[yr2009]\",\"2010_[yr2010]\",\"2011_[yr2011]\",\"2012_[yr2012]\",\"2013_[yr2013]\",\"2014_[yr2014]\",\"2015_[yr2015]\",\"2016_[yr2016]\",\"2017_[yr2017]\",\"2018_[yr2018]\",\"2019_[yr2019]\",\"2020_[yr2020]\",\"2021_[yr2021]\"],\"xaxis\":\"x\",\"y\":[0.253513145,0.379189672,0.69341351,1.263512522,2.07990129,4.457133721,8.489128883,14.30667868,19.73435113,24.05682131,29.65507617,34.43385283,34.50146451,38.43476879,38.73436811,38.35901264,42.40996705,45.12373876,48.06483101,52.88702622,null],\"yaxis\":\"y\",\"type\":\"scattergl\"},{\"hovertemplate\":\"country_name=Comoros<br>Year=%{x}<br>indicator=%{y}<extra></extra>\",\"legendgroup\":\"Comoros\",\"line\":{\"color\":\"#17BECF\",\"dash\":\"solid\"},\"marker\":{\"symbol\":\"circle\"},\"mode\":\"lines\",\"name\":\"Comoros\",\"showlegend\":true,\"x\":[\"2001_[yr2001]\",\"2002_[yr2002]\",\"2003_[yr2003]\",\"2004_[yr2004]\",\"2005_[yr2005]\",\"2006_[yr2006]\",\"2007_[yr2007]\",\"2008_[yr2008]\",\"2009_[yr2009]\",\"2010_[yr2010]\",\"2011_[yr2011]\",\"2012_[yr2012]\",\"2013_[yr2013]\",\"2014_[yr2014]\",\"2015_[yr2015]\",\"2016_[yr2016]\",\"2017_[yr2017]\",\"2018_[yr2018]\",\"2019_[yr2019]\",\"2020_[yr2020]\",\"2021_[yr2021]\"],\"xaxis\":\"x\",\"y\":[0.0,0.0,0.34292906,1.402814336,2.537984752,5.886897873,9.6792494,13.95875715,18.2095263,23.96403032,30.63225248,39.16595637,46.86414792,50.43521774,54.64019634,57.11331939,57.6137866,59.94110452,67.60224049,89.87788652,null],\"yaxis\":\"y\",\"type\":\"scattergl\"},{\"hovertemplate\":\"country_name=Congo, Dem. Rep.<br>Year=%{x}<br>indicator=%{y}<extra></extra>\",\"legendgroup\":\"Congo, Dem. Rep.\",\"line\":{\"color\":\"#1F77B4\",\"dash\":\"solid\"},\"marker\":{\"symbol\":\"circle\"},\"mode\":\"lines\",\"name\":\"Congo, Dem. Rep.\",\"showlegend\":true,\"x\":[\"2001_[yr2001]\",\"2002_[yr2002]\",\"2003_[yr2003]\",\"2004_[yr2004]\",\"2005_[yr2005]\",\"2006_[yr2006]\",\"2007_[yr2007]\",\"2008_[yr2008]\",\"2009_[yr2009]\",\"2010_[yr2010]\",\"2011_[yr2011]\",\"2012_[yr2012]\",\"2013_[yr2013]\",\"2014_[yr2014]\",\"2015_[yr2015]\",\"2016_[yr2016]\",\"2017_[yr2017]\",\"2018_[yr2018]\",\"2019_[yr2019]\",\"2020_[yr2020]\",\"2021_[yr2021]\"],\"xaxis\":\"x\",\"y\":[0.309734682,1.122882079,2.423356236,3.751204096,5.012409853,7.804212083,11.2773048,16.44996759,15.1461537,18.3079963,23.43620874,29.11107004,39.56330156,50.29719681,49.51538827,36.66662914,43.45919307,43.38221502,42.77332121,45.55354721,null],\"yaxis\":\"y\",\"type\":\"scattergl\"},{\"hovertemplate\":\"country_name=Congo, Rep.<br>Year=%{x}<br>indicator=%{y}<extra></extra>\",\"legendgroup\":\"Congo, Rep.\",\"line\":{\"color\":\"#FF7F0E\",\"dash\":\"solid\"},\"marker\":{\"symbol\":\"circle\"},\"mode\":\"lines\",\"name\":\"Congo, Rep.\",\"showlegend\":true,\"x\":[\"2001_[yr2001]\",\"2002_[yr2002]\",\"2003_[yr2003]\",\"2004_[yr2004]\",\"2005_[yr2005]\",\"2006_[yr2006]\",\"2007_[yr2007]\",\"2008_[yr2008]\",\"2009_[yr2009]\",\"2010_[yr2010]\",\"2011_[yr2011]\",\"2012_[yr2012]\",\"2013_[yr2013]\",\"2014_[yr2014]\",\"2015_[yr2015]\",\"2016_[yr2016]\",\"2017_[yr2017]\",\"2018_[yr2018]\",\"2019_[yr2019]\",\"2020_[yr2020]\",\"2021_[yr2021]\"],\"xaxis\":\"x\",\"y\":[4.66137735,6.700122977,9.686162466,10.92882772,15.40785724,24.49838337,33.21959414,45.04565141,71.12245865,87.01408675,88.39351294,94.96552148,100.8003873,104.076947,107.4114077,108.8938839,98.92979331,95.34053637,91.90582005,88.61766768,null],\"yaxis\":\"y\",\"type\":\"scattergl\"},{\"hovertemplate\":\"country_name=Cote d'Ivoire<br>Year=%{x}<br>indicator=%{y}<extra></extra>\",\"legendgroup\":\"Cote d'Ivoire\",\"line\":{\"color\":\"#2CA02C\",\"dash\":\"solid\"},\"marker\":{\"symbol\":\"circle\"},\"mode\":\"lines\",\"name\":\"Cote d'Ivoire\",\"showlegend\":true,\"x\":[\"2001_[yr2001]\",\"2002_[yr2002]\",\"2003_[yr2003]\",\"2004_[yr2004]\",\"2005_[yr2005]\",\"2006_[yr2006]\",\"2007_[yr2007]\",\"2008_[yr2008]\",\"2009_[yr2009]\",\"2010_[yr2010]\",\"2011_[yr2011]\",\"2012_[yr2012]\",\"2013_[yr2013]\",\"2014_[yr2014]\",\"2015_[yr2015]\",\"2016_[yr2016]\",\"2017_[yr2017]\",\"2018_[yr2018]\",\"2019_[yr2019]\",\"2020_[yr2020]\",\"2021_[yr2021]\"],\"xaxis\":\"x\",\"y\":[4.322932867,5.960338191,7.276843066,9.31711727,12.80033348,21.67656203,38.95266643,53.29626495,65.72716178,75.97078842,82.4790839,83.99950843,87.79127782,97.60192256,109.3922913,115.2314132,129.9121104,134.8579514,145.340692,152.0010217,null],\"yaxis\":\"y\",\"type\":\"scattergl\"},{\"hovertemplate\":\"country_name=Equatorial Guinea<br>Year=%{x}<br>indicator=%{y}<extra></extra>\",\"legendgroup\":\"Equatorial Guinea\",\"line\":{\"color\":\"#D62728\",\"dash\":\"solid\"},\"marker\":{\"symbol\":\"circle\"},\"mode\":\"lines\",\"name\":\"Equatorial Guinea\",\"showlegend\":true,\"x\":[\"2001_[yr2001]\",\"2002_[yr2002]\",\"2003_[yr2003]\",\"2004_[yr2004]\",\"2005_[yr2005]\",\"2006_[yr2006]\",\"2007_[yr2007]\",\"2008_[yr2008]\",\"2009_[yr2009]\",\"2010_[yr2010]\",\"2011_[yr2011]\",\"2012_[yr2012]\",\"2013_[yr2013]\",\"2014_[yr2014]\",\"2015_[yr2015]\",\"2016_[yr2016]\",\"2017_[yr2017]\",\"2018_[yr2018]\",\"2019_[yr2019]\",\"2020_[yr2020]\",\"2021_[yr2021]\"],\"xaxis\":\"x\",\"y\":[2.374672691,4.860385429,6.043712791,8.633807984,12.92801537,15.29644511,18.25512634,20.90980902,22.18281076,42.31385095,48.5239443,48.5920649,47.45232546,46.02607021,45.64013391,47.37158281,44.85832828,45.16686721,45.50194471,45.9734067,null],\"yaxis\":\"y\",\"type\":\"scattergl\"},{\"hovertemplate\":\"country_name=Eritrea<br>Year=%{x}<br>indicator=%{y}<extra></extra>\",\"legendgroup\":\"Eritrea\",\"line\":{\"color\":\"#9467BD\",\"dash\":\"solid\"},\"marker\":{\"symbol\":\"circle\"},\"mode\":\"lines\",\"name\":\"Eritrea\",\"showlegend\":true,\"x\":[\"2001_[yr2001]\",\"2002_[yr2002]\",\"2003_[yr2003]\",\"2004_[yr2004]\",\"2005_[yr2005]\",\"2006_[yr2006]\",\"2007_[yr2007]\",\"2008_[yr2008]\",\"2009_[yr2009]\",\"2010_[yr2010]\",\"2011_[yr2011]\",\"2012_[yr2012]\",\"2013_[yr2013]\",\"2014_[yr2014]\",\"2015_[yr2015]\",\"2016_[yr2016]\",\"2017_[yr2017]\",\"2018_[yr2018]\",\"2019_[yr2019]\",\"2020_[yr2020]\",\"2021_[yr2021]\"],\"xaxis\":\"x\",\"y\":[0.0,0.0,0.0,0.735347376,1.430593503,2.124456644,2.814850214,3.546811572,4.523513423,5.84383531,7.527725817,9.39303406,10.81363751,12.60475399,14.20956809,14.9856792,20.36395515,null,37.48802228,50.78359281,null],\"yaxis\":\"y\",\"type\":\"scattergl\"},{\"hovertemplate\":\"country_name=Eswatini<br>Year=%{x}<br>indicator=%{y}<extra></extra>\",\"legendgroup\":\"Eswatini\",\"line\":{\"color\":\"#8C564B\",\"dash\":\"solid\"},\"marker\":{\"symbol\":\"circle\"},\"mode\":\"lines\",\"name\":\"Eswatini\",\"showlegend\":true,\"x\":[\"2001_[yr2001]\",\"2002_[yr2002]\",\"2003_[yr2003]\",\"2004_[yr2004]\",\"2005_[yr2005]\",\"2006_[yr2006]\",\"2007_[yr2007]\",\"2008_[yr2008]\",\"2009_[yr2009]\",\"2010_[yr2010]\",\"2011_[yr2011]\",\"2012_[yr2012]\",\"2013_[yr2013]\",\"2014_[yr2014]\",\"2015_[yr2015]\",\"2016_[yr2016]\",\"2017_[yr2017]\",\"2018_[yr2018]\",\"2019_[yr2019]\",\"2020_[yr2020]\",\"2021_[yr2021]\"],\"xaxis\":\"x\",\"y\":[5.42615545,6.672822673,8.31050389,14.12861522,19.4065666,24.12913139,36.44552545,50.63531899,62.8324099,68.16085467,71.50339588,74.58620869,82.16458127,83.72457464,85.23211031,89.31801432,93.52732251,null,102.4274255,107.140025,null],\"yaxis\":\"y\",\"type\":\"scattergl\"},{\"hovertemplate\":\"country_name=Ethiopia<br>Year=%{x}<br>indicator=%{y}<extra></extra>\",\"legendgroup\":\"Ethiopia\",\"line\":{\"color\":\"#E377C2\",\"dash\":\"solid\"},\"marker\":{\"symbol\":\"circle\"},\"mode\":\"lines\",\"name\":\"Ethiopia\",\"showlegend\":true,\"x\":[\"2001_[yr2001]\",\"2002_[yr2002]\",\"2003_[yr2003]\",\"2004_[yr2004]\",\"2005_[yr2005]\",\"2006_[yr2006]\",\"2007_[yr2007]\",\"2008_[yr2008]\",\"2009_[yr2009]\",\"2010_[yr2010]\",\"2011_[yr2011]\",\"2012_[yr2012]\",\"2013_[yr2013]\",\"2014_[yr2014]\",\"2015_[yr2015]\",\"2016_[yr2016]\",\"2017_[yr2017]\",\"2018_[yr2018]\",\"2019_[yr2019]\",\"2020_[yr2020]\",\"2021_[yr2021]\"],\"xaxis\":\"x\",\"y\":[0.040346586,0.071809949,0.071114846,0.209503013,0.53785179,1.104228268,1.497995373,2.357230764,4.753627819,7.820633062,15.6719216,22.13367446,26.88750898,31.08234717,41.96106195,49.44236323,37.2180717,null,37.40227963,38.70790811,null],\"yaxis\":\"y\",\"type\":\"scattergl\"},{\"hovertemplate\":\"country_name=Gabon<br>Year=%{x}<br>indicator=%{y}<extra></extra>\",\"legendgroup\":\"Gabon\",\"line\":{\"color\":\"#7F7F7F\",\"dash\":\"solid\"},\"marker\":{\"symbol\":\"circle\"},\"mode\":\"lines\",\"name\":\"Gabon\",\"showlegend\":true,\"x\":[\"2001_[yr2001]\",\"2002_[yr2002]\",\"2003_[yr2003]\",\"2004_[yr2004]\",\"2005_[yr2005]\",\"2006_[yr2006]\",\"2007_[yr2007]\",\"2008_[yr2008]\",\"2009_[yr2009]\",\"2010_[yr2010]\",\"2011_[yr2011]\",\"2012_[yr2012]\",\"2013_[yr2013]\",\"2014_[yr2014]\",\"2015_[yr2015]\",\"2016_[yr2016]\",\"2017_[yr2017]\",\"2018_[yr2018]\",\"2019_[yr2019]\",\"2020_[yr2020]\",\"2021_[yr2021]\"],\"xaxis\":\"x\",\"y\":[11.92365996,21.67862673,22.72808198,36.14779195,52.97835603,62.78961956,79.3847512,85.60854505,92.41979237,99.1293854,140.6967681,146.1824492,151.0798973,155.6816541,144.8670371,147.543495,128.9816609,138.2809687,137.75384,137.0123294,null],\"yaxis\":\"y\",\"type\":\"scattergl\"},{\"hovertemplate\":\"country_name=Gambia, The<br>Year=%{x}<br>indicator=%{y}<extra></extra>\",\"legendgroup\":\"Gambia, The\",\"line\":{\"color\":\"#BCBD22\",\"dash\":\"solid\"},\"marker\":{\"symbol\":\"circle\"},\"mode\":\"lines\",\"name\":\"Gambia, The\",\"showlegend\":true,\"x\":[\"2001_[yr2001]\",\"2002_[yr2002]\",\"2003_[yr2003]\",\"2004_[yr2004]\",\"2005_[yr2005]\",\"2006_[yr2006]\",\"2007_[yr2007]\",\"2008_[yr2008]\",\"2009_[yr2009]\",\"2010_[yr2010]\",\"2011_[yr2011]\",\"2012_[yr2012]\",\"2013_[yr2013]\",\"2014_[yr2014]\",\"2015_[yr2015]\",\"2016_[yr2016]\",\"2017_[yr2017]\",\"2018_[yr2018]\",\"2019_[yr2019]\",\"2020_[yr2020]\",\"2021_[yr2021]\"],\"xaxis\":\"x\",\"y\":[4.050147271,7.121183313,10.29708433,11.69374158,16.03105702,25.40741276,48.80763339,69.03133574,75.44043225,82.44201972,75.81447796,80.11446641,94.1509753,112.8282417,130.1943563,132.0589763,133.9723898,139.5290282,110.0953015,110.8118285,null],\"yaxis\":\"y\",\"type\":\"scattergl\"},{\"hovertemplate\":\"country_name=Ghana<br>Year=%{x}<br>indicator=%{y}<extra></extra>\",\"legendgroup\":\"Ghana\",\"line\":{\"color\":\"#17BECF\",\"dash\":\"solid\"},\"marker\":{\"symbol\":\"circle\"},\"mode\":\"lines\",\"name\":\"Ghana\",\"showlegend\":true,\"x\":[\"2001_[yr2001]\",\"2002_[yr2002]\",\"2003_[yr2003]\",\"2004_[yr2004]\",\"2005_[yr2005]\",\"2006_[yr2006]\",\"2007_[yr2007]\",\"2008_[yr2008]\",\"2009_[yr2009]\",\"2010_[yr2010]\",\"2011_[yr2011]\",\"2012_[yr2012]\",\"2013_[yr2013]\",\"2014_[yr2014]\",\"2015_[yr2015]\",\"2016_[yr2016]\",\"2017_[yr2017]\",\"2018_[yr2018]\",\"2019_[yr2019]\",\"2020_[yr2020]\",\"2021_[yr2021]\"],\"xaxis\":\"x\",\"y\":[1.233982328,1.910341409,3.833819455,7.968100146,13.17720456,23.26837304,33.1130068,49.10251201,62.50859917,70.36810776,83.37042346,98.54586684,105.3324411,111.5201422,125.7069529,134.4889824,126.2016214,137.5171658,134.3193846,130.2149362,null],\"yaxis\":\"y\",\"type\":\"scattergl\"},{\"hovertemplate\":\"country_name=Guinea<br>Year=%{x}<br>indicator=%{y}<extra></extra>\",\"legendgroup\":\"Guinea\",\"line\":{\"color\":\"#1F77B4\",\"dash\":\"solid\"},\"marker\":{\"symbol\":\"circle\"},\"mode\":\"lines\",\"name\":\"Guinea\",\"showlegend\":true,\"x\":[\"2001_[yr2001]\",\"2002_[yr2002]\",\"2003_[yr2003]\",\"2004_[yr2004]\",\"2005_[yr2005]\",\"2006_[yr2006]\",\"2007_[yr2007]\",\"2008_[yr2008]\",\"2009_[yr2009]\",\"2010_[yr2010]\",\"2011_[yr2011]\",\"2012_[yr2012]\",\"2013_[yr2013]\",\"2014_[yr2014]\",\"2015_[yr2015]\",\"2016_[yr2016]\",\"2017_[yr2017]\",\"2018_[yr2018]\",\"2019_[yr2019]\",\"2020_[yr2020]\",\"2021_[yr2021]\"],\"xaxis\":\"x\",\"y\":[0.661393184,1.057200299,1.273835432,1.735429756,2.074738673,null,21.01246018,28.2375884,35.0144097,39.2457901,46.64462416,52.42849932,68.26949356,77.87206544,94.15602819,94.64639604,96.95447755,96.76749212,100.7967429,105.0423767,null],\"yaxis\":\"y\",\"type\":\"scattergl\"},{\"hovertemplate\":\"country_name=Guinea-Bissau<br>Year=%{x}<br>indicator=%{y}<extra></extra>\",\"legendgroup\":\"Guinea-Bissau\",\"line\":{\"color\":\"#FF7F0E\",\"dash\":\"solid\"},\"marker\":{\"symbol\":\"circle\"},\"mode\":\"lines\",\"name\":\"Guinea-Bissau\",\"showlegend\":true,\"x\":[\"2001_[yr2001]\",\"2002_[yr2002]\",\"2003_[yr2003]\",\"2004_[yr2004]\",\"2005_[yr2005]\",\"2006_[yr2006]\",\"2007_[yr2007]\",\"2008_[yr2008]\",\"2009_[yr2009]\",\"2010_[yr2010]\",\"2011_[yr2011]\",\"2012_[yr2012]\",\"2013_[yr2013]\",\"2014_[yr2014]\",\"2015_[yr2015]\",\"2016_[yr2016]\",\"2017_[yr2017]\",\"2018_[yr2018]\",\"2019_[yr2019]\",\"2020_[yr2020]\",\"2021_[yr2021]\"],\"xaxis\":\"x\",\"y\":[0.0,0.0,0.099352843,3.003520387,7.347966065,11.42074404,20.98575814,34.56655996,37.76110723,44.48741921,46.87390634,65.3711357,57.02448954,65.4852736,71.29240008,72.13911508,78.4851311,78.9888828,82.79258606,97.2488327,null],\"yaxis\":\"y\",\"type\":\"scattergl\"},{\"hovertemplate\":\"country_name=Kenya<br>Year=%{x}<br>indicator=%{y}<extra></extra>\",\"legendgroup\":\"Kenya\",\"line\":{\"color\":\"#2CA02C\",\"dash\":\"solid\"},\"marker\":{\"symbol\":\"circle\"},\"mode\":\"lines\",\"name\":\"Kenya\",\"showlegend\":true,\"x\":[\"2001_[yr2001]\",\"2002_[yr2002]\",\"2003_[yr2003]\",\"2004_[yr2004]\",\"2005_[yr2005]\",\"2006_[yr2006]\",\"2007_[yr2007]\",\"2008_[yr2008]\",\"2009_[yr2009]\",\"2010_[yr2010]\",\"2011_[yr2011]\",\"2012_[yr2012]\",\"2013_[yr2013]\",\"2014_[yr2014]\",\"2015_[yr2015]\",\"2016_[yr2016]\",\"2017_[yr2017]\",\"2018_[yr2018]\",\"2019_[yr2019]\",\"2020_[yr2020]\",\"2021_[yr2021]\"],\"xaxis\":\"x\",\"y\":[1.826563864,3.517217291,4.587200143,7.145047389,12.59244566,19.49669464,29.32215145,40.97200639,47.34403568,59.40635121,65.03449165,69.30390445,69.92534333,72.01839698,78.77455056,79.47190398,85.25315693,96.32021675,103.7690208,114.2038756,null],\"yaxis\":\"y\",\"type\":\"scattergl\"},{\"hovertemplate\":\"country_name=Lesotho<br>Year=%{x}<br>indicator=%{y}<extra></extra>\",\"legendgroup\":\"Lesotho\",\"line\":{\"color\":\"#D62728\",\"dash\":\"solid\"},\"marker\":{\"symbol\":\"circle\"},\"mode\":\"lines\",\"name\":\"Lesotho\",\"showlegend\":true,\"x\":[\"2001_[yr2001]\",\"2002_[yr2002]\",\"2003_[yr2003]\",\"2004_[yr2004]\",\"2005_[yr2005]\",\"2006_[yr2006]\",\"2007_[yr2007]\",\"2008_[yr2008]\",\"2009_[yr2009]\",\"2010_[yr2010]\",\"2011_[yr2011]\",\"2012_[yr2012]\",\"2013_[yr2013]\",\"2014_[yr2014]\",\"2015_[yr2015]\",\"2016_[yr2016]\",\"2017_[yr2017]\",\"2018_[yr2018]\",\"2019_[yr2019]\",\"2020_[yr2020]\",\"2021_[yr2021]\"],\"xaxis\":\"x\",\"y\":[2.799964632,6.796286781,6.240251929,9.781598652,12.51361395,17.98612922,24.2815269,29.85291846,33.21389396,49.48172988,61.5012167,76.66598511,88.25578128,104.6658462,103.9397364,110.0185058,113.8305187,75.0424507,79.12569144,72.94427492,null],\"yaxis\":\"y\",\"type\":\"scattergl\"},{\"hovertemplate\":\"country_name=Liberia<br>Year=%{x}<br>indicator=%{y}<extra></extra>\",\"legendgroup\":\"Liberia\",\"line\":{\"color\":\"#9467BD\",\"dash\":\"solid\"},\"marker\":{\"symbol\":\"circle\"},\"mode\":\"lines\",\"name\":\"Liberia\",\"showlegend\":true,\"x\":[\"2001_[yr2001]\",\"2002_[yr2002]\",\"2003_[yr2003]\",\"2004_[yr2004]\",\"2005_[yr2005]\",\"2006_[yr2006]\",\"2007_[yr2007]\",\"2008_[yr2008]\",\"2009_[yr2009]\",\"2010_[yr2010]\",\"2011_[yr2011]\",\"2012_[yr2012]\",\"2013_[yr2013]\",\"2014_[yr2014]\",\"2015_[yr2015]\",\"2016_[yr2016]\",\"2017_[yr2017]\",\"2018_[yr2018]\",\"2019_[yr2019]\",\"2020_[yr2020]\",\"2021_[yr2021]\"],\"xaxis\":\"x\",\"y\":[0.06770648,0.165304065,1.535557666,3.00958238,4.971853097,8.410401143,16.26269422,23.68792026,28.90313156,40.37944614,50.29659413,57.54584699,60.04177167,73.98218973,81.65948531,67.95610958,56.56895266,null,39.23138089,32.6829628,null],\"yaxis\":\"y\",\"type\":\"scattergl\"},{\"hovertemplate\":\"country_name=Madagascar<br>Year=%{x}<br>indicator=%{y}<extra></extra>\",\"legendgroup\":\"Madagascar\",\"line\":{\"color\":\"#8C564B\",\"dash\":\"solid\"},\"marker\":{\"symbol\":\"circle\"},\"mode\":\"lines\",\"name\":\"Madagascar\",\"showlegend\":true,\"x\":[\"2001_[yr2001]\",\"2002_[yr2002]\",\"2003_[yr2003]\",\"2004_[yr2004]\",\"2005_[yr2005]\",\"2006_[yr2006]\",\"2007_[yr2007]\",\"2008_[yr2008]\",\"2009_[yr2009]\",\"2010_[yr2010]\",\"2011_[yr2011]\",\"2012_[yr2012]\",\"2013_[yr2013]\",\"2014_[yr2014]\",\"2015_[yr2015]\",\"2016_[yr2016]\",\"2017_[yr2017]\",\"2018_[yr2018]\",\"2019_[yr2019]\",\"2020_[yr2020]\",\"2021_[yr2021]\"],\"xaxis\":\"x\",\"y\":[0.907082079,0.972316507,1.641667256,1.875459508,2.782770794,5.53958209,11.41126702,24.18045922,30.54967795,36.45921073,39.92266912,39.28374931,36.84955374,41.17816498,44.12695456,32.12876245,34.14284,40.57034123,48.21406794,57.30739115,null],\"yaxis\":\"y\",\"type\":\"scattergl\"},{\"hovertemplate\":\"country_name=Malawi<br>Year=%{x}<br>indicator=%{y}<extra></extra>\",\"legendgroup\":\"Malawi\",\"line\":{\"color\":\"#E377C2\",\"dash\":\"solid\"},\"marker\":{\"symbol\":\"circle\"},\"mode\":\"lines\",\"name\":\"Malawi\",\"showlegend\":true,\"x\":[\"2001_[yr2001]\",\"2002_[yr2002]\",\"2003_[yr2003]\",\"2004_[yr2004]\",\"2005_[yr2005]\",\"2006_[yr2006]\",\"2007_[yr2007]\",\"2008_[yr2008]\",\"2009_[yr2009]\",\"2010_[yr2010]\",\"2011_[yr2011]\",\"2012_[yr2012]\",\"2013_[yr2013]\",\"2014_[yr2014]\",\"2015_[yr2015]\",\"2016_[yr2016]\",\"2017_[yr2017]\",\"2018_[yr2018]\",\"2019_[yr2019]\",\"2020_[yr2020]\",\"2021_[yr2021]\"],\"xaxis\":\"x\",\"y\":[0.487491253,0.734586548,1.125933017,1.805705782,3.335693023,4.780155606,7.876384951,10.98263462,17.59356406,21.44048961,26.4105175,30.18244656,33.39824788,34.57746413,39.21521754,41.72202909,43.98651266,39.00579484,47.78113633,52.29851073,null],\"yaxis\":\"y\",\"type\":\"scattergl\"},{\"hovertemplate\":\"country_name=Mali<br>Year=%{x}<br>indicator=%{y}<extra></extra>\",\"legendgroup\":\"Mali\",\"line\":{\"color\":\"#7F7F7F\",\"dash\":\"solid\"},\"marker\":{\"symbol\":\"circle\"},\"mode\":\"lines\",\"name\":\"Mali\",\"showlegend\":true,\"x\":[\"2001_[yr2001]\",\"2002_[yr2002]\",\"2003_[yr2003]\",\"2004_[yr2004]\",\"2005_[yr2005]\",\"2006_[yr2006]\",\"2007_[yr2007]\",\"2008_[yr2008]\",\"2009_[yr2009]\",\"2010_[yr2010]\",\"2011_[yr2011]\",\"2012_[yr2012]\",\"2013_[yr2013]\",\"2014_[yr2014]\",\"2015_[yr2015]\",\"2016_[yr2016]\",\"2017_[yr2017]\",\"2018_[yr2018]\",\"2019_[yr2019]\",\"2020_[yr2020]\",\"2021_[yr2021]\"],\"xaxis\":\"x\",\"y\":[0.212897903,0.395751461,2.063166925,3.289341883,5.964424451,11.45879486,18.53933761,24.36354724,30.59057518,49.43988622,69.75324517,91.4474086,120.0580321,138.8051373,130.1634495,112.5365904,119.0233265,115.0846727,116.6214561,125.0101564,null],\"yaxis\":\"y\",\"type\":\"scattergl\"},{\"hovertemplate\":\"country_name=Mauritania<br>Year=%{x}<br>indicator=%{y}<extra></extra>\",\"legendgroup\":\"Mauritania\",\"line\":{\"color\":\"#BCBD22\",\"dash\":\"solid\"},\"marker\":{\"symbol\":\"circle\"},\"mode\":\"lines\",\"name\":\"Mauritania\",\"showlegend\":true,\"x\":[\"2001_[yr2001]\",\"2002_[yr2002]\",\"2003_[yr2003]\",\"2004_[yr2004]\",\"2005_[yr2005]\",\"2006_[yr2006]\",\"2007_[yr2007]\",\"2008_[yr2008]\",\"2009_[yr2009]\",\"2010_[yr2010]\",\"2011_[yr2011]\",\"2012_[yr2012]\",\"2013_[yr2013]\",\"2014_[yr2014]\",\"2015_[yr2015]\",\"2016_[yr2016]\",\"2017_[yr2017]\",\"2018_[yr2018]\",\"2019_[yr2019]\",\"2020_[yr2020]\",\"2021_[yr2021]\"],\"xaxis\":\"x\",\"y\":[4.08758881,8.899538857,12.28336789,17.77325961,24.65499898,34.06664597,44.15174065,63.46604826,64.30845795,79.44748361,92.11145408,108.604297,104.471546,95.48281104,90.06949804,86.80541261,95.13345958,103.7060504,104.090067,106.0845981,null],\"yaxis\":\"y\",\"type\":\"scattergl\"},{\"hovertemplate\":\"country_name=Mauritius<br>Year=%{x}<br>indicator=%{y}<extra></extra>\",\"legendgroup\":\"Mauritius\",\"line\":{\"color\":\"#17BECF\",\"dash\":\"solid\"},\"marker\":{\"symbol\":\"circle\"},\"mode\":\"lines\",\"name\":\"Mauritius\",\"showlegend\":true,\"x\":[\"2001_[yr2001]\",\"2002_[yr2002]\",\"2003_[yr2003]\",\"2004_[yr2004]\",\"2005_[yr2005]\",\"2006_[yr2006]\",\"2007_[yr2007]\",\"2008_[yr2008]\",\"2009_[yr2009]\",\"2010_[yr2010]\",\"2011_[yr2011]\",\"2012_[yr2012]\",\"2013_[yr2013]\",\"2014_[yr2014]\",\"2015_[yr2015]\",\"2016_[yr2016]\",\"2017_[yr2017]\",\"2018_[yr2018]\",\"2019_[yr2019]\",\"2020_[yr2020]\",\"2021_[yr2021]\"],\"xaxis\":\"x\",\"y\":[22.81699649,28.91733482,38.24708807,45.05678729,53.75011354,62.89405735,75.2597681,83.38026987,87.35979601,95.4281204,103.438629,118.5332448,122.1552078,131.3869194,139.9254916,143.755473,145.4726338,151.3591149,147.0148102,150.4126539,null],\"yaxis\":\"y\",\"type\":\"scattergl\"},{\"hovertemplate\":\"country_name=Mozambique<br>Year=%{x}<br>indicator=%{y}<extra></extra>\",\"legendgroup\":\"Mozambique\",\"line\":{\"color\":\"#1F77B4\",\"dash\":\"solid\"},\"marker\":{\"symbol\":\"circle\"},\"mode\":\"lines\",\"name\":\"Mozambique\",\"showlegend\":true,\"x\":[\"2001_[yr2001]\",\"2002_[yr2002]\",\"2003_[yr2003]\",\"2004_[yr2004]\",\"2005_[yr2005]\",\"2006_[yr2006]\",\"2007_[yr2007]\",\"2008_[yr2008]\",\"2009_[yr2009]\",\"2010_[yr2010]\",\"2011_[yr2011]\",\"2012_[yr2012]\",\"2013_[yr2013]\",\"2014_[yr2014]\",\"2015_[yr2015]\",\"2016_[yr2016]\",\"2017_[yr2017]\",\"2018_[yr2018]\",\"2019_[yr2019]\",\"2020_[yr2020]\",\"2021_[yr2021]\"],\"xaxis\":\"x\",\"y\":[0.837739756,1.357689701,2.254175913,3.555903422,7.338482014,11.09727131,14.21002213,19.77414323,26.07930391,30.69992683,32.47688661,35.41449138,48.51691587,70.31310851,74.45799316,53.99077066,41.45170351,47.71577872,48.65094674,49.47371873,null],\"yaxis\":\"y\",\"type\":\"scattergl\"},{\"hovertemplate\":\"country_name=Namibia<br>Year=%{x}<br>indicator=%{y}<extra></extra>\",\"legendgroup\":\"Namibia\",\"line\":{\"color\":\"#FF7F0E\",\"dash\":\"solid\"},\"marker\":{\"symbol\":\"circle\"},\"mode\":\"lines\",\"name\":\"Namibia\",\"showlegend\":true,\"x\":[\"2001_[yr2001]\",\"2002_[yr2002]\",\"2003_[yr2003]\",\"2004_[yr2004]\",\"2005_[yr2005]\",\"2006_[yr2006]\",\"2007_[yr2007]\",\"2008_[yr2008]\",\"2009_[yr2009]\",\"2010_[yr2010]\",\"2011_[yr2011]\",\"2012_[yr2012]\",\"2013_[yr2013]\",\"2014_[yr2014]\",\"2015_[yr2015]\",\"2016_[yr2016]\",\"2017_[yr2017]\",\"2018_[yr2018]\",\"2019_[yr2019]\",\"2020_[yr2020]\",\"2021_[yr2021]\"],\"xaxis\":\"x\",\"y\":[5.845349383,8.101438653,11.90298422,14.9965011,23.15701226,30.88524068,39.88359912,51.48297391,78.40180217,92.0334102,101.7525402,97.81527377,122.1358061,117.4872868,110.1478506,112.803281,111.552451,112.7023597,113.1938682,114.0587704,null],\"yaxis\":\"y\",\"type\":\"scattergl\"},{\"hovertemplate\":\"country_name=Niger<br>Year=%{x}<br>indicator=%{y}<extra></extra>\",\"legendgroup\":\"Niger\",\"line\":{\"color\":\"#2CA02C\",\"dash\":\"solid\"},\"marker\":{\"symbol\":\"circle\"},\"mode\":\"lines\",\"name\":\"Niger\",\"showlegend\":true,\"x\":[\"2001_[yr2001]\",\"2002_[yr2002]\",\"2003_[yr2003]\",\"2004_[yr2004]\",\"2005_[yr2005]\",\"2006_[yr2006]\",\"2007_[yr2007]\",\"2008_[yr2008]\",\"2009_[yr2009]\",\"2010_[yr2010]\",\"2011_[yr2011]\",\"2012_[yr2012]\",\"2013_[yr2013]\",\"2014_[yr2014]\",\"2015_[yr2015]\",\"2016_[yr2016]\",\"2017_[yr2017]\",\"2018_[yr2018]\",\"2019_[yr2019]\",\"2020_[yr2020]\",\"2021_[yr2021]\"],\"xaxis\":\"x\",\"y\":[0.018091515,0.472035113,0.651210501,1.313592133,2.376995739,3.414882567,6.128536242,12.44272144,16.40458361,22.28267389,27.71220477,30.32018167,37.86313016,42.80833354,44.79127561,35.94148156,40.63849996,null,51.98896731,58.82269347,null],\"yaxis\":\"y\",\"type\":\"scattergl\"},{\"hovertemplate\":\"country_name=Nigeria<br>Year=%{x}<br>indicator=%{y}<extra></extra>\",\"legendgroup\":\"Nigeria\",\"line\":{\"color\":\"#D62728\",\"dash\":\"solid\"},\"marker\":{\"symbol\":\"circle\"},\"mode\":\"lines\",\"name\":\"Nigeria\",\"showlegend\":true,\"x\":[\"2001_[yr2001]\",\"2002_[yr2002]\",\"2003_[yr2003]\",\"2004_[yr2004]\",\"2005_[yr2005]\",\"2006_[yr2006]\",\"2007_[yr2007]\",\"2008_[yr2008]\",\"2009_[yr2009]\",\"2010_[yr2010]\",\"2011_[yr2011]\",\"2012_[yr2012]\",\"2013_[yr2013]\",\"2014_[yr2014]\",\"2015_[yr2015]\",\"2016_[yr2016]\",\"2017_[yr2017]\",\"2018_[yr2018]\",\"2019_[yr2019]\",\"2020_[yr2020]\",\"2021_[yr2021]\"],\"xaxis\":\"x\",\"y\":[0.212498925,1.220138319,2.38776189,6.759666327,13.38494067,22.67615103,27.60394789,41.91698278,48.28660058,55.07635849,58.45475445,67.43921445,74.08115012,78.77348827,83.26830849,82.99740158,75.92482161,88.18424125,91.85357742,99.07300145,null],\"yaxis\":\"y\",\"type\":\"scattergl\"},{\"hovertemplate\":\"country_name=Rwanda<br>Year=%{x}<br>indicator=%{y}<extra></extra>\",\"legendgroup\":\"Rwanda\",\"line\":{\"color\":\"#9467BD\",\"dash\":\"solid\"},\"marker\":{\"symbol\":\"circle\"},\"mode\":\"lines\",\"name\":\"Rwanda\",\"showlegend\":true,\"x\":[\"2001_[yr2001]\",\"2002_[yr2002]\",\"2003_[yr2003]\",\"2004_[yr2004]\",\"2005_[yr2005]\",\"2006_[yr2006]\",\"2007_[yr2007]\",\"2008_[yr2008]\",\"2009_[yr2009]\",\"2010_[yr2010]\",\"2011_[yr2011]\",\"2012_[yr2012]\",\"2013_[yr2013]\",\"2014_[yr2014]\",\"2015_[yr2015]\",\"2016_[yr2016]\",\"2017_[yr2017]\",\"2018_[yr2018]\",\"2019_[yr2019]\",\"2020_[yr2020]\",\"2021_[yr2021]\"],\"xaxis\":\"x\",\"y\":[0.789682518,0.977695661,1.527609449,1.581367669,2.52231422,3.474392251,6.848756119,13.88663214,24.83194433,35.34855585,43.19489969,53.94243973,61.87054978,69.89604489,77.04779924,76.45612537,73.61026382,78.85411036,76.49153596,81.95050454,null],\"yaxis\":\"y\",\"type\":\"scattergl\"},{\"hovertemplate\":\"country_name=Sao Tome and Principe<br>Year=%{x}<br>indicator=%{y}<extra></extra>\",\"legendgroup\":\"Sao Tome and Principe\",\"line\":{\"color\":\"#8C564B\",\"dash\":\"solid\"},\"marker\":{\"symbol\":\"circle\"},\"mode\":\"lines\",\"name\":\"Sao Tome and Principe\",\"showlegend\":true,\"x\":[\"2001_[yr2001]\",\"2002_[yr2002]\",\"2003_[yr2003]\",\"2004_[yr2004]\",\"2005_[yr2005]\",\"2006_[yr2006]\",\"2007_[yr2007]\",\"2008_[yr2008]\",\"2009_[yr2009]\",\"2010_[yr2010]\",\"2011_[yr2011]\",\"2012_[yr2012]\",\"2013_[yr2013]\",\"2014_[yr2014]\",\"2015_[yr2015]\",\"2016_[yr2016]\",\"2017_[yr2017]\",\"2018_[yr2018]\",\"2019_[yr2019]\",\"2020_[yr2020]\",\"2021_[yr2021]\"],\"xaxis\":\"x\",\"y\":[0.0,1.342855399,3.203802812,5.037824336,7.590555781,11.39527836,18.09921828,29.5412576,45.95794764,56.95483199,62.34310984,64.84575699,65.24595626,65.65266928,92.7489069,87.60991404,84.00397897,77.05612525,77.07806339,79.48703909,null],\"yaxis\":\"y\",\"type\":\"scattergl\"},{\"hovertemplate\":\"country_name=Senegal<br>Year=%{x}<br>indicator=%{y}<extra></extra>\",\"legendgroup\":\"Senegal\",\"line\":{\"color\":\"#E377C2\",\"dash\":\"solid\"},\"marker\":{\"symbol\":\"circle\"},\"mode\":\"lines\",\"name\":\"Senegal\",\"showlegend\":true,\"x\":[\"2001_[yr2001]\",\"2002_[yr2002]\",\"2003_[yr2003]\",\"2004_[yr2004]\",\"2005_[yr2005]\",\"2006_[yr2006]\",\"2007_[yr2007]\",\"2008_[yr2008]\",\"2009_[yr2009]\",\"2010_[yr2010]\",\"2011_[yr2011]\",\"2012_[yr2012]\",\"2013_[yr2013]\",\"2014_[yr2014]\",\"2015_[yr2015]\",\"2016_[yr2016]\",\"2017_[yr2017]\",\"2018_[yr2018]\",\"2019_[yr2019]\",\"2020_[yr2020]\",\"2021_[yr2021]\"],\"xaxis\":\"x\",\"y\":[3.007252615,5.381808627,7.422335051,10.37285283,15.60043195,26.20411855,31.06681909,44.89185528,55.95010135,65.8117968,71.75851664,85.58911242,95.29362905,101.4461642,102.6135684,101.2869961,102.1986069,104.450641,109.721371,113.9454801,null],\"yaxis\":\"y\",\"type\":\"scattergl\"},{\"hovertemplate\":\"country_name=Seychelles<br>Year=%{x}<br>indicator=%{y}<extra></extra>\",\"legendgroup\":\"Seychelles\",\"line\":{\"color\":\"#7F7F7F\",\"dash\":\"solid\"},\"marker\":{\"symbol\":\"circle\"},\"mode\":\"lines\",\"name\":\"Seychelles\",\"showlegend\":true,\"x\":[\"2001_[yr2001]\",\"2002_[yr2002]\",\"2003_[yr2003]\",\"2004_[yr2004]\",\"2005_[yr2005]\",\"2006_[yr2006]\",\"2007_[yr2007]\",\"2008_[yr2008]\",\"2009_[yr2009]\",\"2010_[yr2010]\",\"2011_[yr2011]\",\"2012_[yr2012]\",\"2013_[yr2013]\",\"2014_[yr2014]\",\"2015_[yr2015]\",\"2016_[yr2016]\",\"2017_[yr2017]\",\"2018_[yr2018]\",\"2019_[yr2019]\",\"2020_[yr2020]\",\"2021_[yr2021]\"],\"xaxis\":\"x\",\"y\":[44.5106414,53.20242159,57.36977042,62.21207648,66.33652197,78.56935415,85.78057011,103.3466373,121.8783727,128.8426981,137.7773908,147.3818343,146.4639435,160.6283501,156.0824612,158.6636715,173.49665,184.2980143,198.1522217,186.5822038,null],\"yaxis\":\"y\",\"type\":\"scattergl\"},{\"hovertemplate\":\"country_name=Sierra Leone<br>Year=%{x}<br>indicator=%{y}<extra></extra>\",\"legendgroup\":\"Sierra Leone\",\"line\":{\"color\":\"#BCBD22\",\"dash\":\"solid\"},\"marker\":{\"symbol\":\"circle\"},\"mode\":\"lines\",\"name\":\"Sierra Leone\",\"showlegend\":true,\"x\":[\"2001_[yr2001]\",\"2002_[yr2002]\",\"2003_[yr2003]\",\"2004_[yr2004]\",\"2005_[yr2005]\",\"2006_[yr2006]\",\"2007_[yr2007]\",\"2008_[yr2008]\",\"2009_[yr2009]\",\"2010_[yr2010]\",\"2011_[yr2011]\",\"2012_[yr2012]\",\"2013_[yr2013]\",\"2014_[yr2014]\",\"2015_[yr2015]\",\"2016_[yr2016]\",\"2017_[yr2017]\",\"2018_[yr2018]\",\"2019_[yr2019]\",\"2020_[yr2020]\",\"2021_[yr2021]\"],\"xaxis\":\"x\",\"y\":[0.565725551,1.349237962,2.176744401,null,null,null,12.95571866,16.44710295,18.49273379,31.17384813,32.56013798,32.92323791,58.27521958,67.78822393,78.87713099,85.67897704,88.46989546,83.07224041,86.13360825,86.30081072,null],\"yaxis\":\"y\",\"type\":\"scattergl\"},{\"hovertemplate\":\"country_name=Somalia<br>Year=%{x}<br>indicator=%{y}<extra></extra>\",\"legendgroup\":\"Somalia\",\"line\":{\"color\":\"#17BECF\",\"dash\":\"solid\"},\"marker\":{\"symbol\":\"circle\"},\"mode\":\"lines\",\"name\":\"Somalia\",\"showlegend\":true,\"x\":[\"2001_[yr2001]\",\"2002_[yr2002]\",\"2003_[yr2003]\",\"2004_[yr2004]\",\"2005_[yr2005]\",\"2006_[yr2006]\",\"2007_[yr2007]\",\"2008_[yr2008]\",\"2009_[yr2009]\",\"2010_[yr2010]\",\"2011_[yr2011]\",\"2012_[yr2012]\",\"2013_[yr2013]\",\"2014_[yr2014]\",\"2015_[yr2015]\",\"2016_[yr2016]\",\"2017_[yr2017]\",\"2018_[yr2018]\",\"2019_[yr2019]\",\"2020_[yr2020]\",\"2021_[yr2021]\"],\"xaxis\":\"x\",\"y\":[0.925248116,1.052482902,2.03761187,4.935715757,4.786125749,5.109669771,5.415103319,5.501357001,5.470360545,5.381985195,14.54392552,18.08815585,39.67482109,40.97271307,42.2984343,46.89983586,48.79644016,50.99230249,53.27365544,55.64636296,null],\"yaxis\":\"y\",\"type\":\"scattergl\"},{\"hovertemplate\":\"country_name=South Africa<br>Year=%{x}<br>indicator=%{y}<extra></extra>\",\"legendgroup\":\"South Africa\",\"line\":{\"color\":\"#1F77B4\",\"dash\":\"solid\"},\"marker\":{\"symbol\":\"circle\"},\"mode\":\"lines\",\"name\":\"South Africa\",\"showlegend\":true,\"x\":[\"2001_[yr2001]\",\"2002_[yr2002]\",\"2003_[yr2003]\",\"2004_[yr2004]\",\"2005_[yr2005]\",\"2006_[yr2006]\",\"2007_[yr2007]\",\"2008_[yr2008]\",\"2009_[yr2009]\",\"2010_[yr2010]\",\"2011_[yr2011]\",\"2012_[yr2012]\",\"2013_[yr2013]\",\"2014_[yr2014]\",\"2015_[yr2015]\",\"2016_[yr2016]\",\"2017_[yr2017]\",\"2018_[yr2018]\",\"2019_[yr2019]\",\"2020_[yr2020]\",\"2021_[yr2021]\"],\"xaxis\":\"x\",\"y\":[23.6706132,29.68955349,36.0879498,44.06489862,70.92634029,81.79509695,86.11605769,90.39871075,91.99435363,98.3502263,123.0680361,129.4540207,143.1726577,145.3513872,158.8829468,146.6221873,155.2323957,159.9306644,165.5999383,161.7965917,null],\"yaxis\":\"y\",\"type\":\"scattergl\"},{\"hovertemplate\":\"country_name=South Sudan<br>Year=%{x}<br>indicator=%{y}<extra></extra>\",\"legendgroup\":\"South Sudan\",\"line\":{\"color\":\"#FF7F0E\",\"dash\":\"solid\"},\"marker\":{\"symbol\":\"circle\"},\"mode\":\"lines\",\"name\":\"South Sudan\",\"showlegend\":true,\"x\":[\"2001_[yr2001]\",\"2002_[yr2002]\",\"2003_[yr2003]\",\"2004_[yr2004]\",\"2005_[yr2005]\",\"2006_[yr2006]\",\"2007_[yr2007]\",\"2008_[yr2008]\",\"2009_[yr2009]\",\"2010_[yr2010]\",\"2011_[yr2011]\",\"2012_[yr2012]\",\"2013_[yr2013]\",\"2014_[yr2014]\",\"2015_[yr2015]\",\"2016_[yr2016]\",\"2017_[yr2017]\",\"2018_[yr2018]\",\"2019_[yr2019]\",\"2020_[yr2020]\",\"2021_[yr2021]\"],\"xaxis\":\"x\",\"y\":[null,null,null,null,null,null,null,null,null,15.77558453,18.30998996,22.74154462,27.55401599,27.24897867,27.05386827,24.92495281,25.56130126,17.45870759,20.08628008,12.00672698,null],\"yaxis\":\"y\",\"type\":\"scattergl\"},{\"hovertemplate\":\"country_name=Sudan<br>Year=%{x}<br>indicator=%{y}<extra></extra>\",\"legendgroup\":\"Sudan\",\"line\":{\"color\":\"#2CA02C\",\"dash\":\"solid\"},\"marker\":{\"symbol\":\"circle\"},\"mode\":\"lines\",\"name\":\"Sudan\",\"showlegend\":true,\"x\":[\"2001_[yr2001]\",\"2002_[yr2002]\",\"2003_[yr2003]\",\"2004_[yr2004]\",\"2005_[yr2005]\",\"2006_[yr2006]\",\"2007_[yr2007]\",\"2008_[yr2008]\",\"2009_[yr2009]\",\"2010_[yr2010]\",\"2011_[yr2011]\",\"2012_[yr2012]\",\"2013_[yr2013]\",\"2014_[yr2014]\",\"2015_[yr2015]\",\"2016_[yr2016]\",\"2017_[yr2017]\",\"2018_[yr2018]\",\"2019_[yr2019]\",\"2020_[yr2020]\",\"2021_[yr2021]\"],\"xaxis\":\"x\",\"y\":[0.30171236,0.53902743,1.448593733,2.801567744,4.749691364,11.83527483,20.20390523,28.68925131,35.73563389,52.37581181,70.88093666,76.41808263,74.60472776,73.19201515,71.81590856,69.78439192,70.18317784,72.00791416,77.11203717,80.26408427,null],\"yaxis\":\"y\",\"type\":\"scattergl\"},{\"hovertemplate\":\"country_name=Tanzania<br>Year=%{x}<br>indicator=%{y}<extra></extra>\",\"legendgroup\":\"Tanzania\",\"line\":{\"color\":\"#D62728\",\"dash\":\"solid\"},\"marker\":{\"symbol\":\"circle\"},\"mode\":\"lines\",\"name\":\"Tanzania\",\"showlegend\":true,\"x\":[\"2001_[yr2001]\",\"2002_[yr2002]\",\"2003_[yr2003]\",\"2004_[yr2004]\",\"2005_[yr2005]\",\"2006_[yr2006]\",\"2007_[yr2007]\",\"2008_[yr2008]\",\"2009_[yr2009]\",\"2010_[yr2010]\",\"2011_[yr2011]\",\"2012_[yr2012]\",\"2013_[yr2013]\",\"2014_[yr2014]\",\"2015_[yr2015]\",\"2016_[yr2016]\",\"2017_[yr2017]\",\"2018_[yr2018]\",\"2019_[yr2019]\",\"2020_[yr2020]\",\"2021_[yr2021]\"],\"xaxis\":\"x\",\"y\":[0.801376008,1.717454764,3.572039702,5.195323984,7.708648459,14.18252749,20.28444734,31.07662446,40.55707231,47.3179195,56.19549248,57.8480982,56.60282982,63.77561693,77.04656442,75.48495237,73.09478999,77.24135223,82.20817408,85.74688799,null],\"yaxis\":\"y\",\"type\":\"scattergl\"},{\"hovertemplate\":\"country_name=Togo<br>Year=%{x}<br>indicator=%{y}<extra></extra>\",\"legendgroup\":\"Togo\",\"line\":{\"color\":\"#9467BD\",\"dash\":\"solid\"},\"marker\":{\"symbol\":\"circle\"},\"mode\":\"lines\",\"name\":\"Togo\",\"showlegend\":true,\"x\":[\"2001_[yr2001]\",\"2002_[yr2002]\",\"2003_[yr2003]\",\"2004_[yr2004]\",\"2005_[yr2005]\",\"2006_[yr2006]\",\"2007_[yr2007]\",\"2008_[yr2008]\",\"2009_[yr2009]\",\"2010_[yr2010]\",\"2011_[yr2011]\",\"2012_[yr2012]\",\"2013_[yr2013]\",\"2014_[yr2014]\",\"2015_[yr2015]\",\"2016_[yr2016]\",\"2017_[yr2017]\",\"2018_[yr2018]\",\"2019_[yr2019]\",\"2020_[yr2020]\",\"2021_[yr2021]\"],\"xaxis\":\"x\",\"y\":[1.876518375,3.177545025,4.570052483,6.082282965,7.727420148,12.2855239,20.10552063,25.47156041,34.99266898,40.52340517,40.86352778,48.89773243,61.29638252,63.26861866,66.2993479,73.30838776,78.84556082,77.88610174,77.19500701,78.71394191,null],\"yaxis\":\"y\",\"type\":\"scattergl\"},{\"hovertemplate\":\"country_name=Uganda<br>Year=%{x}<br>indicator=%{y}<extra></extra>\",\"legendgroup\":\"Uganda\",\"line\":{\"color\":\"#8C564B\",\"dash\":\"solid\"},\"marker\":{\"symbol\":\"circle\"},\"mode\":\"lines\",\"name\":\"Uganda\",\"showlegend\":true,\"x\":[\"2001_[yr2001]\",\"2002_[yr2002]\",\"2003_[yr2003]\",\"2004_[yr2004]\",\"2005_[yr2005]\",\"2006_[yr2006]\",\"2007_[yr2007]\",\"2008_[yr2008]\",\"2009_[yr2009]\",\"2010_[yr2010]\",\"2011_[yr2011]\",\"2012_[yr2012]\",\"2013_[yr2013]\",\"2014_[yr2014]\",\"2015_[yr2015]\",\"2016_[yr2016]\",\"2017_[yr2017]\",\"2018_[yr2018]\",\"2019_[yr2019]\",\"2020_[yr2020]\",\"2021_[yr2021]\"],\"xaxis\":\"x\",\"y\":[1.162492812,1.562784534,2.987500035,4.343693745,4.751019385,7.030851575,14.22787055,28.11165291,29.87394646,39.5590167,49.87635009,47.32928353,50.62023108,55.17502217,52.89740582,57.60142849,60.60467775,57.27260732,57.36556563,60.53427508,null],\"yaxis\":\"y\",\"type\":\"scattergl\"},{\"hovertemplate\":\"country_name=Zambia<br>Year=%{x}<br>indicator=%{y}<extra></extra>\",\"legendgroup\":\"Zambia\",\"line\":{\"color\":\"#E377C2\",\"dash\":\"solid\"},\"marker\":{\"symbol\":\"circle\"},\"mode\":\"lines\",\"name\":\"Zambia\",\"showlegend\":true,\"x\":[\"2001_[yr2001]\",\"2002_[yr2002]\",\"2003_[yr2003]\",\"2004_[yr2004]\",\"2005_[yr2005]\",\"2006_[yr2006]\",\"2007_[yr2007]\",\"2008_[yr2008]\",\"2009_[yr2009]\",\"2010_[yr2010]\",\"2011_[yr2011]\",\"2012_[yr2012]\",\"2013_[yr2013]\",\"2014_[yr2014]\",\"2015_[yr2015]\",\"2016_[yr2016]\",\"2017_[yr2017]\",\"2018_[yr2018]\",\"2019_[yr2019]\",\"2020_[yr2020]\",\"2021_[yr2021]\"],\"xaxis\":\"x\",\"y\":[1.133537339,1.267734493,2.140938991,4.020157494,8.008934024,13.6634993,21.10721319,27.54403033,33.34571055,40.03378954,58.2217415,72.75884453,69.64640308,65.68185874,72.78457238,73.43823048,79.73690961,89.15704437,96.41441171,103.9178349,null],\"yaxis\":\"y\",\"type\":\"scattergl\"},{\"hovertemplate\":\"country_name=Zimbabwe<br>Year=%{x}<br>indicator=%{y}<extra></extra>\",\"legendgroup\":\"Zimbabwe\",\"line\":{\"color\":\"#7F7F7F\",\"dash\":\"solid\"},\"marker\":{\"symbol\":\"circle\"},\"mode\":\"lines\",\"name\":\"Zimbabwe\",\"showlegend\":true,\"x\":[\"2001_[yr2001]\",\"2002_[yr2002]\",\"2003_[yr2003]\",\"2004_[yr2004]\",\"2005_[yr2005]\",\"2006_[yr2006]\",\"2007_[yr2007]\",\"2008_[yr2008]\",\"2009_[yr2009]\",\"2010_[yr2010]\",\"2011_[yr2011]\",\"2012_[yr2012]\",\"2013_[yr2013]\",\"2014_[yr2014]\",\"2015_[yr2015]\",\"2016_[yr2016]\",\"2017_[yr2017]\",\"2018_[yr2018]\",\"2019_[yr2019]\",\"2020_[yr2020]\",\"2021_[yr2021]\"],\"xaxis\":\"x\",\"y\":[2.633380281,2.833953334,3.034920729,3.541997645,5.358335088,6.985698891,10.00050425,13.36656933,31.85926555,60.64079363,71.34923418,96.17835099,102.1182479,86.83967351,92.34710538,91.79345804,98.98507333,89.40486891,90.10228966,88.75580606,null],\"yaxis\":\"y\",\"type\":\"scattergl\"}],                        {\"template\":{\"data\":{\"barpolar\":[{\"marker\":{\"line\":{\"color\":\"white\",\"width\":0.5},\"pattern\":{\"fillmode\":\"overlay\",\"size\":10,\"solidity\":0.2}},\"type\":\"barpolar\"}],\"bar\":[{\"error_x\":{\"color\":\"rgb(36,36,36)\"},\"error_y\":{\"color\":\"rgb(36,36,36)\"},\"marker\":{\"line\":{\"color\":\"white\",\"width\":0.5},\"pattern\":{\"fillmode\":\"overlay\",\"size\":10,\"solidity\":0.2}},\"type\":\"bar\"}],\"carpet\":[{\"aaxis\":{\"endlinecolor\":\"rgb(36,36,36)\",\"gridcolor\":\"white\",\"linecolor\":\"white\",\"minorgridcolor\":\"white\",\"startlinecolor\":\"rgb(36,36,36)\"},\"baxis\":{\"endlinecolor\":\"rgb(36,36,36)\",\"gridcolor\":\"white\",\"linecolor\":\"white\",\"minorgridcolor\":\"white\",\"startlinecolor\":\"rgb(36,36,36)\"},\"type\":\"carpet\"}],\"choropleth\":[{\"colorbar\":{\"outlinewidth\":1,\"tickcolor\":\"rgb(36,36,36)\",\"ticks\":\"outside\"},\"type\":\"choropleth\"}],\"contourcarpet\":[{\"colorbar\":{\"outlinewidth\":1,\"tickcolor\":\"rgb(36,36,36)\",\"ticks\":\"outside\"},\"type\":\"contourcarpet\"}],\"contour\":[{\"colorbar\":{\"outlinewidth\":1,\"tickcolor\":\"rgb(36,36,36)\",\"ticks\":\"outside\"},\"colorscale\":[[0.0,\"#440154\"],[0.1111111111111111,\"#482878\"],[0.2222222222222222,\"#3e4989\"],[0.3333333333333333,\"#31688e\"],[0.4444444444444444,\"#26828e\"],[0.5555555555555556,\"#1f9e89\"],[0.6666666666666666,\"#35b779\"],[0.7777777777777778,\"#6ece58\"],[0.8888888888888888,\"#b5de2b\"],[1.0,\"#fde725\"]],\"type\":\"contour\"}],\"heatmapgl\":[{\"colorbar\":{\"outlinewidth\":1,\"tickcolor\":\"rgb(36,36,36)\",\"ticks\":\"outside\"},\"colorscale\":[[0.0,\"#440154\"],[0.1111111111111111,\"#482878\"],[0.2222222222222222,\"#3e4989\"],[0.3333333333333333,\"#31688e\"],[0.4444444444444444,\"#26828e\"],[0.5555555555555556,\"#1f9e89\"],[0.6666666666666666,\"#35b779\"],[0.7777777777777778,\"#6ece58\"],[0.8888888888888888,\"#b5de2b\"],[1.0,\"#fde725\"]],\"type\":\"heatmapgl\"}],\"heatmap\":[{\"colorbar\":{\"outlinewidth\":1,\"tickcolor\":\"rgb(36,36,36)\",\"ticks\":\"outside\"},\"colorscale\":[[0.0,\"#440154\"],[0.1111111111111111,\"#482878\"],[0.2222222222222222,\"#3e4989\"],[0.3333333333333333,\"#31688e\"],[0.4444444444444444,\"#26828e\"],[0.5555555555555556,\"#1f9e89\"],[0.6666666666666666,\"#35b779\"],[0.7777777777777778,\"#6ece58\"],[0.8888888888888888,\"#b5de2b\"],[1.0,\"#fde725\"]],\"type\":\"heatmap\"}],\"histogram2dcontour\":[{\"colorbar\":{\"outlinewidth\":1,\"tickcolor\":\"rgb(36,36,36)\",\"ticks\":\"outside\"},\"colorscale\":[[0.0,\"#440154\"],[0.1111111111111111,\"#482878\"],[0.2222222222222222,\"#3e4989\"],[0.3333333333333333,\"#31688e\"],[0.4444444444444444,\"#26828e\"],[0.5555555555555556,\"#1f9e89\"],[0.6666666666666666,\"#35b779\"],[0.7777777777777778,\"#6ece58\"],[0.8888888888888888,\"#b5de2b\"],[1.0,\"#fde725\"]],\"type\":\"histogram2dcontour\"}],\"histogram2d\":[{\"colorbar\":{\"outlinewidth\":1,\"tickcolor\":\"rgb(36,36,36)\",\"ticks\":\"outside\"},\"colorscale\":[[0.0,\"#440154\"],[0.1111111111111111,\"#482878\"],[0.2222222222222222,\"#3e4989\"],[0.3333333333333333,\"#31688e\"],[0.4444444444444444,\"#26828e\"],[0.5555555555555556,\"#1f9e89\"],[0.6666666666666666,\"#35b779\"],[0.7777777777777778,\"#6ece58\"],[0.8888888888888888,\"#b5de2b\"],[1.0,\"#fde725\"]],\"type\":\"histogram2d\"}],\"histogram\":[{\"marker\":{\"line\":{\"color\":\"white\",\"width\":0.6}},\"type\":\"histogram\"}],\"mesh3d\":[{\"colorbar\":{\"outlinewidth\":1,\"tickcolor\":\"rgb(36,36,36)\",\"ticks\":\"outside\"},\"type\":\"mesh3d\"}],\"parcoords\":[{\"line\":{\"colorbar\":{\"outlinewidth\":1,\"tickcolor\":\"rgb(36,36,36)\",\"ticks\":\"outside\"}},\"type\":\"parcoords\"}],\"pie\":[{\"automargin\":true,\"type\":\"pie\"}],\"scatter3d\":[{\"line\":{\"colorbar\":{\"outlinewidth\":1,\"tickcolor\":\"rgb(36,36,36)\",\"ticks\":\"outside\"}},\"marker\":{\"colorbar\":{\"outlinewidth\":1,\"tickcolor\":\"rgb(36,36,36)\",\"ticks\":\"outside\"}},\"type\":\"scatter3d\"}],\"scattercarpet\":[{\"marker\":{\"colorbar\":{\"outlinewidth\":1,\"tickcolor\":\"rgb(36,36,36)\",\"ticks\":\"outside\"}},\"type\":\"scattercarpet\"}],\"scattergeo\":[{\"marker\":{\"colorbar\":{\"outlinewidth\":1,\"tickcolor\":\"rgb(36,36,36)\",\"ticks\":\"outside\"}},\"type\":\"scattergeo\"}],\"scattergl\":[{\"marker\":{\"colorbar\":{\"outlinewidth\":1,\"tickcolor\":\"rgb(36,36,36)\",\"ticks\":\"outside\"}},\"type\":\"scattergl\"}],\"scattermapbox\":[{\"marker\":{\"colorbar\":{\"outlinewidth\":1,\"tickcolor\":\"rgb(36,36,36)\",\"ticks\":\"outside\"}},\"type\":\"scattermapbox\"}],\"scatterpolargl\":[{\"marker\":{\"colorbar\":{\"outlinewidth\":1,\"tickcolor\":\"rgb(36,36,36)\",\"ticks\":\"outside\"}},\"type\":\"scatterpolargl\"}],\"scatterpolar\":[{\"marker\":{\"colorbar\":{\"outlinewidth\":1,\"tickcolor\":\"rgb(36,36,36)\",\"ticks\":\"outside\"}},\"type\":\"scatterpolar\"}],\"scatter\":[{\"marker\":{\"colorbar\":{\"outlinewidth\":1,\"tickcolor\":\"rgb(36,36,36)\",\"ticks\":\"outside\"}},\"type\":\"scatter\"}],\"scatterternary\":[{\"marker\":{\"colorbar\":{\"outlinewidth\":1,\"tickcolor\":\"rgb(36,36,36)\",\"ticks\":\"outside\"}},\"type\":\"scatterternary\"}],\"surface\":[{\"colorbar\":{\"outlinewidth\":1,\"tickcolor\":\"rgb(36,36,36)\",\"ticks\":\"outside\"},\"colorscale\":[[0.0,\"#440154\"],[0.1111111111111111,\"#482878\"],[0.2222222222222222,\"#3e4989\"],[0.3333333333333333,\"#31688e\"],[0.4444444444444444,\"#26828e\"],[0.5555555555555556,\"#1f9e89\"],[0.6666666666666666,\"#35b779\"],[0.7777777777777778,\"#6ece58\"],[0.8888888888888888,\"#b5de2b\"],[1.0,\"#fde725\"]],\"type\":\"surface\"}],\"table\":[{\"cells\":{\"fill\":{\"color\":\"rgb(237,237,237)\"},\"line\":{\"color\":\"white\"}},\"header\":{\"fill\":{\"color\":\"rgb(217,217,217)\"},\"line\":{\"color\":\"white\"}},\"type\":\"table\"}]},\"layout\":{\"annotationdefaults\":{\"arrowhead\":0,\"arrowwidth\":1},\"autotypenumbers\":\"strict\",\"coloraxis\":{\"colorbar\":{\"outlinewidth\":1,\"tickcolor\":\"rgb(36,36,36)\",\"ticks\":\"outside\"}},\"colorscale\":{\"diverging\":[[0.0,\"rgb(103,0,31)\"],[0.1,\"rgb(178,24,43)\"],[0.2,\"rgb(214,96,77)\"],[0.3,\"rgb(244,165,130)\"],[0.4,\"rgb(253,219,199)\"],[0.5,\"rgb(247,247,247)\"],[0.6,\"rgb(209,229,240)\"],[0.7,\"rgb(146,197,222)\"],[0.8,\"rgb(67,147,195)\"],[0.9,\"rgb(33,102,172)\"],[1.0,\"rgb(5,48,97)\"]],\"sequential\":[[0.0,\"#440154\"],[0.1111111111111111,\"#482878\"],[0.2222222222222222,\"#3e4989\"],[0.3333333333333333,\"#31688e\"],[0.4444444444444444,\"#26828e\"],[0.5555555555555556,\"#1f9e89\"],[0.6666666666666666,\"#35b779\"],[0.7777777777777778,\"#6ece58\"],[0.8888888888888888,\"#b5de2b\"],[1.0,\"#fde725\"]],\"sequentialminus\":[[0.0,\"#440154\"],[0.1111111111111111,\"#482878\"],[0.2222222222222222,\"#3e4989\"],[0.3333333333333333,\"#31688e\"],[0.4444444444444444,\"#26828e\"],[0.5555555555555556,\"#1f9e89\"],[0.6666666666666666,\"#35b779\"],[0.7777777777777778,\"#6ece58\"],[0.8888888888888888,\"#b5de2b\"],[1.0,\"#fde725\"]]},\"colorway\":[\"#1F77B4\",\"#FF7F0E\",\"#2CA02C\",\"#D62728\",\"#9467BD\",\"#8C564B\",\"#E377C2\",\"#7F7F7F\",\"#BCBD22\",\"#17BECF\"],\"font\":{\"color\":\"rgb(36,36,36)\"},\"geo\":{\"bgcolor\":\"white\",\"lakecolor\":\"white\",\"landcolor\":\"white\",\"showlakes\":true,\"showland\":true,\"subunitcolor\":\"white\"},\"hoverlabel\":{\"align\":\"left\"},\"hovermode\":\"closest\",\"mapbox\":{\"style\":\"light\"},\"paper_bgcolor\":\"white\",\"plot_bgcolor\":\"white\",\"polar\":{\"angularaxis\":{\"gridcolor\":\"rgb(232,232,232)\",\"linecolor\":\"rgb(36,36,36)\",\"showgrid\":false,\"showline\":true,\"ticks\":\"outside\"},\"bgcolor\":\"white\",\"radialaxis\":{\"gridcolor\":\"rgb(232,232,232)\",\"linecolor\":\"rgb(36,36,36)\",\"showgrid\":false,\"showline\":true,\"ticks\":\"outside\"}},\"scene\":{\"xaxis\":{\"backgroundcolor\":\"white\",\"gridcolor\":\"rgb(232,232,232)\",\"gridwidth\":2,\"linecolor\":\"rgb(36,36,36)\",\"showbackground\":true,\"showgrid\":false,\"showline\":true,\"ticks\":\"outside\",\"zeroline\":false,\"zerolinecolor\":\"rgb(36,36,36)\"},\"yaxis\":{\"backgroundcolor\":\"white\",\"gridcolor\":\"rgb(232,232,232)\",\"gridwidth\":2,\"linecolor\":\"rgb(36,36,36)\",\"showbackground\":true,\"showgrid\":false,\"showline\":true,\"ticks\":\"outside\",\"zeroline\":false,\"zerolinecolor\":\"rgb(36,36,36)\"},\"zaxis\":{\"backgroundcolor\":\"white\",\"gridcolor\":\"rgb(232,232,232)\",\"gridwidth\":2,\"linecolor\":\"rgb(36,36,36)\",\"showbackground\":true,\"showgrid\":false,\"showline\":true,\"ticks\":\"outside\",\"zeroline\":false,\"zerolinecolor\":\"rgb(36,36,36)\"}},\"shapedefaults\":{\"fillcolor\":\"black\",\"line\":{\"width\":0},\"opacity\":0.3},\"ternary\":{\"aaxis\":{\"gridcolor\":\"rgb(232,232,232)\",\"linecolor\":\"rgb(36,36,36)\",\"showgrid\":false,\"showline\":true,\"ticks\":\"outside\"},\"baxis\":{\"gridcolor\":\"rgb(232,232,232)\",\"linecolor\":\"rgb(36,36,36)\",\"showgrid\":false,\"showline\":true,\"ticks\":\"outside\"},\"bgcolor\":\"white\",\"caxis\":{\"gridcolor\":\"rgb(232,232,232)\",\"linecolor\":\"rgb(36,36,36)\",\"showgrid\":false,\"showline\":true,\"ticks\":\"outside\"}},\"title\":{\"x\":0.05},\"xaxis\":{\"automargin\":true,\"gridcolor\":\"rgb(232,232,232)\",\"linecolor\":\"rgb(36,36,36)\",\"showgrid\":false,\"showline\":true,\"ticks\":\"outside\",\"title\":{\"standoff\":15},\"zeroline\":false,\"zerolinecolor\":\"rgb(36,36,36)\"},\"yaxis\":{\"automargin\":true,\"gridcolor\":\"rgb(232,232,232)\",\"linecolor\":\"rgb(36,36,36)\",\"showgrid\":false,\"showline\":true,\"ticks\":\"outside\",\"title\":{\"standoff\":15},\"zeroline\":false,\"zerolinecolor\":\"rgb(36,36,36)\"}}},\"xaxis\":{\"anchor\":\"y\",\"domain\":[0.0,1.0],\"title\":{\"text\":\"Year\"}},\"yaxis\":{\"anchor\":\"x\",\"domain\":[0.0,1.0],\"title\":{\"text\":\"penetration rate\"}},\"legend\":{\"title\":{\"text\":\"country_name\"},\"tracegroupgap\":0},\"margin\":{\"t\":60},\"title\":{\"font\":{\"size\":15},\"text\":\"Africa Countries Mobile Penetration rate\",\"x\":0.5,\"xanchor\":\"center\",\"yanchor\":\"top\"}},                        {\"responsive\": true}                    ).then(function(){\n",
              "                            \n",
              "var gd = document.getElementById('bbe87c7f-3c06-42b1-bf64-1d6543b4e895');\n",
              "var x = new MutationObserver(function (mutations, observer) {{\n",
              "        var display = window.getComputedStyle(gd).display;\n",
              "        if (!display || display === 'none') {{\n",
              "            console.log([gd, 'removed!']);\n",
              "            Plotly.purge(gd);\n",
              "            observer.disconnect();\n",
              "        }}\n",
              "}});\n",
              "\n",
              "// Listen for the removal of the full notebook cells\n",
              "var notebookContainer = gd.closest('#notebook-container');\n",
              "if (notebookContainer) {{\n",
              "    x.observe(notebookContainer, {childList: true});\n",
              "}}\n",
              "\n",
              "// Listen for the clearing of the current output cell\n",
              "var outputEl = gd.closest('.output');\n",
              "if (outputEl) {{\n",
              "    x.observe(outputEl, {childList: true});\n",
              "}}\n",
              "\n",
              "                        })                };                            </script>        </div>\n",
              "</body>\n",
              "</html>"
            ]
          },
          "metadata": {}
        }
      ]
    },
    {
      "cell_type": "code",
      "source": [
        "username = 'john.karuria' # your username\n",
        "api_key = 'uUob4ivt9uUABUHBWd8s' # your api key - go to profile > settings > regenerate key\n",
        "chart_studio.tools.set_credentials_file(username=username, api_key=api_key)"
      ],
      "metadata": {
        "id": "W-6U5wj0ovfv"
      },
      "execution_count": 50,
      "outputs": []
    },
    {
      "cell_type": "code",
      "source": [
        "import chart_studio.plotly as py\n",
        "py.plot(country_mobile_penetration, filename = 'My Visusalisation3', auto_open=True)"
      ],
      "metadata": {
        "colab": {
          "base_uri": "https://localhost:8080/",
          "height": 35
        },
        "id": "9Bw2o3EJoz1B",
        "outputId": "e7e0067e-5f03-44f3-e8b8-171736f12769"
      },
      "execution_count": 51,
      "outputs": [
        {
          "output_type": "execute_result",
          "data": {
            "text/plain": [
              "'https://plotly.com/~john.karuria/16/'"
            ],
            "application/vnd.google.colaboratory.intrinsic+json": {
              "type": "string"
            }
          },
          "metadata": {},
          "execution_count": 51
        }
      ]
    }
  ]
}